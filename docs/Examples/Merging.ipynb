{
 "cells": [
  {
   "cell_type": "markdown",
   "id": "1635ca42",
   "metadata": {},
   "source": [
    "# Working With Results\n",
    "---"
   ]
  },
  {
   "cell_type": "markdown",
   "id": "14ec15a1",
   "metadata": {},
   "source": [
    "Before we do any work, we need to import several functions from cdapython:\n",
    "- `Q` and `query` which power the search\n",
    "- `columns` which lets us view entity field names\n",
    "- `unique_terms` which lets view entity field contents\n",
    "\n",
    "We're also asking cdapython to report it's version so we can be sure we're using the one we mean to."
   ]
  },
  {
   "cell_type": "code",
   "execution_count": 1,
   "id": "5c53b31b",
   "metadata": {},
   "outputs": [
    {
     "name": "stdout",
     "output_type": "stream",
     "text": [
      "2022.6.28\n"
     ]
    }
   ],
   "source": [
    "from cdapython import Q, columns, unique_terms, query\n",
    "import pandas as pd\n",
    "print(Q.get_version())"
   ]
  },
  {
   "cell_type": "code",
   "execution_count": 2,
   "id": "4ffc000a",
   "metadata": {},
   "outputs": [],
   "source": [
    "myquery = Q('ResearchSubject.primary_diagnosis_site = \"brain\" AND ResearchSubject.primary_diagnosis_condition = \"Pediatric/AYA Brain Tumors\"')\n"
   ]
  },
  {
   "cell_type": "code",
   "execution_count": 3,
   "id": "ff53a1e3",
   "metadata": {},
   "outputs": [
    {
     "data": {
      "text/html": [
       "<pre style=\"white-space:pre;overflow-x:auto;line-height:normal;font-family:Menlo,'DejaVu Sans Mono',consolas,'Courier New',monospace\">Getting results from database\n",
       "\n",
       "</pre>\n"
      ],
      "text/plain": [
       "Getting results from database\n",
       "\n"
      ]
     },
     "metadata": {},
     "output_type": "display_data"
    },
    {
     "name": "stdout",
     "output_type": "stream",
     "text": [
      "Total execution time: 3675 ms\n"
     ]
    },
    {
     "data": {
      "text/html": [
       "<pre style=\"white-space:pre;overflow-x:auto;line-height:normal;font-family:Menlo,'DejaVu Sans Mono',consolas,'Courier New',monospace\">    total : <span style=\"color: #008080; text-decoration-color: #008080; font-weight: bold\">199</span>     \n",
       "</pre>\n"
      ],
      "text/plain": [
       "    total : \u001b[1;36m199\u001b[0m     \n"
      ]
     },
     "metadata": {},
     "output_type": "display_data"
    },
    {
     "data": {
      "text/html": [
       "<pre style=\"white-space:pre;overflow-x:auto;line-height:normal;font-family:Menlo,'DejaVu Sans Mono',consolas,'Courier New',monospace\">    files : <span style=\"color: #008080; text-decoration-color: #008080; font-weight: bold\">1288</span>    \n",
       "</pre>\n"
      ],
      "text/plain": [
       "    files : \u001b[1;36m1288\u001b[0m    \n"
      ]
     },
     "metadata": {},
     "output_type": "display_data"
    },
    {
     "data": {
      "text/html": [
       "<style type=\"text/css\">\n",
       "#T_c8e53_ th {\n",
       "  background-color: #000066;\n",
       "  color: white;\n",
       "  text-align: left;\n",
       "}\n",
       "#T_c8e53_ td {\n",
       "  text-align: left;\n",
       "  border-bottom: 1px solid black;\n",
       "}\n",
       "</style>\n",
       "<table id=\"T_c8e53_\" style='display:inline'>\n",
       "  <thead>\n",
       "    <tr>\n",
       "      <th class=\"col_heading level0 col0\" >system</th>\n",
       "      <th class=\"col_heading level0 col1\" >count</th>\n",
       "    </tr>\n",
       "  </thead>\n",
       "  <tbody>\n",
       "    <tr>\n",
       "      <td id=\"T_c8e53_row0_col0\" class=\"data row0 col0\" >PDC</td>\n",
       "      <td id=\"T_c8e53_row0_col1\" class=\"data row0 col1\" >199</td>\n",
       "    </tr>\n",
       "  </tbody>\n",
       "</table>\n",
       "<style type=\"text/css\">\n",
       "#T_09e66_ th {\n",
       "  background-color: #000066;\n",
       "  color: white;\n",
       "  text-align: left;\n",
       "}\n",
       "#T_09e66_ td {\n",
       "  text-align: left;\n",
       "  border-bottom: 1px solid black;\n",
       "}\n",
       "</style>\n",
       "<table id=\"T_09e66_\" style='display:inline'>\n",
       "  <thead>\n",
       "    <tr>\n",
       "      <th class=\"col_heading level0 col0\" >primary_diagnosis_condition</th>\n",
       "      <th class=\"col_heading level0 col1\" >count</th>\n",
       "    </tr>\n",
       "  </thead>\n",
       "  <tbody>\n",
       "    <tr>\n",
       "      <td id=\"T_09e66_row0_col0\" class=\"data row0 col0\" >Pediatric/AYA Brain Tumors</td>\n",
       "      <td id=\"T_09e66_row0_col1\" class=\"data row0 col1\" >199</td>\n",
       "    </tr>\n",
       "  </tbody>\n",
       "</table>\n",
       "<style type=\"text/css\">\n",
       "#T_fece9_ th {\n",
       "  background-color: #000066;\n",
       "  color: white;\n",
       "  text-align: left;\n",
       "}\n",
       "#T_fece9_ td {\n",
       "  text-align: left;\n",
       "  border-bottom: 1px solid black;\n",
       "}\n",
       "</style>\n",
       "<table id=\"T_fece9_\" style='display:inline'>\n",
       "  <thead>\n",
       "    <tr>\n",
       "      <th class=\"col_heading level0 col0\" >primary_diagnosis_site</th>\n",
       "      <th class=\"col_heading level0 col1\" >count</th>\n",
       "    </tr>\n",
       "  </thead>\n",
       "  <tbody>\n",
       "    <tr>\n",
       "      <td id=\"T_fece9_row0_col0\" class=\"data row0 col0\" >Brain</td>\n",
       "      <td id=\"T_fece9_row0_col1\" class=\"data row0 col1\" >199</td>\n",
       "    </tr>\n",
       "  </tbody>\n",
       "</table>\n"
      ]
     },
     "metadata": {},
     "output_type": "display_data"
    },
    {
     "data": {
      "text/plain": []
     },
     "execution_count": 3,
     "metadata": {},
     "output_type": "execute_result"
    }
   ],
   "source": [
    " myquery.researchsubject.count.run()"
   ]
  },
  {
   "cell_type": "code",
   "execution_count": 4,
   "id": "877d0d8d",
   "metadata": {
    "scrolled": true
   },
   "outputs": [
    {
     "data": {
      "text/html": [
       "<pre style=\"white-space:pre;overflow-x:auto;line-height:normal;font-family:Menlo,'DejaVu Sans Mono',consolas,'Courier New',monospace\">Getting results from database\n",
       "\n",
       "</pre>\n"
      ],
      "text/plain": [
       "Getting results from database\n",
       "\n"
      ]
     },
     "metadata": {},
     "output_type": "display_data"
    },
    {
     "name": "stdout",
     "output_type": "stream",
     "text": [
      "Total execution time: 3355 ms\n"
     ]
    },
    {
     "data": {
      "text/html": [
       "<pre style=\"white-space:pre;overflow-x:auto;line-height:normal;font-family:Menlo,'DejaVu Sans Mono',consolas,'Courier New',monospace\">    total : <span style=\"color: #008080; text-decoration-color: #008080; font-weight: bold\">219</span>     \n",
       "</pre>\n"
      ],
      "text/plain": [
       "    total : \u001b[1;36m219\u001b[0m     \n"
      ]
     },
     "metadata": {},
     "output_type": "display_data"
    },
    {
     "data": {
      "text/html": [
       "<style type=\"text/css\">\n",
       "#T_fc7c3_ th {\n",
       "  background-color: #000066;\n",
       "  color: white;\n",
       "  text-align: left;\n",
       "}\n",
       "#T_fc7c3_ td {\n",
       "  text-align: left;\n",
       "  border-bottom: 1px solid black;\n",
       "}\n",
       "</style>\n",
       "<table id=\"T_fc7c3_\" style='display:inline'>\n",
       "  <thead>\n",
       "    <tr>\n",
       "      <th class=\"col_heading level0 col0\" >system</th>\n",
       "      <th class=\"col_heading level0 col1\" >count</th>\n",
       "    </tr>\n",
       "  </thead>\n",
       "  <tbody>\n",
       "    <tr>\n",
       "      <td id=\"T_fc7c3_row0_col0\" class=\"data row0 col0\" >PDC</td>\n",
       "      <td id=\"T_fc7c3_row0_col1\" class=\"data row0 col1\" >219</td>\n",
       "    </tr>\n",
       "  </tbody>\n",
       "</table>\n",
       "<style type=\"text/css\">\n",
       "#T_d642d_ th {\n",
       "  background-color: #000066;\n",
       "  color: white;\n",
       "  text-align: left;\n",
       "}\n",
       "#T_d642d_ td {\n",
       "  text-align: left;\n",
       "  border-bottom: 1px solid black;\n",
       "}\n",
       "</style>\n",
       "<table id=\"T_d642d_\" style='display:inline'>\n",
       "  <thead>\n",
       "    <tr>\n",
       "      <th class=\"col_heading level0 col0\" >primary_diagnosis</th>\n",
       "      <th class=\"col_heading level0 col1\" >count</th>\n",
       "    </tr>\n",
       "  </thead>\n",
       "  <tbody>\n",
       "    <tr>\n",
       "      <td id=\"T_d642d_row0_col0\" class=\"data row0 col0\" >Glioma, NOS</td>\n",
       "      <td id=\"T_d642d_row0_col1\" class=\"data row0 col1\" >93</td>\n",
       "    </tr>\n",
       "    <tr>\n",
       "      <td id=\"T_d642d_row1_col0\" class=\"data row1 col0\" >Glioma, malignant</td>\n",
       "      <td id=\"T_d642d_row1_col1\" class=\"data row1 col1\" >26</td>\n",
       "    </tr>\n",
       "    <tr>\n",
       "      <td id=\"T_d642d_row2_col0\" class=\"data row2 col0\" >Ganglioglioma, NOS</td>\n",
       "      <td id=\"T_d642d_row2_col1\" class=\"data row2 col1\" >18</td>\n",
       "    </tr>\n",
       "    <tr>\n",
       "      <td id=\"T_d642d_row3_col0\" class=\"data row3 col0\" >Craniopharyngioma</td>\n",
       "      <td id=\"T_d642d_row3_col1\" class=\"data row3 col1\" >16</td>\n",
       "    </tr>\n",
       "    <tr>\n",
       "      <td id=\"T_d642d_row4_col0\" class=\"data row4 col0\" >Atypical teratoid/rhabdoid tumor</td>\n",
       "      <td id=\"T_d642d_row4_col1\" class=\"data row4 col1\" >12</td>\n",
       "    </tr>\n",
       "    <tr>\n",
       "      <td id=\"T_d642d_row5_col0\" class=\"data row5 col0\" >Medulloblastoma, NOS</td>\n",
       "      <td id=\"T_d642d_row5_col1\" class=\"data row5 col1\" >22</td>\n",
       "    </tr>\n",
       "    <tr>\n",
       "      <td id=\"T_d642d_row6_col0\" class=\"data row6 col0\" >Ependymoma, NOS</td>\n",
       "      <td id=\"T_d642d_row6_col1\" class=\"data row6 col1\" >32</td>\n",
       "    </tr>\n",
       "  </tbody>\n",
       "</table>\n",
       "<style type=\"text/css\">\n",
       "#T_9511e_ th {\n",
       "  background-color: #000066;\n",
       "  color: white;\n",
       "  text-align: left;\n",
       "}\n",
       "#T_9511e_ td {\n",
       "  text-align: left;\n",
       "  border-bottom: 1px solid black;\n",
       "}\n",
       "</style>\n",
       "<table id=\"T_9511e_\" style='display:inline'>\n",
       "  <thead>\n",
       "    <tr>\n",
       "      <th class=\"col_heading level0 col0\" >stage</th>\n",
       "      <th class=\"col_heading level0 col1\" >count</th>\n",
       "    </tr>\n",
       "  </thead>\n",
       "  <tbody>\n",
       "    <tr>\n",
       "      <td id=\"T_9511e_row0_col0\" class=\"data row0 col0\" >Unknown</td>\n",
       "      <td id=\"T_9511e_row0_col1\" class=\"data row0 col1\" >219</td>\n",
       "    </tr>\n",
       "  </tbody>\n",
       "</table>\n",
       "<style type=\"text/css\">\n",
       "#T_ed90d_ th {\n",
       "  background-color: #000066;\n",
       "  color: white;\n",
       "  text-align: left;\n",
       "}\n",
       "#T_ed90d_ td {\n",
       "  text-align: left;\n",
       "  border-bottom: 1px solid black;\n",
       "}\n",
       "</style>\n",
       "<table id=\"T_ed90d_\" style='display:inline'>\n",
       "  <thead>\n",
       "    <tr>\n",
       "      <th class=\"col_heading level0 col0\" >grade</th>\n",
       "      <th class=\"col_heading level0 col1\" >count</th>\n",
       "    </tr>\n",
       "  </thead>\n",
       "  <tbody>\n",
       "    <tr>\n",
       "      <td id=\"T_ed90d_row0_col0\" class=\"data row0 col0\" >G4</td>\n",
       "      <td id=\"T_ed90d_row0_col1\" class=\"data row0 col1\" >34</td>\n",
       "    </tr>\n",
       "    <tr>\n",
       "      <td id=\"T_ed90d_row1_col0\" class=\"data row1 col0\" >G1</td>\n",
       "      <td id=\"T_ed90d_row1_col1\" class=\"data row1 col1\" >98</td>\n",
       "    </tr>\n",
       "    <tr>\n",
       "      <td id=\"T_ed90d_row2_col0\" class=\"data row2 col0\" >G2</td>\n",
       "      <td id=\"T_ed90d_row2_col1\" class=\"data row2 col1\" >52</td>\n",
       "    </tr>\n",
       "    <tr>\n",
       "      <td id=\"T_ed90d_row3_col0\" class=\"data row3 col0\" >High Grade</td>\n",
       "      <td id=\"T_ed90d_row3_col1\" class=\"data row3 col1\" >26</td>\n",
       "    </tr>\n",
       "    <tr>\n",
       "      <td id=\"T_ed90d_row4_col0\" class=\"data row4 col0\" >Low Grade</td>\n",
       "      <td id=\"T_ed90d_row4_col1\" class=\"data row4 col1\" >9</td>\n",
       "    </tr>\n",
       "  </tbody>\n",
       "</table>\n"
      ]
     },
     "metadata": {},
     "output_type": "display_data"
    },
    {
     "data": {
      "text/plain": []
     },
     "execution_count": 4,
     "metadata": {},
     "output_type": "execute_result"
    }
   ],
   "source": [
    "myquery.diagnosis.count.run()\n"
   ]
  },
  {
   "cell_type": "code",
   "execution_count": 5,
   "id": "60af6613",
   "metadata": {},
   "outputs": [
    {
     "data": {
      "text/html": [
       "<pre style=\"white-space:pre;overflow-x:auto;line-height:normal;font-family:Menlo,'DejaVu Sans Mono',consolas,'Courier New',monospace\">Getting results from database\n",
       "\n",
       "</pre>\n"
      ],
      "text/plain": [
       "Getting results from database\n",
       "\n"
      ]
     },
     "metadata": {},
     "output_type": "display_data"
    },
    {
     "name": "stdout",
     "output_type": "stream",
     "text": [
      "Total execution time: 3394 ms\n"
     ]
    },
    {
     "data": {
      "text/html": [
       "<pre style=\"white-space:pre;overflow-x:auto;line-height:normal;font-family:Menlo,'DejaVu Sans Mono',consolas,'Courier New',monospace\">    total : <span style=\"color: #008080; text-decoration-color: #008080; font-weight: bold\">1288</span>    \n",
       "</pre>\n"
      ],
      "text/plain": [
       "    total : \u001b[1;36m1288\u001b[0m    \n"
      ]
     },
     "metadata": {},
     "output_type": "display_data"
    },
    {
     "data": {
      "text/html": [
       "<style type=\"text/css\">\n",
       "#T_45f28_ th {\n",
       "  background-color: #000066;\n",
       "  color: white;\n",
       "  text-align: left;\n",
       "}\n",
       "#T_45f28_ td {\n",
       "  text-align: left;\n",
       "  border-bottom: 1px solid black;\n",
       "}\n",
       "</style>\n",
       "<table id=\"T_45f28_\" style='display:inline'>\n",
       "  <thead>\n",
       "    <tr>\n",
       "      <th class=\"col_heading level0 col0\" >system</th>\n",
       "      <th class=\"col_heading level0 col1\" >count</th>\n",
       "    </tr>\n",
       "  </thead>\n",
       "  <tbody>\n",
       "    <tr>\n",
       "      <td id=\"T_45f28_row0_col0\" class=\"data row0 col0\" >PDC</td>\n",
       "      <td id=\"T_45f28_row0_col1\" class=\"data row0 col1\" >1288</td>\n",
       "    </tr>\n",
       "  </tbody>\n",
       "</table>\n",
       "<style type=\"text/css\">\n",
       "#T_0dcd9_ th {\n",
       "  background-color: #000066;\n",
       "  color: white;\n",
       "  text-align: left;\n",
       "}\n",
       "#T_0dcd9_ td {\n",
       "  text-align: left;\n",
       "  border-bottom: 1px solid black;\n",
       "}\n",
       "</style>\n",
       "<table id=\"T_0dcd9_\" style='display:inline'>\n",
       "  <thead>\n",
       "    <tr>\n",
       "      <th class=\"col_heading level0 col0\" >data_category</th>\n",
       "      <th class=\"col_heading level0 col1\" >count</th>\n",
       "    </tr>\n",
       "  </thead>\n",
       "  <tbody>\n",
       "    <tr>\n",
       "      <td id=\"T_0dcd9_row0_col0\" class=\"data row0 col0\" >Raw Mass Spectra</td>\n",
       "      <td id=\"T_0dcd9_row0_col1\" class=\"data row0 col1\" >322</td>\n",
       "    </tr>\n",
       "    <tr>\n",
       "      <td id=\"T_0dcd9_row1_col0\" class=\"data row1 col0\" >Peptide Spectral Matches</td>\n",
       "      <td id=\"T_0dcd9_row1_col1\" class=\"data row1 col1\" >644</td>\n",
       "    </tr>\n",
       "    <tr>\n",
       "      <td id=\"T_0dcd9_row2_col0\" class=\"data row2 col0\" >Processed Mass Spectra</td>\n",
       "      <td id=\"T_0dcd9_row2_col1\" class=\"data row2 col1\" >322</td>\n",
       "    </tr>\n",
       "  </tbody>\n",
       "</table>\n",
       "<style type=\"text/css\">\n",
       "#T_c4518_ th {\n",
       "  background-color: #000066;\n",
       "  color: white;\n",
       "  text-align: left;\n",
       "}\n",
       "#T_c4518_ td {\n",
       "  text-align: left;\n",
       "  border-bottom: 1px solid black;\n",
       "}\n",
       "</style>\n",
       "<table id=\"T_c4518_\" style='display:inline'>\n",
       "  <thead>\n",
       "    <tr>\n",
       "      <th class=\"col_heading level0 col0\" >file_format</th>\n",
       "      <th class=\"col_heading level0 col1\" >count</th>\n",
       "    </tr>\n",
       "  </thead>\n",
       "  <tbody>\n",
       "    <tr>\n",
       "      <td id=\"T_c4518_row0_col0\" class=\"data row0 col0\" >tsv</td>\n",
       "      <td id=\"T_c4518_row0_col1\" class=\"data row0 col1\" >322</td>\n",
       "    </tr>\n",
       "    <tr>\n",
       "      <td id=\"T_c4518_row1_col0\" class=\"data row1 col0\" >vendor-specific</td>\n",
       "      <td id=\"T_c4518_row1_col1\" class=\"data row1 col1\" >322</td>\n",
       "    </tr>\n",
       "    <tr>\n",
       "      <td id=\"T_c4518_row2_col0\" class=\"data row2 col0\" >mzIdentML</td>\n",
       "      <td id=\"T_c4518_row2_col1\" class=\"data row2 col1\" >322</td>\n",
       "    </tr>\n",
       "    <tr>\n",
       "      <td id=\"T_c4518_row3_col0\" class=\"data row3 col0\" >mzML</td>\n",
       "      <td id=\"T_c4518_row3_col1\" class=\"data row3 col1\" >322</td>\n",
       "    </tr>\n",
       "  </tbody>\n",
       "</table>\n",
       "<style type=\"text/css\">\n",
       "#T_3f7b1_ th {\n",
       "  background-color: #000066;\n",
       "  color: white;\n",
       "  text-align: left;\n",
       "}\n",
       "#T_3f7b1_ td {\n",
       "  text-align: left;\n",
       "  border-bottom: 1px solid black;\n",
       "}\n",
       "</style>\n",
       "<table id=\"T_3f7b1_\" style='display:inline'>\n",
       "  <thead>\n",
       "    <tr>\n",
       "      <th class=\"col_heading level0 col0\" >data_type</th>\n",
       "      <th class=\"col_heading level0 col1\" >count</th>\n",
       "    </tr>\n",
       "  </thead>\n",
       "  <tbody>\n",
       "    <tr>\n",
       "      <td id=\"T_3f7b1_row0_col0\" class=\"data row0 col0\" >Open Standard</td>\n",
       "      <td id=\"T_3f7b1_row0_col1\" class=\"data row0 col1\" >644</td>\n",
       "    </tr>\n",
       "    <tr>\n",
       "      <td id=\"T_3f7b1_row1_col0\" class=\"data row1 col0\" >Text</td>\n",
       "      <td id=\"T_3f7b1_row1_col1\" class=\"data row1 col1\" >322</td>\n",
       "    </tr>\n",
       "    <tr>\n",
       "      <td id=\"T_3f7b1_row2_col0\" class=\"data row2 col0\" >Proprietary</td>\n",
       "      <td id=\"T_3f7b1_row2_col1\" class=\"data row2 col1\" >322</td>\n",
       "    </tr>\n",
       "  </tbody>\n",
       "</table>\n"
      ]
     },
     "metadata": {},
     "output_type": "display_data"
    },
    {
     "data": {
      "text/plain": []
     },
     "execution_count": 5,
     "metadata": {},
     "output_type": "execute_result"
    }
   ],
   "source": [
    "myquery.researchsubject.file.count.run()"
   ]
  },
  {
   "cell_type": "code",
   "execution_count": 6,
   "id": "fd0e3315",
   "metadata": {},
   "outputs": [
    {
     "data": {
      "text/html": [
       "<pre style=\"white-space:pre;overflow-x:auto;line-height:normal;font-family:Menlo,'DejaVu Sans Mono',consolas,'Courier New',monospace\">Getting results from database\n",
       "\n",
       "</pre>\n"
      ],
      "text/plain": [
       "Getting results from database\n",
       "\n"
      ]
     },
     "metadata": {},
     "output_type": "display_data"
    },
    {
     "name": "stdout",
     "output_type": "stream",
     "text": [
      "Total execution time: 3409 ms\n"
     ]
    },
    {
     "ename": "NameError",
     "evalue": "name 'mydf' is not defined",
     "output_type": "error",
     "traceback": [
      "\u001b[0;31m---------------------------------------------------------------------------\u001b[0m",
      "\u001b[0;31mNameError\u001b[0m                                 Traceback (most recent call last)",
      "\u001b[0;32m/var/folders/rg/vnn75sf557bcqfnmm_gcxs2r0000gq/T/ipykernel_47027/1549581277.py\u001b[0m in \u001b[0;36m<module>\u001b[0;34m\u001b[0m\n\u001b[1;32m      1\u001b[0m \u001b[0mresearchsubjectresults\u001b[0m \u001b[0;34m=\u001b[0m \u001b[0mpd\u001b[0m\u001b[0;34m.\u001b[0m\u001b[0mDataFrame\u001b[0m\u001b[0;34m(\u001b[0m\u001b[0;34m)\u001b[0m\u001b[0;34m\u001b[0m\u001b[0;34m\u001b[0m\u001b[0m\n\u001b[1;32m      2\u001b[0m \u001b[0;32mfor\u001b[0m \u001b[0mi\u001b[0m \u001b[0;32min\u001b[0m \u001b[0mmyquery\u001b[0m\u001b[0;34m.\u001b[0m\u001b[0mresearchsubject\u001b[0m\u001b[0;34m.\u001b[0m\u001b[0mrun\u001b[0m\u001b[0;34m(\u001b[0m\u001b[0;34m)\u001b[0m\u001b[0;34m.\u001b[0m\u001b[0mpaginator\u001b[0m\u001b[0;34m(\u001b[0m\u001b[0mto_df\u001b[0m\u001b[0;34m=\u001b[0m\u001b[0;32mTrue\u001b[0m\u001b[0;34m)\u001b[0m\u001b[0;34m:\u001b[0m\u001b[0;34m\u001b[0m\u001b[0;34m\u001b[0m\u001b[0m\n\u001b[0;32m----> 3\u001b[0;31m     \u001b[0mresearchsubjectresults\u001b[0m \u001b[0;34m=\u001b[0m \u001b[0mpd\u001b[0m\u001b[0;34m.\u001b[0m\u001b[0mconcat\u001b[0m\u001b[0;34m(\u001b[0m\u001b[0;34m[\u001b[0m\u001b[0mmydf\u001b[0m\u001b[0;34m,\u001b[0m \u001b[0mi\u001b[0m\u001b[0;34m]\u001b[0m\u001b[0;34m)\u001b[0m\u001b[0;34m\u001b[0m\u001b[0;34m\u001b[0m\u001b[0m\n\u001b[0m",
      "\u001b[0;31mNameError\u001b[0m: name 'mydf' is not defined"
     ]
    }
   ],
   "source": [
    "researchsubjectresults = pd.DataFrame()\n",
    "for i in myquery.researchsubject.run().paginator(to_df=True):\n",
    "    researchsubjectresults = pd.concat([mydf, i])"
   ]
  },
  {
   "cell_type": "code",
   "execution_count": null,
   "id": "00a2f476",
   "metadata": {},
   "outputs": [],
   "source": [
    "diagnosisresults = pd.DataFrame()\n",
    "for i in myquery.diagnosis.run().paginator(to_df=True):\n",
    "    diagnosisresults = pd.concat([mydf, i])"
   ]
  },
  {
   "cell_type": "code",
   "execution_count": null,
   "id": "be563537",
   "metadata": {},
   "outputs": [],
   "source": [
    "fileresults = pd.DataFrame()\n",
    "for i in myquery.researchsubject.file.run().paginator(to_df=True):\n",
    "    fileresults = pd.concat([mydf, i])"
   ]
  },
  {
   "cell_type": "code",
   "execution_count": null,
   "id": "00e2d0e9",
   "metadata": {},
   "outputs": [],
   "source": []
  },
  {
   "cell_type": "code",
   "execution_count": null,
   "id": "29c591f5",
   "metadata": {},
   "outputs": [],
   "source": [
    "resubdiagnosis = researchsubjectresults.set_index(\"id\").join(diagnosisresults.set_index(\"researchsubject_id\"), lsuffix='resub', rsuffix=\"diag\")\n",
    "diagnosistreatment = diagnosisresults.set_index(\"researchsubject_id\").join(treatmentresults.set_index(\"researchsubject_id\"), lsuffix='diag', rsuffix=\"treat\")\n",
    "brainall = resubdiagnosis.set_index(\"id\").join(diagnosistreatment.set_index(\"iddiag\"), lsuffix='rd', rsuffix='dt')"
   ]
  },
  {
   "cell_type": "code",
   "execution_count": null,
   "id": "f5d8dd3d",
   "metadata": {},
   "outputs": [],
   "source": [
    "resubdiagnosis.to_csv(\"brainRSdiagnosis.csv\")\n",
    "researchsubjectresults.to_csv(\"brainRS.csv\")\n",
    "diagnosisresults.to_csv(\"braindiagnosis.csv\")\n",
    "treatmentresults.to_csv(\"braindiagnosis.csv\")\n",
    "diagnosistreatment.to_csv(\"braindiagnosistreatment.csv\")\n",
    "brainall.to_csv(\"brainall.csv\")"
   ]
  },
  {
   "cell_type": "code",
   "execution_count": null,
   "id": "3ee3cc6b",
   "metadata": {},
   "outputs": [],
   "source": [
    "brainall"
   ]
  },
  {
   "cell_type": "code",
   "execution_count": null,
   "id": "07f2b4d8",
   "metadata": {},
   "outputs": [],
   "source": [
    "brainall[brainall['subject_idresub'].str.contains(\"ACRIN-DSC-MR-Brain-102\", case=False, na=False)]\n",
    "\n"
   ]
  },
  {
   "cell_type": "code",
   "execution_count": null,
   "id": "242b7737",
   "metadata": {},
   "outputs": [],
   "source": [
    "columns().to_list()\n"
   ]
  },
  {
   "cell_type": "code",
   "execution_count": null,
   "id": "e571487c",
   "metadata": {},
   "outputs": [],
   "source": [
    "unique_terms(\"ResearchSubject.Diagnosis.id\")\n",
    "\n"
   ]
  },
  {
   "cell_type": "code",
   "execution_count": null,
   "id": "f7b468d4",
   "metadata": {},
   "outputs": [],
   "source": [
    "myquery.researchsubject.run(limit=30)[0]"
   ]
  }
 ],
 "metadata": {
  "kernelspec": {
   "display_name": "Python 3 (ipykernel)",
   "language": "python",
   "name": "python3"
  },
  "language_info": {
   "codemirror_mode": {
    "name": "ipython",
    "version": 3
   },
   "file_extension": ".py",
   "mimetype": "text/x-python",
   "name": "python",
   "nbconvert_exporter": "python",
   "pygments_lexer": "ipython3",
   "version": "3.7.13"
  }
 },
 "nbformat": 4,
 "nbformat_minor": 5
}
