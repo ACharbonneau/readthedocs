{
 "cells": [
  {
   "cell_type": "markdown",
   "id": "614a478f",
   "metadata": {},
   "source": [
    "# Build a Cohort"
   ]
  },
  {
   "cell_type": "markdown",
   "id": "a8004e87",
   "metadata": {},
   "source": [
    "**Example use case:** \n",
    "\n",
    "<img src=\"https://github.com/CancerDataAggregator/readthedocs/blob/main/docs/Examples/images/Julia.png?raw=true\" alt=\"alt_text\" align=\"left\"\n",
    "\twidth=\"150\" height=\"150\" />\n",
    "Julia is an oncologist that specializes in female reproductive health. As part of her research, she is interested in  using existing data on uterine cancers. If possible, she would like to see multiple datatypes (gross imaging, genomic data, proteomic data, histology) that come from the same patient, so she can look for shared phenotypes to test for their potential as early diagnostics. Julia heard that the Cancer Data Aggregator has made it easy to search across multiple datasets created by NCI, and so has decided to start her search there.\n",
    "\n"
   ]
  },
  {
   "cell_type": "markdown",
   "id": "e0cadd7d",
   "metadata": {},
   "source": [
    "Before Julia does any work, she needs to import several functions from cdapython:\n",
    "\n",
    "- `Q` and `query` which power the search\n",
    "- `columns` which lets us view entity field names\n",
    "- `unique_terms` which lets view entity field contents\n",
    "\n",
    "She also asks cdapython to report it's version so she can be sure she's using the one she means to."
   ]
  },
  {
   "cell_type": "code",
   "execution_count": 1,
   "id": "a5265d4d",
   "metadata": {},
   "outputs": [
    {
     "name": "stdout",
     "output_type": "stream",
     "text": [
      "2022.6.22\n"
     ]
    }
   ],
   "source": [
    "from cdapython import Q, columns, unique_terms, query\n",
    "import cdapython\n",
    "import pandas as pd \n",
    "print(cdapython.__version__)\n"
   ]
  },
  {
   "cell_type": "markdown",
   "id": "75eef23e",
   "metadata": {},
   "source": [
    "<div style=\"background-color:#b3e5d5;color:black;padding:20px;\">\n",
    "    \n",
    "CDA data comes from three sources:\n",
    "<ul>\n",
    "<li><b>The <a href=\"https://proteomic.datacommons.cancer.gov/pdc/\"> Proteomic Data Commons</a> (PDC)</b></li>\n",
    "<li><b>The <a href=\"https://gdc.cancer.gov/\">Genomic Data Commons</a> (GDC)</b></li>\n",
    "<li><b>The <a href=\"https://datacommons.cancer.gov/repository/imaging-data-commons\">Imaging Data Commons</a> (IDC)</b></li>\n",
    "</ul> \n",
    "    \n",
    "The CDA makes this data searchable in four main endpoints:\n",
    "\n",
    "<ul>\n",
    "<li><b>subject:</b> A specific, unique individual: for e.g. a single human. When consent allows, a given entity will have a single subject ID that can be connected to all their studies and data across all datasets</li>\n",
    "<li><b>researchsubject:</b> a person/plant/animal/microbe within a given study. An individual who participates in 3 studies will have 3 researchsubject IDs</li>\n",
    "<li><b>specimen:</b> a tissue sample taken from a given subject, or a portion of the original sample. A given specimen will have only a single subject ID and a single research subject ID</li>\n",
    "<li><b>file:</b> A unit of data about subjects, researchsubjects, specimens, or their associated information</li>\n",
    "</ul>\n",
    "and two endpoints that offer deeper information about data in the researchsubject endpoint:\n",
    "<ul>\n",
    "<li><b>diagnosis:</b> Information about what medical diagnosis a researchsubject has</li>\n",
    "<li><b>treatment:</b> Information about what medical treatment(s) were performed for a given diagnosis</li>\n",
    "</ul>\n",
    "Any metadata field can be searched from any endpoint, the only difference between search types is what type of data is returned by default. This means that you can think of the CDA as a really, really enormous spreadsheet full of data. To search this enormous spreadsheet, you'd want select columns, and then filter rows.\n",
    "</div>\n"
   ]
  },
  {
   "cell_type": "markdown",
   "id": "391bc9a7",
   "metadata": {},
   "source": [
    "<img src=\"https://github.com/CancerDataAggregator/readthedocs/blob/main/docs/Examples/images/Julia.png?raw=true\" align=\"left\"\n",
    "\twidth=\"50\" height=\"50\" />\n",
    "   \n",
    "   \n",
    "   Accordingly, to see what search fields are available, Julia starts by using the command `columns`:"
   ]
  },
  {
   "cell_type": "code",
   "execution_count": 2,
   "id": "ef0dd8e5",
   "metadata": {
    "scrolled": true
   },
   "outputs": [
    {
     "data": {
      "text/plain": [
       "['File.id',\n",
       " 'File.identifier.system',\n",
       " 'File.identifier.value',\n",
       " 'File.label',\n",
       " 'File.data_category',\n",
       " 'File.data_type',\n",
       " 'File.file_format',\n",
       " 'File.associated_project',\n",
       " 'File.drs_uri',\n",
       " 'File.byte_size',\n",
       " 'File.checksum',\n",
       " 'File.data_modality',\n",
       " 'File.imaging_modality',\n",
       " 'File.dbgap_accession_number',\n",
       " 'id',\n",
       " 'identifier.system',\n",
       " 'identifier.value',\n",
       " 'species',\n",
       " 'sex',\n",
       " 'race',\n",
       " 'ethnicity',\n",
       " 'days_to_birth',\n",
       " 'subject_associated_project',\n",
       " 'vital_status',\n",
       " 'age_at_death',\n",
       " 'cause_of_death',\n",
       " 'ResearchSubject.id',\n",
       " 'ResearchSubject.identifier.system',\n",
       " 'ResearchSubject.identifier.value',\n",
       " 'ResearchSubject.member_of_research_project',\n",
       " 'ResearchSubject.primary_diagnosis_condition',\n",
       " 'ResearchSubject.primary_diagnosis_site',\n",
       " 'ResearchSubject.Diagnosis.id',\n",
       " 'ResearchSubject.Diagnosis.identifier.system',\n",
       " 'ResearchSubject.Diagnosis.identifier.value',\n",
       " 'ResearchSubject.Diagnosis.primary_diagnosis',\n",
       " 'ResearchSubject.Diagnosis.age_at_diagnosis',\n",
       " 'ResearchSubject.Diagnosis.morphology',\n",
       " 'ResearchSubject.Diagnosis.stage',\n",
       " 'ResearchSubject.Diagnosis.grade',\n",
       " 'ResearchSubject.Diagnosis.method_of_diagnosis',\n",
       " 'ResearchSubject.Diagnosis.Treatment.id',\n",
       " 'ResearchSubject.Diagnosis.Treatment.identifier.system',\n",
       " 'ResearchSubject.Diagnosis.Treatment.identifier.value',\n",
       " 'ResearchSubject.Diagnosis.Treatment.treatment_type',\n",
       " 'ResearchSubject.Diagnosis.Treatment.treatment_outcome',\n",
       " 'ResearchSubject.Diagnosis.Treatment.days_to_treatment_start',\n",
       " 'ResearchSubject.Diagnosis.Treatment.days_to_treatment_end',\n",
       " 'ResearchSubject.Diagnosis.Treatment.therapeutic_agent',\n",
       " 'ResearchSubject.Diagnosis.Treatment.treatment_anatomic_site',\n",
       " 'ResearchSubject.Diagnosis.Treatment.treatment_effect',\n",
       " 'ResearchSubject.Diagnosis.Treatment.treatment_end_reason',\n",
       " 'ResearchSubject.Diagnosis.Treatment.number_of_cycles',\n",
       " 'ResearchSubject.Specimen.id',\n",
       " 'ResearchSubject.Specimen.identifier.system',\n",
       " 'ResearchSubject.Specimen.identifier.value',\n",
       " 'ResearchSubject.Specimen.associated_project',\n",
       " 'ResearchSubject.Specimen.age_at_collection',\n",
       " 'ResearchSubject.Specimen.primary_disease_type',\n",
       " 'ResearchSubject.Specimen.anatomical_site',\n",
       " 'ResearchSubject.Specimen.source_material_type',\n",
       " 'ResearchSubject.Specimen.specimen_type',\n",
       " 'ResearchSubject.Specimen.derived_from_specimen',\n",
       " 'ResearchSubject.Specimen.derived_from_subject']"
      ]
     },
     "execution_count": 2,
     "metadata": {},
     "output_type": "execute_result"
    }
   ],
   "source": [
    "columns().to_list()"
   ]
  },
  {
   "cell_type": "markdown",
   "id": "bd05eba2",
   "metadata": {},
   "source": [
    "<img src=\"https://github.com/CancerDataAggregator/readthedocs/blob/main/docs/Examples/images/Julia.png?raw=true\" align=\"left\"\n",
    "\twidth=\"50\" height=\"50\" />\n",
    "   \n",
    "   \n",
    "There are a lot of columns in the CDA data, but Julia is most interested in diagnosis data, so she filters the list to only those:"
   ]
  },
  {
   "cell_type": "code",
   "execution_count": 3,
   "id": "536970c4",
   "metadata": {},
   "outputs": [
    {
     "data": {
      "text/plain": [
       "['ResearchSubject.primary_diagnosis_condition',\n",
       " 'ResearchSubject.primary_diagnosis_site',\n",
       " 'ResearchSubject.Diagnosis.id',\n",
       " 'ResearchSubject.Diagnosis.identifier.system',\n",
       " 'ResearchSubject.Diagnosis.identifier.value',\n",
       " 'ResearchSubject.Diagnosis.primary_diagnosis',\n",
       " 'ResearchSubject.Diagnosis.age_at_diagnosis',\n",
       " 'ResearchSubject.Diagnosis.morphology',\n",
       " 'ResearchSubject.Diagnosis.stage',\n",
       " 'ResearchSubject.Diagnosis.grade',\n",
       " 'ResearchSubject.Diagnosis.method_of_diagnosis',\n",
       " 'ResearchSubject.Diagnosis.Treatment.id',\n",
       " 'ResearchSubject.Diagnosis.Treatment.identifier.system',\n",
       " 'ResearchSubject.Diagnosis.Treatment.identifier.value',\n",
       " 'ResearchSubject.Diagnosis.Treatment.treatment_type',\n",
       " 'ResearchSubject.Diagnosis.Treatment.treatment_outcome',\n",
       " 'ResearchSubject.Diagnosis.Treatment.days_to_treatment_start',\n",
       " 'ResearchSubject.Diagnosis.Treatment.days_to_treatment_end',\n",
       " 'ResearchSubject.Diagnosis.Treatment.therapeutic_agent',\n",
       " 'ResearchSubject.Diagnosis.Treatment.treatment_anatomic_site',\n",
       " 'ResearchSubject.Diagnosis.Treatment.treatment_effect',\n",
       " 'ResearchSubject.Diagnosis.Treatment.treatment_end_reason',\n",
       " 'ResearchSubject.Diagnosis.Treatment.number_of_cycles']"
      ]
     },
     "execution_count": 3,
     "metadata": {},
     "output_type": "execute_result"
    }
   ],
   "source": [
    "columns().to_list(filters=\"diagnosis\")"
   ]
  },
  {
   "cell_type": "markdown",
   "id": "a63b4cf0",
   "metadata": {},
   "source": [
    "<div style=\"background-color:#b3e5d5;color:black;padding:20px;\">\n",
    "\n",
    "To search the CDA, a user also needs to know what search terms are available. Each column will contain a huge amount of data, so retreiving all of the rows would be overwhelming. Instead, the CDA has a `unique_terms()` function that will return all of the unique values that populate the requested column. Like `columns`, `unique_terms` defaults to giving us an overview of the results, and can be filtered.\n",
    "    \n",
    "</div>\n",
    "\n",
    "<img src=\"https://github.com/CancerDataAggregator/readthedocs/blob/main/docs/Examples/images/Julia.png?raw=true\" align=\"left\"\n",
    "\twidth=\"50\" height=\"50\" />\n",
    "   \n",
    "Since Julia is interested specificially in uterine cancers, she uses the `unique_terms` function to see what data is available for 'ResearchSubject.Diagnosis.Treatment.treatment_anatomic_site' and 'ResearchSubject.primary_diagnosis_site' to see if 'uterine' appears:"
   ]
  },
  {
   "cell_type": "code",
   "execution_count": 4,
   "id": "4527dde5",
   "metadata": {},
   "outputs": [
    {
     "data": {
      "text/plain": [
       "['Brain',\n",
       " 'Cervix',\n",
       " 'Head - Face Or Neck, Nos',\n",
       " 'Lymph Node(s) Paraaortic',\n",
       " 'Other',\n",
       " 'Pelvis',\n",
       " 'Spine',\n",
       " 'Unknown']"
      ]
     },
     "execution_count": 4,
     "metadata": {},
     "output_type": "execute_result"
    }
   ],
   "source": [
    "unique_terms(\"ResearchSubject.Diagnosis.Treatment.treatment_anatomic_site\").to_list()"
   ]
  },
  {
   "cell_type": "code",
   "execution_count": 5,
   "id": "740e5955",
   "metadata": {
    "scrolled": true
   },
   "outputs": [
    {
     "data": {
      "text/plain": [
       "['Abdomen',\n",
       " 'Abdomen, Mediastinum',\n",
       " 'Adrenal Glands',\n",
       " 'Adrenal gland',\n",
       " 'Anus and anal canal',\n",
       " 'Base of tongue',\n",
       " 'Bile Duct',\n",
       " 'Bladder',\n",
       " 'Bones, joints and articular cartilage of limbs',\n",
       " 'Bones, joints and articular cartilage of other and unspecified sites',\n",
       " 'Brain',\n",
       " 'Breast',\n",
       " 'Bronchus and lung',\n",
       " 'Cervix',\n",
       " 'Cervix uteri',\n",
       " 'Chest',\n",
       " 'Chest-Abdomen-Pelvis, Leg, TSpine',\n",
       " 'Colon',\n",
       " 'Connective, subcutaneous and other soft tissues',\n",
       " 'Corpus uteri',\n",
       " 'Ear',\n",
       " 'Esophagus',\n",
       " 'Extremities',\n",
       " 'Eye and adnexa',\n",
       " 'Floor of mouth',\n",
       " 'Gallbladder',\n",
       " 'Gum',\n",
       " 'Head',\n",
       " 'Head and Neck',\n",
       " 'Head-Neck',\n",
       " 'Heart, mediastinum, and pleura',\n",
       " 'Hematopoietic and reticuloendothelial systems',\n",
       " 'Hypopharynx',\n",
       " 'Intraocular',\n",
       " 'Kidney',\n",
       " 'Larynx',\n",
       " 'Lip',\n",
       " 'Liver',\n",
       " 'Liver and intrahepatic bile ducts',\n",
       " 'Lung',\n",
       " 'Lung Phantom',\n",
       " 'Lymph nodes',\n",
       " 'Marrow, Blood',\n",
       " 'Meninges',\n",
       " 'Mesothelium',\n",
       " 'Nasal cavity and middle ear',\n",
       " 'Nasopharynx',\n",
       " 'Not Reported',\n",
       " 'Oropharynx',\n",
       " 'Other and ill-defined digestive organs',\n",
       " 'Other and ill-defined sites',\n",
       " 'Other and ill-defined sites in lip, oral cavity and pharynx',\n",
       " 'Other and ill-defined sites within respiratory system and intrathoracic organs',\n",
       " 'Other and unspecified female genital organs',\n",
       " 'Other and unspecified major salivary glands',\n",
       " 'Other and unspecified male genital organs',\n",
       " 'Other and unspecified parts of biliary tract',\n",
       " 'Other and unspecified parts of mouth',\n",
       " 'Other and unspecified parts of tongue',\n",
       " 'Other and unspecified urinary organs',\n",
       " 'Other endocrine glands and related structures',\n",
       " 'Ovary',\n",
       " 'Palate',\n",
       " 'Pancreas',\n",
       " 'Pancreas ',\n",
       " 'Pelvis, Prostate, Anus',\n",
       " 'Penis',\n",
       " 'Peripheral nerves and autonomic nervous system',\n",
       " 'Phantom',\n",
       " 'Prostate',\n",
       " 'Prostate gland',\n",
       " 'Rectosigmoid junction',\n",
       " 'Rectum',\n",
       " 'Renal pelvis',\n",
       " 'Retroperitoneum and peritoneum',\n",
       " 'Skin',\n",
       " 'Small intestine',\n",
       " 'Spinal cord, cranial nerves, and other parts of central nervous system',\n",
       " 'Stomach',\n",
       " 'Testicles',\n",
       " 'Testis',\n",
       " 'Thymus',\n",
       " 'Thyroid',\n",
       " 'Thyroid gland',\n",
       " 'Tonsil',\n",
       " 'Trachea',\n",
       " 'Unknown',\n",
       " 'Ureter',\n",
       " 'Uterus',\n",
       " 'Uterus, NOS',\n",
       " 'Vagina',\n",
       " 'Various',\n",
       " 'Various (11 locations)',\n",
       " 'Vulva']"
      ]
     },
     "execution_count": 5,
     "metadata": {},
     "output_type": "execute_result"
    }
   ],
   "source": [
    "unique_terms(\"ResearchSubject.primary_diagnosis_site\").to_list()"
   ]
  },
  {
   "cell_type": "markdown",
   "id": "b005036b",
   "metadata": {},
   "source": [
    "<div style=\"background-color:#b3e5d5;color:black;padding:20px;\">\n",
    "    \n",
    "CDA makes multiple datasets searchable from a common interface, but does not harmonize the data. This means that researchers should review all the terms in a column, and not just choose the first one that fits, as there may be other similar terms available as well.\n",
    "    \n",
    "</div>"
   ]
  },
  {
   "cell_type": "markdown",
   "id": "73e6b8dc",
   "metadata": {},
   "source": [
    "<img src=\"https://github.com/CancerDataAggregator/readthedocs/blob/main/docs/Examples/images/Julia.png?raw=true\" align=\"left\"\n",
    "\twidth=\"50\" height=\"50\" />\n",
    "   \n",
    "Julia sees that \"treatment_anatomic_site\" does not have 'Uterine', but does have 'Cervix'. She also notes that both 'Uterus' and 'Uterus, NOS' are listed in the \"primary_diagnosis_site\" results. As she was initially looking for \"uterine\", Julia decides to expand her search a bit to account for variable naming schemes. So, she runs a fuzzy match filter on the \"ResearchSubject.primary_diagnosis_site\" for 'uter' as that should cover all variants:"
   ]
  },
  {
   "cell_type": "code",
   "execution_count": 6,
   "id": "31064125",
   "metadata": {},
   "outputs": [
    {
     "data": {
      "text/plain": [
       "['Cervix uteri', 'Corpus uteri', 'Uterus', 'Uterus, NOS']"
      ]
     },
     "execution_count": 6,
     "metadata": {},
     "output_type": "execute_result"
    }
   ],
   "source": [
    "unique_terms(\"ResearchSubject.primary_diagnosis_site\").to_list(filters=\"uter\")"
   ]
  },
  {
   "cell_type": "markdown",
   "id": "9311a49e",
   "metadata": {},
   "source": [
    "<img src=\"https://github.com/CancerDataAggregator/readthedocs/blob/main/docs/Examples/images/Julia.png?raw=true\" align=\"left\"\n",
    "\twidth=\"50\" height=\"50\" />\n",
    "   \n",
    "Just to be sure, Julia also searches for any other instances of \"cervix\":"
   ]
  },
  {
   "cell_type": "code",
   "execution_count": 7,
   "id": "2038a8cf",
   "metadata": {},
   "outputs": [
    {
     "data": {
      "text/plain": [
       "['Cervix', 'Cervix uteri']"
      ]
     },
     "execution_count": 7,
     "metadata": {},
     "output_type": "execute_result"
    }
   ],
   "source": [
    "unique_terms(\"ResearchSubject.primary_diagnosis_site\").to_list(filters=\"cerv\")"
   ]
  },
  {
   "cell_type": "markdown",
   "id": "29c4de58",
   "metadata": {},
   "source": [
    "<img src=\"https://github.com/CancerDataAggregator/readthedocs/blob/main/docs/Examples/images/Julia.png?raw=true\" align=\"left\"\n",
    "\twidth=\"50\" height=\"50\" />\n",
    "   \n",
    "With all her likely terms found, Julia begins to create a search that will get data for all of her terms. She does this by writing a series of `Q` statements that define what rows should be returned from each column. For the \"treatment_anatomic_site\", only one term is of interest, so she uses the `=` operator to get only exact matches:"
   ]
  },
  {
   "cell_type": "code",
   "execution_count": 8,
   "id": "951fcc8f",
   "metadata": {},
   "outputs": [],
   "source": [
    "Tsite = Q('ResearchSubject.Diagnosis.Treatment.treatment_anatomic_site = \"Cervix\"')"
   ]
  },
  {
   "cell_type": "markdown",
   "id": "12cb5f72",
   "metadata": {},
   "source": [
    "<img src=\"https://github.com/CancerDataAggregator/readthedocs/blob/main/docs/Examples/images/Julia.png?raw=true\" align=\"left\"\n",
    "\twidth=\"50\" height=\"50\" />\n",
    "   \n",
    "However, for \"primary_diagnosis_site\", Julia has several terms she wants to search with. Luckily, `Q` also can run fuzzy searches. It can also search more than one term at a time, so Julia writes one big `Q` statement to grab everything that is either 'uter' or 'cerv':"
   ]
  },
  {
   "cell_type": "code",
   "execution_count": 9,
   "id": "36cfd8a4",
   "metadata": {},
   "outputs": [],
   "source": [
    "Dsite = Q('ResearchSubject.primary_diagnosis_site = \"%uter%\" OR ResearchSubject.primary_diagnosis_site = \"%cerv%\"')"
   ]
  },
  {
   "cell_type": "markdown",
   "id": "349af6f2",
   "metadata": {},
   "source": [
    "<img src=\"https://github.com/CancerDataAggregator/readthedocs/blob/main/docs/Examples/images/Julia.png?raw=true\" align=\"left\"\n",
    "\twidth=\"50\" height=\"50\" />\n",
    "   \n",
    "Finally, Julia adds her two queries together into one large one:"
   ]
  },
  {
   "cell_type": "code",
   "execution_count": 10,
   "id": "9f5f9e4f",
   "metadata": {},
   "outputs": [],
   "source": [
    "ALLDATA = Tsite.OR(Dsite)"
   ]
  },
  {
   "cell_type": "markdown",
   "id": "c1f5cb55",
   "metadata": {},
   "source": [
    "<img src=\"https://github.com/CancerDataAggregator/readthedocs/blob/main/docs/Examples/images/Julia.png?raw=true\" align=\"left\"\n",
    "\twidth=\"50\" height=\"50\" />\n",
    "   \n",
    "Now that Julia has a query, she can use it to look for data in any of the CDA endpoints. She starts by getting an overall summary of what data is available using `count`:"
   ]
  },
  {
   "cell_type": "code",
   "execution_count": 11,
   "id": "355b1706",
   "metadata": {},
   "outputs": [
    {
     "data": {
      "text/html": [
       "<pre style=\"white-space:pre;overflow-x:auto;line-height:normal;font-family:Menlo,'DejaVu Sans Mono',consolas,'Courier New',monospace\">Getting results from database\n",
       "\n",
       "</pre>\n"
      ],
      "text/plain": [
       "Getting results from database\n",
       "\n"
      ]
     },
     "metadata": {},
     "output_type": "display_data"
    },
    {
     "name": "stdout",
     "output_type": "stream",
     "text": [
      "Total execution time: 3401 ms\n"
     ]
    },
    {
     "data": {
      "text/html": [
       "<pre style=\"white-space:pre;overflow-x:auto;line-height:normal;font-family:Menlo,'DejaVu Sans Mono',consolas,'Courier New',monospace\">specimen_count : <span style=\"color: #008080; text-decoration-color: #008080; font-weight: bold\">40766</span>\n",
       "</pre>\n"
      ],
      "text/plain": [
       "specimen_count : \u001b[1;36m40766\u001b[0m\n"
      ]
     },
     "metadata": {},
     "output_type": "display_data"
    },
    {
     "data": {
      "text/html": [
       "<pre style=\"white-space:pre;overflow-x:auto;line-height:normal;font-family:Menlo,'DejaVu Sans Mono',consolas,'Courier New',monospace\">treatment_count : <span style=\"color: #008080; text-decoration-color: #008080; font-weight: bold\">3045</span>\n",
       "</pre>\n"
      ],
      "text/plain": [
       "treatment_count : \u001b[1;36m3045\u001b[0m\n"
      ]
     },
     "metadata": {},
     "output_type": "display_data"
    },
    {
     "data": {
      "text/html": [
       "<pre style=\"white-space:pre;overflow-x:auto;line-height:normal;font-family:Menlo,'DejaVu Sans Mono',consolas,'Courier New',monospace\">diagnosis_count : <span style=\"color: #008080; text-decoration-color: #008080; font-weight: bold\">3683</span>\n",
       "</pre>\n"
      ],
      "text/plain": [
       "diagnosis_count : \u001b[1;36m3683\u001b[0m\n"
      ]
     },
     "metadata": {},
     "output_type": "display_data"
    },
    {
     "data": {
      "text/html": [
       "<pre style=\"white-space:pre;overflow-x:auto;line-height:normal;font-family:Menlo,'DejaVu Sans Mono',consolas,'Courier New',monospace\">researchsubject_count : <span style=\"color: #008080; text-decoration-color: #008080; font-weight: bold\">4867</span>\n",
       "</pre>\n"
      ],
      "text/plain": [
       "researchsubject_count : \u001b[1;36m4867\u001b[0m\n"
      ]
     },
     "metadata": {},
     "output_type": "display_data"
    },
    {
     "data": {
      "text/html": [
       "<pre style=\"white-space:pre;overflow-x:auto;line-height:normal;font-family:Menlo,'DejaVu Sans Mono',consolas,'Courier New',monospace\">subject_count : <span style=\"color: #008080; text-decoration-color: #008080; font-weight: bold\">3740</span>\n",
       "</pre>\n"
      ],
      "text/plain": [
       "subject_count : \u001b[1;36m3740\u001b[0m\n"
      ]
     },
     "metadata": {},
     "output_type": "display_data"
    },
    {
     "data": {
      "text/html": []
     },
     "metadata": {},
     "output_type": "display_data"
    },
    {
     "data": {
      "text/plain": []
     },
     "execution_count": 11,
     "metadata": {},
     "output_type": "execute_result"
    }
   ],
   "source": [
    "ALLDATA.count.run()"
   ]
  },
  {
   "cell_type": "markdown",
   "id": "b7ce25fc",
   "metadata": {},
   "source": [
    "<img src=\"https://github.com/CancerDataAggregator/readthedocs/blob/main/docs/Examples/images/Julia.png?raw=true\" align=\"left\"\n",
    "\twidth=\"50\" height=\"50\" />\n",
    "   \n",
    "It seems there's a lot of data that might work for Julias study! Since she is interested in the beginings of cancer, she decides to start by looking at  the researchsubject information, since that is where most of the diagnosis information is. She again gets a summary using `count`:"
   ]
  },
  {
   "cell_type": "code",
   "execution_count": 12,
   "id": "55b0cdeb",
   "metadata": {},
   "outputs": [
    {
     "data": {
      "text/html": [
       "<pre style=\"white-space:pre;overflow-x:auto;line-height:normal;font-family:Menlo,'DejaVu Sans Mono',consolas,'Courier New',monospace\">Getting results from database\n",
       "\n",
       "</pre>\n"
      ],
      "text/plain": [
       "Getting results from database\n",
       "\n"
      ]
     },
     "metadata": {},
     "output_type": "display_data"
    },
    {
     "name": "stdout",
     "output_type": "stream",
     "text": [
      "Total execution time: 3521 ms\n"
     ]
    },
    {
     "data": {
      "text/plain": [
       "\n",
       "            QueryID: 32babf30-f9f1-4061-b4f5-ef333397be62\n",
       "            \n",
       "            Offset: 0\n",
       "            Count: 100\n",
       "            Total Row Count: 4867\n",
       "            More pages: True\n",
       "            "
      ]
     },
     "execution_count": 12,
     "metadata": {},
     "output_type": "execute_result"
    }
   ],
   "source": [
    "ALLDATA.researchsubject.run()"
   ]
  },
  {
   "cell_type": "markdown",
   "id": "86a323e2",
   "metadata": {},
   "source": [
    "<img src=\"https://github.com/CancerDataAggregator/readthedocs/blob/main/docs/Examples/images/Julia.png?raw=true\" align=\"left\"\n",
    "\twidth=\"50\" height=\"50\" />\n",
    "   \n",
    "Browsing the primary_diagnosis_condition data, Julia notices that there are a large number of research subjects that are Adenomas and Adenocarcinomas. Since Julia wants to look for common phenotypes in early cancers, she decides it might be easier to exclude the endocrine related data, as they might have different mechanisms. So she adds a new filter to her query:"
   ]
  },
  {
   "cell_type": "code",
   "execution_count": 13,
   "id": "0d526198",
   "metadata": {
    "scrolled": true
   },
   "outputs": [
    {
     "data": {
      "text/html": [
       "<pre style=\"white-space:pre;overflow-x:auto;line-height:normal;font-family:Menlo,'DejaVu Sans Mono',consolas,'Courier New',monospace\">Getting results from database\n",
       "\n",
       "</pre>\n"
      ],
      "text/plain": [
       "Getting results from database\n",
       "\n"
      ]
     },
     "metadata": {},
     "output_type": "display_data"
    },
    {
     "name": "stdout",
     "output_type": "stream",
     "text": [
      "Total execution time: 3648 ms\n"
     ]
    },
    {
     "data": {
      "text/html": [
       "<pre style=\"white-space:pre;overflow-x:auto;line-height:normal;font-family:Menlo,'DejaVu Sans Mono',consolas,'Courier New',monospace\">    total : <span style=\"color: #008080; text-decoration-color: #008080; font-weight: bold\">3196</span>    \n",
       "</pre>\n"
      ],
      "text/plain": [
       "    total : \u001b[1;36m3196\u001b[0m    \n"
      ]
     },
     "metadata": {},
     "output_type": "display_data"
    },
    {
     "data": {
      "text/html": [
       "<pre style=\"white-space:pre;overflow-x:auto;line-height:normal;font-family:Menlo,'DejaVu Sans Mono',consolas,'Courier New',monospace\">   files : <span style=\"color: #008080; text-decoration-color: #008080; font-weight: bold\">297923</span>   \n",
       "</pre>\n"
      ],
      "text/plain": [
       "   files : \u001b[1;36m297923\u001b[0m   \n"
      ]
     },
     "metadata": {},
     "output_type": "display_data"
    },
    {
     "data": {
      "text/html": [
       "<style type=\"text/css\">\n",
       "#T_c98c3_ th {\n",
       "  background-color: #000066;\n",
       "  color: white;\n",
       "  text-align: left;\n",
       "}\n",
       "#T_c98c3_ td {\n",
       "  text-align: left;\n",
       "  border-bottom: 1px solid black;\n",
       "}\n",
       "</style>\n",
       "<table id=\"T_c98c3_\" style='display:inline'>\n",
       "  <thead>\n",
       "    <tr>\n",
       "      <th class=\"col_heading level0 col0\" >system</th>\n",
       "      <th class=\"col_heading level0 col1\" >count</th>\n",
       "    </tr>\n",
       "  </thead>\n",
       "  <tbody>\n",
       "    <tr>\n",
       "      <td id=\"T_c98c3_row0_col0\" class=\"data row0 col0\" >GDC</td>\n",
       "      <td id=\"T_c98c3_row0_col1\" class=\"data row0 col1\" >1918</td>\n",
       "    </tr>\n",
       "    <tr>\n",
       "      <td id=\"T_c98c3_row1_col0\" class=\"data row1 col0\" >PDC</td>\n",
       "      <td id=\"T_c98c3_row1_col1\" class=\"data row1 col1\" >104</td>\n",
       "    </tr>\n",
       "    <tr>\n",
       "      <td id=\"T_c98c3_row2_col0\" class=\"data row2 col0\" >IDC</td>\n",
       "      <td id=\"T_c98c3_row2_col1\" class=\"data row2 col1\" >1174</td>\n",
       "    </tr>\n",
       "  </tbody>\n",
       "</table>\n",
       "<style type=\"text/css\">\n",
       "#T_2e464_ th {\n",
       "  background-color: #000066;\n",
       "  color: white;\n",
       "  text-align: left;\n",
       "}\n",
       "#T_2e464_ td {\n",
       "  text-align: left;\n",
       "  border-bottom: 1px solid black;\n",
       "}\n",
       "</style>\n",
       "<table id=\"T_2e464_\" style='display:inline'>\n",
       "  <thead>\n",
       "    <tr>\n",
       "      <th class=\"col_heading level0 col0\" >primary_diagnosis_condition</th>\n",
       "      <th class=\"col_heading level0 col1\" >count</th>\n",
       "    </tr>\n",
       "  </thead>\n",
       "  <tbody>\n",
       "    <tr>\n",
       "      <td id=\"T_2e464_row0_col0\" class=\"data row0 col0\" >Cystic, Mucinous and Serous Neoplasms</td>\n",
       "      <td id=\"T_2e464_row0_col1\" class=\"data row0 col1\" >487</td>\n",
       "    </tr>\n",
       "    <tr>\n",
       "      <td id=\"T_2e464_row1_col0\" class=\"data row1 col0\" >Squamous Cell Neoplasms</td>\n",
       "      <td id=\"T_2e464_row1_col1\" class=\"data row1 col1\" >609</td>\n",
       "    </tr>\n",
       "    <tr>\n",
       "      <td id=\"T_2e464_row2_col0\" class=\"data row2 col0\" >Complex Mixed and Stromal Neoplasms</td>\n",
       "      <td id=\"T_2e464_row2_col1\" class=\"data row2 col1\" >320</td>\n",
       "    </tr>\n",
       "    <tr>\n",
       "      <td id=\"T_2e464_row3_col0\" class=\"data row3 col0\" >Myomatous Neoplasms</td>\n",
       "      <td id=\"T_2e464_row3_col1\" class=\"data row3 col1\" >187</td>\n",
       "    </tr>\n",
       "    <tr>\n",
       "      <td id=\"T_2e464_row4_col0\" class=\"data row4 col0\" >Uterine Corpus Endometrial Carcinoma</td>\n",
       "      <td id=\"T_2e464_row4_col1\" class=\"data row4 col1\" >104</td>\n",
       "    </tr>\n",
       "    <tr>\n",
       "      <td id=\"T_2e464_row5_col0\" class=\"data row5 col0\" >None</td>\n",
       "      <td id=\"T_2e464_row5_col1\" class=\"data row5 col1\" >1175</td>\n",
       "    </tr>\n",
       "    <tr>\n",
       "      <td id=\"T_2e464_row6_col0\" class=\"data row6 col0\" >Epithelial Neoplasms, NOS</td>\n",
       "      <td id=\"T_2e464_row6_col1\" class=\"data row6 col1\" >230</td>\n",
       "    </tr>\n",
       "    <tr>\n",
       "      <td id=\"T_2e464_row7_col0\" class=\"data row7 col0\" >Mesonephromas</td>\n",
       "      <td id=\"T_2e464_row7_col1\" class=\"data row7 col1\" >5</td>\n",
       "    </tr>\n",
       "    <tr>\n",
       "      <td id=\"T_2e464_row8_col0\" class=\"data row8 col0\" >Not Reported</td>\n",
       "      <td id=\"T_2e464_row8_col1\" class=\"data row8 col1\" >12</td>\n",
       "    </tr>\n",
       "    <tr>\n",
       "      <td id=\"T_2e464_row9_col0\" class=\"data row9 col0\" >Neoplasms, NOS</td>\n",
       "      <td id=\"T_2e464_row9_col1\" class=\"data row9 col1\" >12</td>\n",
       "    </tr>\n",
       "    <tr>\n",
       "      <td id=\"T_2e464_row10_col0\" class=\"data row10 col0\" >Complex Epithelial Neoplasms</td>\n",
       "      <td id=\"T_2e464_row10_col1\" class=\"data row10 col1\" >27</td>\n",
       "    </tr>\n",
       "    <tr>\n",
       "      <td id=\"T_2e464_row11_col0\" class=\"data row11 col0\" >Soft Tissue Tumors and Sarcomas, NOS</td>\n",
       "      <td id=\"T_2e464_row11_col1\" class=\"data row11 col1\" >14</td>\n",
       "    </tr>\n",
       "    <tr>\n",
       "      <td id=\"T_2e464_row12_col0\" class=\"data row12 col0\" >Trophoblastic neoplasms</td>\n",
       "      <td id=\"T_2e464_row12_col1\" class=\"data row12 col1\" >13</td>\n",
       "    </tr>\n",
       "    <tr>\n",
       "      <td id=\"T_2e464_row13_col0\" class=\"data row13 col0\" >Neuroepitheliomatous Neoplasms</td>\n",
       "      <td id=\"T_2e464_row13_col1\" class=\"data row13 col1\" >1</td>\n",
       "    </tr>\n",
       "  </tbody>\n",
       "</table>\n",
       "<style type=\"text/css\">\n",
       "#T_353f4_ th {\n",
       "  background-color: #000066;\n",
       "  color: white;\n",
       "  text-align: left;\n",
       "}\n",
       "#T_353f4_ td {\n",
       "  text-align: left;\n",
       "  border-bottom: 1px solid black;\n",
       "}\n",
       "</style>\n",
       "<table id=\"T_353f4_\" style='display:inline'>\n",
       "  <thead>\n",
       "    <tr>\n",
       "      <th class=\"col_heading level0 col0\" >primary_diagnosis_site</th>\n",
       "      <th class=\"col_heading level0 col1\" >count</th>\n",
       "    </tr>\n",
       "  </thead>\n",
       "  <tbody>\n",
       "    <tr>\n",
       "      <td id=\"T_353f4_row0_col0\" class=\"data row0 col0\" >Cervix uteri</td>\n",
       "      <td id=\"T_353f4_row0_col1\" class=\"data row0 col1\" >688</td>\n",
       "    </tr>\n",
       "    <tr>\n",
       "      <td id=\"T_353f4_row1_col0\" class=\"data row1 col0\" >Uterus, NOS</td>\n",
       "      <td id=\"T_353f4_row1_col1\" class=\"data row1 col1\" >961</td>\n",
       "    </tr>\n",
       "    <tr>\n",
       "      <td id=\"T_353f4_row2_col0\" class=\"data row2 col0\" >Corpus uteri</td>\n",
       "      <td id=\"T_353f4_row2_col1\" class=\"data row2 col1\" >373</td>\n",
       "    </tr>\n",
       "    <tr>\n",
       "      <td id=\"T_353f4_row3_col0\" class=\"data row3 col0\" >Uterus</td>\n",
       "      <td id=\"T_353f4_row3_col1\" class=\"data row3 col1\" >867</td>\n",
       "    </tr>\n",
       "    <tr>\n",
       "      <td id=\"T_353f4_row4_col0\" class=\"data row4 col0\" >Cervix</td>\n",
       "      <td id=\"T_353f4_row4_col1\" class=\"data row4 col1\" >307</td>\n",
       "    </tr>\n",
       "  </tbody>\n",
       "</table>\n"
      ]
     },
     "metadata": {},
     "output_type": "display_data"
    },
    {
     "data": {
      "text/plain": []
     },
     "execution_count": 13,
     "metadata": {},
     "output_type": "execute_result"
    }
   ],
   "source": [
    "Noadeno = Q('ResearchSubject.primary_diagnosis_condition != \"Adenomas and Adenocarcinomas\"')\n",
    "\n",
    "NoAdenoData = ALLDATA.AND(Noadeno)\n",
    "\n",
    "NoAdenoData.researchsubject.count.run()"
   ]
  },
  {
   "cell_type": "markdown",
   "id": "40a0191d",
   "metadata": {},
   "source": [
    "<img src=\"https://github.com/CancerDataAggregator/readthedocs/blob/main/docs/Examples/images/Julia.png?raw=true\" align=\"left\"\n",
    "\twidth=\"50\" height=\"50\" />\n",
    "   \n",
    "She then previews the actual metadata for researchsubject, subject, and file, to make sure that they have all the information she will need for her work. Since she's mostly interested in looking at the kinds of data available from each endpoint, she uses `.head(2)` on her queries so they only give her back 2 lines of data, which is much easier to read:"
   ]
  },
  {
   "cell_type": "code",
   "execution_count": 14,
   "id": "d186b837",
   "metadata": {},
   "outputs": [
    {
     "data": {
      "text/html": [
       "<pre style=\"white-space:pre;overflow-x:auto;line-height:normal;font-family:Menlo,'DejaVu Sans Mono',consolas,'Courier New',monospace\">Getting results from database\n",
       "\n",
       "</pre>\n"
      ],
      "text/plain": [
       "Getting results from database\n",
       "\n"
      ]
     },
     "metadata": {},
     "output_type": "display_data"
    },
    {
     "name": "stdout",
     "output_type": "stream",
     "text": [
      "Total execution time: 3489 ms\n"
     ]
    },
    {
     "data": {
      "text/html": [
       "<div>\n",
       "<style scoped>\n",
       "    .dataframe tbody tr th:only-of-type {\n",
       "        vertical-align: middle;\n",
       "    }\n",
       "\n",
       "    .dataframe tbody tr th {\n",
       "        vertical-align: top;\n",
       "    }\n",
       "\n",
       "    .dataframe thead th {\n",
       "        text-align: right;\n",
       "    }\n",
       "</style>\n",
       "<table border=\"1\" class=\"dataframe\">\n",
       "  <thead>\n",
       "    <tr style=\"text-align: right;\">\n",
       "      <th></th>\n",
       "      <th>id</th>\n",
       "      <th>identifier</th>\n",
       "      <th>member_of_research_project</th>\n",
       "      <th>primary_diagnosis_condition</th>\n",
       "      <th>primary_diagnosis_site</th>\n",
       "      <th>subject_id</th>\n",
       "    </tr>\n",
       "  </thead>\n",
       "  <tbody>\n",
       "    <tr>\n",
       "      <th>0</th>\n",
       "      <td>0020317d-d10e-4e75-8fa6-7c1bdcdee471</td>\n",
       "      <td>[{'system': 'GDC', 'value': '0020317d-d10e-4e7...</td>\n",
       "      <td>TCGA-SARC</td>\n",
       "      <td>Myomatous Neoplasms</td>\n",
       "      <td>Uterus, NOS</td>\n",
       "      <td>TCGA-HS-A5NA</td>\n",
       "    </tr>\n",
       "    <tr>\n",
       "      <th>1</th>\n",
       "      <td>081e129a-0082-4fe5-9917-8d54d420289d</td>\n",
       "      <td>[{'system': 'GDC', 'value': '081e129a-0082-4fe...</td>\n",
       "      <td>GENIE-MSK</td>\n",
       "      <td>Myomatous Neoplasms</td>\n",
       "      <td>Uterus, NOS</td>\n",
       "      <td>GENIE-MSK-P-0001095</td>\n",
       "    </tr>\n",
       "  </tbody>\n",
       "</table>\n",
       "</div>"
      ],
      "text/plain": [
       "                                     id  \\\n",
       "0  0020317d-d10e-4e75-8fa6-7c1bdcdee471   \n",
       "1  081e129a-0082-4fe5-9917-8d54d420289d   \n",
       "\n",
       "                                          identifier  \\\n",
       "0  [{'system': 'GDC', 'value': '0020317d-d10e-4e7...   \n",
       "1  [{'system': 'GDC', 'value': '081e129a-0082-4fe...   \n",
       "\n",
       "  member_of_research_project primary_diagnosis_condition  \\\n",
       "0                  TCGA-SARC         Myomatous Neoplasms   \n",
       "1                  GENIE-MSK         Myomatous Neoplasms   \n",
       "\n",
       "  primary_diagnosis_site           subject_id  \n",
       "0            Uterus, NOS         TCGA-HS-A5NA  \n",
       "1            Uterus, NOS  GENIE-MSK-P-0001095  "
      ]
     },
     "execution_count": 14,
     "metadata": {},
     "output_type": "execute_result"
    }
   ],
   "source": [
    "NoAdenoData.researchsubject.run().to_dataframe().head(2) # view the first two lines of the dataframe"
   ]
  },
  {
   "cell_type": "markdown",
   "id": "086697b3",
   "metadata": {},
   "source": [
    "---\n",
    "\n",
    "<div style=\"background-color:#add9e5;color:black;padding:20px;\">\n",
    "\n",
    "<h3>ResearchSubject Field Definitions</h3>\n",
    "\n",
    "<i>A research subject is the entity of interest in a research study, typically a human being or an animal, but can also be a device, group of humans or animals, or a tissue sample. Human research subjects are usually not traceable to a particular person to protect the subject’s privacy. An individual who participates in 3 studies will have 3 researchsubject IDs</i>\n",
    "    \n",
    "<ul>\n",
    "  <li><b>id:</b> The unique identifier for this researchsubject</li>\n",
    "  <li><b>identifier:</b> An embedded array of information that includes the originating data center and the ID the researchsubject had there</li>\n",
    "  <li><b>member_of_research_project:</b> The name of the study/project that the subject particpated in</li>\n",
    "  <li><b>primary_diagnosis_condition:</b> The cancer, disease or other condition under study</li>\n",
    "  <li><b>primary_diagnosis_site:</b> The primary_disease_site that qualifies the researchsubject for the research_project</li>\n",
    "  <li><b>subject_id:</b> An identifier for the subject. Can be joined to the `id` field from subject results</li>\n",
    "</ul>  \n",
    "\n",
    "</div>\n",
    "    \n",
    "---"
   ]
  },
  {
   "cell_type": "code",
   "execution_count": 15,
   "id": "8d0f5e2f",
   "metadata": {},
   "outputs": [
    {
     "data": {
      "text/html": [
       "<pre style=\"white-space:pre;overflow-x:auto;line-height:normal;font-family:Menlo,'DejaVu Sans Mono',consolas,'Courier New',monospace\">Getting results from database\n",
       "\n",
       "</pre>\n"
      ],
      "text/plain": [
       "Getting results from database\n",
       "\n"
      ]
     },
     "metadata": {},
     "output_type": "display_data"
    },
    {
     "name": "stdout",
     "output_type": "stream",
     "text": [
      "Total execution time: 3643 ms\n"
     ]
    },
    {
     "data": {
      "text/html": [
       "<div>\n",
       "<style scoped>\n",
       "    .dataframe tbody tr th:only-of-type {\n",
       "        vertical-align: middle;\n",
       "    }\n",
       "\n",
       "    .dataframe tbody tr th {\n",
       "        vertical-align: top;\n",
       "    }\n",
       "\n",
       "    .dataframe thead th {\n",
       "        text-align: right;\n",
       "    }\n",
       "</style>\n",
       "<table border=\"1\" class=\"dataframe\">\n",
       "  <thead>\n",
       "    <tr style=\"text-align: right;\">\n",
       "      <th></th>\n",
       "      <th>id</th>\n",
       "      <th>identifier</th>\n",
       "      <th>species</th>\n",
       "      <th>sex</th>\n",
       "      <th>race</th>\n",
       "      <th>ethnicity</th>\n",
       "      <th>days_to_birth</th>\n",
       "      <th>subject_associated_project</th>\n",
       "      <th>vital_status</th>\n",
       "      <th>age_at_death</th>\n",
       "      <th>cause_of_death</th>\n",
       "    </tr>\n",
       "  </thead>\n",
       "  <tbody>\n",
       "    <tr>\n",
       "      <th>0</th>\n",
       "      <td>AD7251</td>\n",
       "      <td>[{'system': 'GDC', 'value': 'AD7251'}]</td>\n",
       "      <td>Homo sapiens</td>\n",
       "      <td>female</td>\n",
       "      <td>not reported</td>\n",
       "      <td>not reported</td>\n",
       "      <td>NaN</td>\n",
       "      <td>[FM-AD]</td>\n",
       "      <td>Not Reported</td>\n",
       "      <td>NaN</td>\n",
       "      <td>None</td>\n",
       "    </tr>\n",
       "    <tr>\n",
       "      <th>1</th>\n",
       "      <td>C3L-00942</td>\n",
       "      <td>[{'system': 'GDC', 'value': 'C3L-00942'}, {'sy...</td>\n",
       "      <td>Homo sapiens</td>\n",
       "      <td>female</td>\n",
       "      <td>white</td>\n",
       "      <td>not reported</td>\n",
       "      <td>-23631.0</td>\n",
       "      <td>[CPTAC3-Discovery, CPTAC-3, cptac_ucec]</td>\n",
       "      <td>Alive</td>\n",
       "      <td>NaN</td>\n",
       "      <td>Not Reported</td>\n",
       "    </tr>\n",
       "  </tbody>\n",
       "</table>\n",
       "</div>"
      ],
      "text/plain": [
       "          id                                         identifier       species  \\\n",
       "0     AD7251             [{'system': 'GDC', 'value': 'AD7251'}]  Homo sapiens   \n",
       "1  C3L-00942  [{'system': 'GDC', 'value': 'C3L-00942'}, {'sy...  Homo sapiens   \n",
       "\n",
       "      sex          race     ethnicity  days_to_birth  \\\n",
       "0  female  not reported  not reported            NaN   \n",
       "1  female         white  not reported       -23631.0   \n",
       "\n",
       "                subject_associated_project  vital_status  age_at_death  \\\n",
       "0                                  [FM-AD]  Not Reported           NaN   \n",
       "1  [CPTAC3-Discovery, CPTAC-3, cptac_ucec]         Alive           NaN   \n",
       "\n",
       "  cause_of_death  \n",
       "0           None  \n",
       "1   Not Reported  "
      ]
     },
     "execution_count": 15,
     "metadata": {},
     "output_type": "execute_result"
    }
   ],
   "source": [
    "NoAdenoData.subject.run().to_dataframe().head(2) # view the first two lines of the dataframe"
   ]
  },
  {
   "cell_type": "markdown",
   "id": "dec76132",
   "metadata": {},
   "source": [
    "---\n",
    "\n",
    "<div style=\"background-color:#add9e5;color:black;padding:20px;\">\n",
    "\n",
    "<h3>Subject Field Definitions</h3>\n",
    "\n",
    "<i>A subject is a specific, unique individual: for e.g. a single human. When consent allows, a given entity will have a single subject ID that can be connected to all their studies and data across all datasets</i>\n",
    "\n",
    "    \n",
    "<ul>\n",
    "  <li><b>id:</b> The unique identifier for this subject</li>\n",
    "  <li><b>identifier:</b> An embedded array of information that includes the originating data center and the ID the subject had there</li>\n",
    "  <li><b>species:</b> The species of the subject</li>\n",
    "  <li><b>sex:</b> A reference to the biological sex of the donor organism. </li>\n",
    "  <li><b>race:</b> The race of the subject</li>\n",
    "  <li><b>ethnicity:</b> The ethnicity of the subject</li>\n",
    "  <li><b>days_to_birth:</b> Number of days between the date used for index and the date from a person's date of birth represented as a calculated negative number of days</li>\n",
    "  <li><b>subject_associated_project:</b> An embedded array of the names of projects (studies) the subject was part of</li>\n",
    "  <li><b>vital_status:</b> Whether the subject is alive</li>\n",
    "  <li><b>age_at_death:</b> The number of days after first enrollment that the subject died</li>\n",
    "  <li><b>cause_of_death:</b> The cause of death, if known</li>\n",
    "</ul>  \n",
    "\n",
    "</div>\n",
    "    \n",
    "---"
   ]
  },
  {
   "cell_type": "code",
   "execution_count": 16,
   "id": "04e04136",
   "metadata": {},
   "outputs": [
    {
     "data": {
      "text/html": [
       "<pre style=\"white-space:pre;overflow-x:auto;line-height:normal;font-family:Menlo,'DejaVu Sans Mono',consolas,'Courier New',monospace\">Getting results from database\n",
       "\n",
       "</pre>\n"
      ],
      "text/plain": [
       "Getting results from database\n",
       "\n"
      ]
     },
     "metadata": {},
     "output_type": "display_data"
    },
    {
     "name": "stdout",
     "output_type": "stream",
     "text": [
      "Total execution time: 3948 ms\n"
     ]
    },
    {
     "data": {
      "text/html": [
       "<div>\n",
       "<style scoped>\n",
       "    .dataframe tbody tr th:only-of-type {\n",
       "        vertical-align: middle;\n",
       "    }\n",
       "\n",
       "    .dataframe tbody tr th {\n",
       "        vertical-align: top;\n",
       "    }\n",
       "\n",
       "    .dataframe thead th {\n",
       "        text-align: right;\n",
       "    }\n",
       "</style>\n",
       "<table border=\"1\" class=\"dataframe\">\n",
       "  <thead>\n",
       "    <tr style=\"text-align: right;\">\n",
       "      <th></th>\n",
       "      <th>id</th>\n",
       "      <th>identifier</th>\n",
       "      <th>label</th>\n",
       "      <th>data_category</th>\n",
       "      <th>data_type</th>\n",
       "      <th>file_format</th>\n",
       "      <th>associated_project</th>\n",
       "      <th>drs_uri</th>\n",
       "      <th>byte_size</th>\n",
       "      <th>checksum</th>\n",
       "      <th>data_modality</th>\n",
       "      <th>imaging_modality</th>\n",
       "      <th>dbgap_accession_number</th>\n",
       "      <th>researchsubject_specimen_id</th>\n",
       "      <th>researchsubject_id</th>\n",
       "      <th>subject_id</th>\n",
       "    </tr>\n",
       "  </thead>\n",
       "  <tbody>\n",
       "    <tr>\n",
       "      <th>0</th>\n",
       "      <td>02da6ec6-341b-4f9f-bd8f-54cc5ceed88b</td>\n",
       "      <td>[{'system': 'GDC', 'value': '02da6ec6-341b-4f9...</td>\n",
       "      <td>586d3dc0-0e65-4308-9ee2-63d43f1de70d.wgs.BRASS...</td>\n",
       "      <td>Somatic Structural Variation</td>\n",
       "      <td>Structural Rearrangement</td>\n",
       "      <td>BEDPE</td>\n",
       "      <td>CGCI-HTMCP-CC</td>\n",
       "      <td>drs://dg.4DFC:02da6ec6-341b-4f9f-bd8f-54cc5cee...</td>\n",
       "      <td>100421</td>\n",
       "      <td>f661db60a3ba026973f578abb10cec67</td>\n",
       "      <td>Genomic</td>\n",
       "      <td>None</td>\n",
       "      <td>phs000528</td>\n",
       "      <td>8e3ca471-209d-4020-aabd-b578568ed791</td>\n",
       "      <td>80d31738-d3f2-42e6-871a-f0612812a678</td>\n",
       "      <td>HTMCP-03-06-02013</td>\n",
       "    </tr>\n",
       "    <tr>\n",
       "      <th>1</th>\n",
       "      <td>2d7591a0-28ed-42e8-a14f-46cee06a3982</td>\n",
       "      <td>[{'system': 'GDC', 'value': '2d7591a0-28ed-42e...</td>\n",
       "      <td>5a08d4f6-b8f3-40ee-8931-1d521f6c7733.wgs.BRASS...</td>\n",
       "      <td>Somatic Structural Variation</td>\n",
       "      <td>Structural Rearrangement</td>\n",
       "      <td>VCF</td>\n",
       "      <td>CGCI-HTMCP-CC</td>\n",
       "      <td>drs://dg.4DFC:2d7591a0-28ed-42e8-a14f-46cee06a...</td>\n",
       "      <td>43628</td>\n",
       "      <td>8afd15c59cecff6620fb9c4327fa1b06</td>\n",
       "      <td>Genomic</td>\n",
       "      <td>None</td>\n",
       "      <td>phs000528</td>\n",
       "      <td>b1cd6f12-ccb1-413f-9659-a074bb28675a</td>\n",
       "      <td>4b0fa193-d964-4936-bb28-f21cb967e98a</td>\n",
       "      <td>HTMCP-03-06-02215</td>\n",
       "    </tr>\n",
       "  </tbody>\n",
       "</table>\n",
       "</div>"
      ],
      "text/plain": [
       "                                     id  \\\n",
       "0  02da6ec6-341b-4f9f-bd8f-54cc5ceed88b   \n",
       "1  2d7591a0-28ed-42e8-a14f-46cee06a3982   \n",
       "\n",
       "                                          identifier  \\\n",
       "0  [{'system': 'GDC', 'value': '02da6ec6-341b-4f9...   \n",
       "1  [{'system': 'GDC', 'value': '2d7591a0-28ed-42e...   \n",
       "\n",
       "                                               label  \\\n",
       "0  586d3dc0-0e65-4308-9ee2-63d43f1de70d.wgs.BRASS...   \n",
       "1  5a08d4f6-b8f3-40ee-8931-1d521f6c7733.wgs.BRASS...   \n",
       "\n",
       "                  data_category                 data_type file_format  \\\n",
       "0  Somatic Structural Variation  Structural Rearrangement       BEDPE   \n",
       "1  Somatic Structural Variation  Structural Rearrangement         VCF   \n",
       "\n",
       "  associated_project                                            drs_uri  \\\n",
       "0      CGCI-HTMCP-CC  drs://dg.4DFC:02da6ec6-341b-4f9f-bd8f-54cc5cee...   \n",
       "1      CGCI-HTMCP-CC  drs://dg.4DFC:2d7591a0-28ed-42e8-a14f-46cee06a...   \n",
       "\n",
       "   byte_size                          checksum data_modality imaging_modality  \\\n",
       "0     100421  f661db60a3ba026973f578abb10cec67       Genomic             None   \n",
       "1      43628  8afd15c59cecff6620fb9c4327fa1b06       Genomic             None   \n",
       "\n",
       "  dbgap_accession_number           researchsubject_specimen_id  \\\n",
       "0              phs000528  8e3ca471-209d-4020-aabd-b578568ed791   \n",
       "1              phs000528  b1cd6f12-ccb1-413f-9659-a074bb28675a   \n",
       "\n",
       "                     researchsubject_id         subject_id  \n",
       "0  80d31738-d3f2-42e6-871a-f0612812a678  HTMCP-03-06-02013  \n",
       "1  4b0fa193-d964-4936-bb28-f21cb967e98a  HTMCP-03-06-02215  "
      ]
     },
     "execution_count": 16,
     "metadata": {},
     "output_type": "execute_result"
    }
   ],
   "source": [
    "NoAdenoData.file.run().to_dataframe().head(2) # view the first two lines of the dataframe"
   ]
  },
  {
   "cell_type": "markdown",
   "id": "8cf9f2d3",
   "metadata": {},
   "source": [
    "\n",
    "---\n",
    "\n",
    "<div style=\"background-color:#add9e5;color:black;padding:20px;\">\n",
    "\n",
    "<h3>File Field Definitions</h3>\n",
    "\n",
    "<i>A file is an information-bearing electronic object that contains a physical embodiment of some information using a particular character encoding.</i>\n",
    "\n",
    "    \n",
    "<ul>\n",
    "  <li><b>id:</b> The unique identifier for this file</li>\n",
    "  <li><b>identifier:</b> An embedded array of information that includes the originating data center and the ID the file had there</li>\n",
    "  <li><b>label:</b> The full name of the file</li>\n",
    "  <li><b>data_catagory:</b> A desecription of the kind of general kind data the file holds</li>\n",
    "  <li><b>data_type:</b> A more specific descripton of the data type</li>\n",
    "  <li><b>file_format:</b> String to identify the full file extension including compression extensions</li>\n",
    "  <li><b>associated_project:</b> The name the data center uses for the study this file was generated for</li>\n",
    "  <li><b>drs_uri:</b> A unique identifier that can be used to retreive this specific file from a server</li>\n",
    "  <li><b>byte_size:</b> Size of the file in bytes</li>\n",
    "  <li><b>checksum:</b> The md5 value for the file</li>\n",
    "  <li><b>data_modality:</b> Describes the biological nature of the information gathered as the result of an activity, independent of the technology or methods used to produce the information. Always one of \"Genomic\", \"Proteomic\", or \"Imaging\"</li>\n",
    "  <li><b>imaging_modality:</b> For files with the `data_modality` of \"Imaging\", a descriptor for the image type</li>\n",
    "  <li><b>dbgap_accession_number:</b> The project id number for this data on dbGaP</li>\n",
    "</ul>  \n",
    "\n",
    "</div>\n",
    "    \n",
    "---\n"
   ]
  },
  {
   "cell_type": "markdown",
   "id": "ba6aadbe",
   "metadata": {},
   "source": [
    "<img src=\"https://github.com/CancerDataAggregator/readthedocs/blob/main/docs/Examples/images/Julia.png?raw=true\" align=\"left\"\n",
    "\twidth=\"50\" height=\"50\" />\n",
    "   \n",
    "Finally, Julia wants to save these results to use for the future. Since the preview dataframes only show the first 100 results of each search, she uses the `paginator` function to get all the data from the subject and researchsubject endpoints into their own dataframes:"
   ]
  },
  {
   "cell_type": "code",
   "execution_count": 17,
   "id": "c2cec2bc",
   "metadata": {},
   "outputs": [
    {
     "data": {
      "text/html": [
       "<pre style=\"white-space:pre;overflow-x:auto;line-height:normal;font-family:Menlo,'DejaVu Sans Mono',consolas,'Courier New',monospace\">Getting results from database\n",
       "\n",
       "</pre>\n"
      ],
      "text/plain": [
       "Getting results from database\n",
       "\n"
      ]
     },
     "metadata": {},
     "output_type": "display_data"
    },
    {
     "name": "stdout",
     "output_type": "stream",
     "text": [
      "Total execution time: 3422 ms\n"
     ]
    }
   ],
   "source": [
    "researchsubs = NoAdenoData.researchsubject.run()\n",
    "rsdf = pd.DataFrame()\n",
    "for i in researchsubs.paginator(to_df=True):\n",
    "    rsdf = pd.concat([rsdf, i])"
   ]
  },
  {
   "cell_type": "code",
   "execution_count": 18,
   "id": "a1258057",
   "metadata": {},
   "outputs": [
    {
     "data": {
      "text/html": [
       "<pre style=\"white-space:pre;overflow-x:auto;line-height:normal;font-family:Menlo,'DejaVu Sans Mono',consolas,'Courier New',monospace\">Getting results from database\n",
       "\n",
       "</pre>\n"
      ],
      "text/plain": [
       "Getting results from database\n",
       "\n"
      ]
     },
     "metadata": {},
     "output_type": "display_data"
    },
    {
     "name": "stdout",
     "output_type": "stream",
     "text": [
      "Total execution time: 3495 ms\n"
     ]
    }
   ],
   "source": [
    "subs = NoAdenoData.subject.run()\n",
    "subsdf = pd.DataFrame()\n",
    "for i in subs.paginator(to_df=True):\n",
    "    subsdf = pd.concat([subsdf, i])"
   ]
  },
  {
   "cell_type": "code",
   "execution_count": 19,
   "id": "04cd73df",
   "metadata": {},
   "outputs": [
    {
     "data": {
      "text/html": [
       "<div>\n",
       "<style scoped>\n",
       "    .dataframe tbody tr th:only-of-type {\n",
       "        vertical-align: middle;\n",
       "    }\n",
       "\n",
       "    .dataframe tbody tr th {\n",
       "        vertical-align: top;\n",
       "    }\n",
       "\n",
       "    .dataframe thead th {\n",
       "        text-align: right;\n",
       "    }\n",
       "</style>\n",
       "<table border=\"1\" class=\"dataframe\">\n",
       "  <thead>\n",
       "    <tr style=\"text-align: right;\">\n",
       "      <th></th>\n",
       "      <th>id</th>\n",
       "      <th>identifier</th>\n",
       "      <th>member_of_research_project</th>\n",
       "      <th>primary_diagnosis_condition</th>\n",
       "      <th>primary_diagnosis_site</th>\n",
       "      <th>subject_id</th>\n",
       "    </tr>\n",
       "  </thead>\n",
       "  <tbody>\n",
       "    <tr>\n",
       "      <th>0</th>\n",
       "      <td>0020317d-d10e-4e75-8fa6-7c1bdcdee471</td>\n",
       "      <td>[{'system': 'GDC', 'value': '0020317d-d10e-4e7...</td>\n",
       "      <td>TCGA-SARC</td>\n",
       "      <td>Myomatous Neoplasms</td>\n",
       "      <td>Uterus, NOS</td>\n",
       "      <td>TCGA-HS-A5NA</td>\n",
       "    </tr>\n",
       "    <tr>\n",
       "      <th>1</th>\n",
       "      <td>081e129a-0082-4fe5-9917-8d54d420289d</td>\n",
       "      <td>[{'system': 'GDC', 'value': '081e129a-0082-4fe...</td>\n",
       "      <td>GENIE-MSK</td>\n",
       "      <td>Myomatous Neoplasms</td>\n",
       "      <td>Uterus, NOS</td>\n",
       "      <td>GENIE-MSK-P-0001095</td>\n",
       "    </tr>\n",
       "  </tbody>\n",
       "</table>\n",
       "</div>"
      ],
      "text/plain": [
       "                                     id  \\\n",
       "0  0020317d-d10e-4e75-8fa6-7c1bdcdee471   \n",
       "1  081e129a-0082-4fe5-9917-8d54d420289d   \n",
       "\n",
       "                                          identifier  \\\n",
       "0  [{'system': 'GDC', 'value': '0020317d-d10e-4e7...   \n",
       "1  [{'system': 'GDC', 'value': '081e129a-0082-4fe...   \n",
       "\n",
       "  member_of_research_project primary_diagnosis_condition  \\\n",
       "0                  TCGA-SARC         Myomatous Neoplasms   \n",
       "1                  GENIE-MSK         Myomatous Neoplasms   \n",
       "\n",
       "  primary_diagnosis_site           subject_id  \n",
       "0            Uterus, NOS         TCGA-HS-A5NA  \n",
       "1            Uterus, NOS  GENIE-MSK-P-0001095  "
      ]
     },
     "execution_count": 19,
     "metadata": {},
     "output_type": "execute_result"
    }
   ],
   "source": [
    "rsdf.head(2) # view the first two lines of the researchsubject dataframe"
   ]
  },
  {
   "cell_type": "code",
   "execution_count": 20,
   "id": "92a6f811",
   "metadata": {},
   "outputs": [
    {
     "data": {
      "text/html": [
       "<div>\n",
       "<style scoped>\n",
       "    .dataframe tbody tr th:only-of-type {\n",
       "        vertical-align: middle;\n",
       "    }\n",
       "\n",
       "    .dataframe tbody tr th {\n",
       "        vertical-align: top;\n",
       "    }\n",
       "\n",
       "    .dataframe thead th {\n",
       "        text-align: right;\n",
       "    }\n",
       "</style>\n",
       "<table border=\"1\" class=\"dataframe\">\n",
       "  <thead>\n",
       "    <tr style=\"text-align: right;\">\n",
       "      <th></th>\n",
       "      <th>id</th>\n",
       "      <th>identifier</th>\n",
       "      <th>species</th>\n",
       "      <th>sex</th>\n",
       "      <th>race</th>\n",
       "      <th>ethnicity</th>\n",
       "      <th>days_to_birth</th>\n",
       "      <th>subject_associated_project</th>\n",
       "      <th>vital_status</th>\n",
       "      <th>age_at_death</th>\n",
       "      <th>cause_of_death</th>\n",
       "    </tr>\n",
       "  </thead>\n",
       "  <tbody>\n",
       "    <tr>\n",
       "      <th>0</th>\n",
       "      <td>AD7251</td>\n",
       "      <td>[{'system': 'GDC', 'value': 'AD7251'}]</td>\n",
       "      <td>Homo sapiens</td>\n",
       "      <td>female</td>\n",
       "      <td>not reported</td>\n",
       "      <td>not reported</td>\n",
       "      <td>NaN</td>\n",
       "      <td>[FM-AD]</td>\n",
       "      <td>Not Reported</td>\n",
       "      <td>NaN</td>\n",
       "      <td>None</td>\n",
       "    </tr>\n",
       "    <tr>\n",
       "      <th>1</th>\n",
       "      <td>C3L-00942</td>\n",
       "      <td>[{'system': 'GDC', 'value': 'C3L-00942'}, {'sy...</td>\n",
       "      <td>Homo sapiens</td>\n",
       "      <td>female</td>\n",
       "      <td>white</td>\n",
       "      <td>not reported</td>\n",
       "      <td>-23631.0</td>\n",
       "      <td>[CPTAC3-Discovery, CPTAC-3, cptac_ucec]</td>\n",
       "      <td>Alive</td>\n",
       "      <td>NaN</td>\n",
       "      <td>Not Reported</td>\n",
       "    </tr>\n",
       "  </tbody>\n",
       "</table>\n",
       "</div>"
      ],
      "text/plain": [
       "          id                                         identifier       species  \\\n",
       "0     AD7251             [{'system': 'GDC', 'value': 'AD7251'}]  Homo sapiens   \n",
       "1  C3L-00942  [{'system': 'GDC', 'value': 'C3L-00942'}, {'sy...  Homo sapiens   \n",
       "\n",
       "      sex          race     ethnicity  days_to_birth  \\\n",
       "0  female  not reported  not reported            NaN   \n",
       "1  female         white  not reported       -23631.0   \n",
       "\n",
       "                subject_associated_project  vital_status  age_at_death  \\\n",
       "0                                  [FM-AD]  Not Reported           NaN   \n",
       "1  [CPTAC3-Discovery, CPTAC-3, cptac_ucec]         Alive           NaN   \n",
       "\n",
       "  cause_of_death  \n",
       "0           None  \n",
       "1   Not Reported  "
      ]
     },
     "execution_count": 20,
     "metadata": {},
     "output_type": "execute_result"
    }
   ],
   "source": [
    "subsdf.head(2) # view the first two lines of the subject dataframe"
   ]
  },
  {
   "cell_type": "markdown",
   "id": "75bcbe86",
   "metadata": {},
   "source": [
    "<img src=\"https://github.com/CancerDataAggregator/readthedocs/blob/main/docs/Examples/images/Julia.png?raw=true\" align=\"left\"\n",
    "\twidth=\"50\" height=\"50\" />\n",
    "   \n",
    "Then Julia uses the `id` fields in each result to merge them together into one big dataset:"
   ]
  },
  {
   "cell_type": "code",
   "execution_count": 21,
   "id": "9b7a3383",
   "metadata": {},
   "outputs": [
    {
     "data": {
      "text/html": [
       "<div>\n",
       "<style scoped>\n",
       "    .dataframe tbody tr th:only-of-type {\n",
       "        vertical-align: middle;\n",
       "    }\n",
       "\n",
       "    .dataframe tbody tr th {\n",
       "        vertical-align: top;\n",
       "    }\n",
       "\n",
       "    .dataframe thead th {\n",
       "        text-align: right;\n",
       "    }\n",
       "</style>\n",
       "<table border=\"1\" class=\"dataframe\">\n",
       "  <thead>\n",
       "    <tr style=\"text-align: right;\">\n",
       "      <th></th>\n",
       "      <th>id_x</th>\n",
       "      <th>identifier_x</th>\n",
       "      <th>member_of_research_project</th>\n",
       "      <th>primary_diagnosis_condition</th>\n",
       "      <th>primary_diagnosis_site</th>\n",
       "      <th>subject_id</th>\n",
       "      <th>id_y</th>\n",
       "      <th>identifier_y</th>\n",
       "      <th>species</th>\n",
       "      <th>sex</th>\n",
       "      <th>race</th>\n",
       "      <th>ethnicity</th>\n",
       "      <th>days_to_birth</th>\n",
       "      <th>subject_associated_project</th>\n",
       "      <th>vital_status</th>\n",
       "      <th>age_at_death</th>\n",
       "      <th>cause_of_death</th>\n",
       "    </tr>\n",
       "  </thead>\n",
       "  <tbody>\n",
       "    <tr>\n",
       "      <th>0</th>\n",
       "      <td>0020317d-d10e-4e75-8fa6-7c1bdcdee471</td>\n",
       "      <td>[{'system': 'GDC', 'value': '0020317d-d10e-4e7...</td>\n",
       "      <td>TCGA-SARC</td>\n",
       "      <td>Myomatous Neoplasms</td>\n",
       "      <td>Uterus, NOS</td>\n",
       "      <td>TCGA-HS-A5NA</td>\n",
       "      <td>TCGA-HS-A5NA</td>\n",
       "      <td>[{'system': 'GDC', 'value': 'TCGA-HS-A5NA'}, {...</td>\n",
       "      <td>Homo sapiens</td>\n",
       "      <td>female</td>\n",
       "      <td>not reported</td>\n",
       "      <td>not reported</td>\n",
       "      <td>-24025.0</td>\n",
       "      <td>[tcga_sarc, TCGA-SARC]</td>\n",
       "      <td>Alive</td>\n",
       "      <td>NaN</td>\n",
       "      <td>None</td>\n",
       "    </tr>\n",
       "    <tr>\n",
       "      <th>1</th>\n",
       "      <td>081e129a-0082-4fe5-9917-8d54d420289d</td>\n",
       "      <td>[{'system': 'GDC', 'value': '081e129a-0082-4fe...</td>\n",
       "      <td>GENIE-MSK</td>\n",
       "      <td>Myomatous Neoplasms</td>\n",
       "      <td>Uterus, NOS</td>\n",
       "      <td>GENIE-MSK-P-0001095</td>\n",
       "      <td>GENIE-MSK-P-0001095</td>\n",
       "      <td>[{'system': 'GDC', 'value': 'GENIE-MSK-P-00010...</td>\n",
       "      <td>Homo sapiens</td>\n",
       "      <td>female</td>\n",
       "      <td>white</td>\n",
       "      <td>not hispanic or latino</td>\n",
       "      <td>-24837.0</td>\n",
       "      <td>[GENIE-MSK]</td>\n",
       "      <td>Not Reported</td>\n",
       "      <td>NaN</td>\n",
       "      <td>None</td>\n",
       "    </tr>\n",
       "  </tbody>\n",
       "</table>\n",
       "</div>"
      ],
      "text/plain": [
       "                                   id_x  \\\n",
       "0  0020317d-d10e-4e75-8fa6-7c1bdcdee471   \n",
       "1  081e129a-0082-4fe5-9917-8d54d420289d   \n",
       "\n",
       "                                        identifier_x  \\\n",
       "0  [{'system': 'GDC', 'value': '0020317d-d10e-4e7...   \n",
       "1  [{'system': 'GDC', 'value': '081e129a-0082-4fe...   \n",
       "\n",
       "  member_of_research_project primary_diagnosis_condition  \\\n",
       "0                  TCGA-SARC         Myomatous Neoplasms   \n",
       "1                  GENIE-MSK         Myomatous Neoplasms   \n",
       "\n",
       "  primary_diagnosis_site           subject_id                 id_y  \\\n",
       "0            Uterus, NOS         TCGA-HS-A5NA         TCGA-HS-A5NA   \n",
       "1            Uterus, NOS  GENIE-MSK-P-0001095  GENIE-MSK-P-0001095   \n",
       "\n",
       "                                        identifier_y       species     sex  \\\n",
       "0  [{'system': 'GDC', 'value': 'TCGA-HS-A5NA'}, {...  Homo sapiens  female   \n",
       "1  [{'system': 'GDC', 'value': 'GENIE-MSK-P-00010...  Homo sapiens  female   \n",
       "\n",
       "           race               ethnicity  days_to_birth  \\\n",
       "0  not reported            not reported       -24025.0   \n",
       "1         white  not hispanic or latino       -24837.0   \n",
       "\n",
       "  subject_associated_project  vital_status  age_at_death cause_of_death  \n",
       "0     [tcga_sarc, TCGA-SARC]         Alive           NaN           None  \n",
       "1                [GENIE-MSK]  Not Reported           NaN           None  "
      ]
     },
     "execution_count": 21,
     "metadata": {},
     "output_type": "execute_result"
    }
   ],
   "source": [
    "allmetadata = pd.merge(rsdf,\n",
    "                subsdf,\n",
    "                left_on=\"subject_id\",\n",
    "                right_on='id')\n",
    "\n",
    "allmetadata.head(2)"
   ]
  },
  {
   "cell_type": "markdown",
   "id": "024da831",
   "metadata": {},
   "source": [
    "<img src=\"https://github.com/CancerDataAggregator/readthedocs/blob/main/docs/Examples/images/Julia.png?raw=true\" align=\"left\"\n",
    "\twidth=\"50\" height=\"50\" />\n",
    "   \n",
    "And saves it out to a csv so she can browse it with Excel:"
   ]
  },
  {
   "cell_type": "code",
   "execution_count": 22,
   "id": "b6628de4",
   "metadata": {},
   "outputs": [],
   "source": [
    "allmetadata.to_csv(\"allmetadata.csv\")"
   ]
  },
  {
   "cell_type": "markdown",
   "id": "246644d3",
   "metadata": {},
   "source": [
    "<img src=\"https://github.com/CancerDataAggregator/readthedocs/blob/main/docs/Examples/images/Julia.png?raw=true\" align=\"left\"\n",
    "\twidth=\"50\" height=\"50\" />\n",
    "   \n",
    "Julia knows from her subject count summary that there are 297923 files associated with her subjects, which is likely far more than she needs. To help her decide what files she wants, Julia uses endpoint chaining to get summary information about the files that are assigned to researchsubjects for her search criteria:\n"
   ]
  },
  {
   "cell_type": "code",
   "execution_count": 23,
   "id": "ae1ae079",
   "metadata": {
    "scrolled": true
   },
   "outputs": [
    {
     "data": {
      "text/html": [
       "<pre style=\"white-space:pre;overflow-x:auto;line-height:normal;font-family:Menlo,'DejaVu Sans Mono',consolas,'Courier New',monospace\">Getting results from database\n",
       "\n",
       "</pre>\n"
      ],
      "text/plain": [
       "Getting results from database\n",
       "\n"
      ]
     },
     "metadata": {},
     "output_type": "display_data"
    },
    {
     "name": "stdout",
     "output_type": "stream",
     "text": [
      "Total execution time: 3460 ms\n"
     ]
    },
    {
     "data": {
      "text/html": [
       "<pre style=\"white-space:pre;overflow-x:auto;line-height:normal;font-family:Menlo,'DejaVu Sans Mono',consolas,'Courier New',monospace\">   total : <span style=\"color: #008080; text-decoration-color: #008080; font-weight: bold\">297923</span>   \n",
       "</pre>\n"
      ],
      "text/plain": [
       "   total : \u001b[1;36m297923\u001b[0m   \n"
      ]
     },
     "metadata": {},
     "output_type": "display_data"
    },
    {
     "data": {
      "text/html": [
       "<style type=\"text/css\">\n",
       "#T_ff4b5_ th {\n",
       "  background-color: #000066;\n",
       "  color: white;\n",
       "  text-align: left;\n",
       "}\n",
       "#T_ff4b5_ td {\n",
       "  text-align: left;\n",
       "  border-bottom: 1px solid black;\n",
       "}\n",
       "</style>\n",
       "<table id=\"T_ff4b5_\" style='display:inline'>\n",
       "  <thead>\n",
       "    <tr>\n",
       "      <th class=\"col_heading level0 col0\" >system</th>\n",
       "      <th class=\"col_heading level0 col1\" >count</th>\n",
       "    </tr>\n",
       "  </thead>\n",
       "  <tbody>\n",
       "    <tr>\n",
       "      <td id=\"T_ff4b5_row0_col0\" class=\"data row0 col0\" >IDC</td>\n",
       "      <td id=\"T_ff4b5_row0_col1\" class=\"data row0 col1\" >264429</td>\n",
       "    </tr>\n",
       "    <tr>\n",
       "      <td id=\"T_ff4b5_row1_col0\" class=\"data row1 col0\" >GDC</td>\n",
       "      <td id=\"T_ff4b5_row1_col1\" class=\"data row1 col1\" >30934</td>\n",
       "    </tr>\n",
       "    <tr>\n",
       "      <td id=\"T_ff4b5_row2_col0\" class=\"data row2 col0\" >PDC</td>\n",
       "      <td id=\"T_ff4b5_row2_col1\" class=\"data row2 col1\" >2560</td>\n",
       "    </tr>\n",
       "  </tbody>\n",
       "</table>\n",
       "<style type=\"text/css\">\n",
       "#T_1deb5_ th {\n",
       "  background-color: #000066;\n",
       "  color: white;\n",
       "  text-align: left;\n",
       "}\n",
       "#T_1deb5_ td {\n",
       "  text-align: left;\n",
       "  border-bottom: 1px solid black;\n",
       "}\n",
       "</style>\n",
       "<table id=\"T_1deb5_\" style='display:inline'>\n",
       "  <thead>\n",
       "    <tr>\n",
       "      <th class=\"col_heading level0 col0\" >data_category</th>\n",
       "      <th class=\"col_heading level0 col1\" >count</th>\n",
       "    </tr>\n",
       "  </thead>\n",
       "  <tbody>\n",
       "    <tr>\n",
       "      <td id=\"T_1deb5_row0_col0\" class=\"data row0 col0\" >Imaging</td>\n",
       "      <td id=\"T_1deb5_row0_col1\" class=\"data row0 col1\" >264429</td>\n",
       "    </tr>\n",
       "    <tr>\n",
       "      <td id=\"T_1deb5_row1_col0\" class=\"data row1 col0\" >Sequencing Reads</td>\n",
       "      <td id=\"T_1deb5_row1_col1\" class=\"data row1 col1\" >4137</td>\n",
       "    </tr>\n",
       "    <tr>\n",
       "      <td id=\"T_1deb5_row2_col0\" class=\"data row2 col0\" >Structural Variation</td>\n",
       "      <td id=\"T_1deb5_row2_col1\" class=\"data row2 col1\" >2188</td>\n",
       "    </tr>\n",
       "    <tr>\n",
       "      <td id=\"T_1deb5_row3_col0\" class=\"data row3 col0\" >Simple Nucleotide Variation</td>\n",
       "      <td id=\"T_1deb5_row3_col1\" class=\"data row3 col1\" >11745</td>\n",
       "    </tr>\n",
       "    <tr>\n",
       "      <td id=\"T_1deb5_row4_col0\" class=\"data row4 col0\" >Peptide Spectral Matches</td>\n",
       "      <td id=\"T_1deb5_row4_col1\" class=\"data row4 col1\" >1280</td>\n",
       "    </tr>\n",
       "    <tr>\n",
       "      <td id=\"T_1deb5_row5_col0\" class=\"data row5 col0\" >Transcriptome Profiling</td>\n",
       "      <td id=\"T_1deb5_row5_col1\" class=\"data row5 col1\" >2818</td>\n",
       "    </tr>\n",
       "    <tr>\n",
       "      <td id=\"T_1deb5_row6_col0\" class=\"data row6 col0\" >Processed Mass Spectra</td>\n",
       "      <td id=\"T_1deb5_row6_col1\" class=\"data row6 col1\" >640</td>\n",
       "    </tr>\n",
       "    <tr>\n",
       "      <td id=\"T_1deb5_row7_col0\" class=\"data row7 col0\" >Copy Number Variation</td>\n",
       "      <td id=\"T_1deb5_row7_col1\" class=\"data row7 col1\" >4079</td>\n",
       "    </tr>\n",
       "    <tr>\n",
       "      <td id=\"T_1deb5_row8_col0\" class=\"data row8 col0\" >Raw Mass Spectra</td>\n",
       "      <td id=\"T_1deb5_row8_col1\" class=\"data row8 col1\" >640</td>\n",
       "    </tr>\n",
       "    <tr>\n",
       "      <td id=\"T_1deb5_row9_col0\" class=\"data row9 col0\" >Biospecimen</td>\n",
       "      <td id=\"T_1deb5_row9_col1\" class=\"data row9 col1\" >2865</td>\n",
       "    </tr>\n",
       "    <tr>\n",
       "      <td id=\"T_1deb5_row10_col0\" class=\"data row10 col0\" >Somatic Structural Variation</td>\n",
       "      <td id=\"T_1deb5_row10_col1\" class=\"data row10 col1\" >370</td>\n",
       "    </tr>\n",
       "    <tr>\n",
       "      <td id=\"T_1deb5_row11_col0\" class=\"data row11 col0\" >Clinical</td>\n",
       "      <td id=\"T_1deb5_row11_col1\" class=\"data row11 col1\" >776</td>\n",
       "    </tr>\n",
       "    <tr>\n",
       "      <td id=\"T_1deb5_row12_col0\" class=\"data row12 col0\" >DNA Methylation</td>\n",
       "      <td id=\"T_1deb5_row12_col1\" class=\"data row12 col1\" >1617</td>\n",
       "    </tr>\n",
       "    <tr>\n",
       "      <td id=\"T_1deb5_row13_col0\" class=\"data row13 col0\" >Proteome Profiling</td>\n",
       "      <td id=\"T_1deb5_row13_col1\" class=\"data row13 col1\" >339</td>\n",
       "    </tr>\n",
       "  </tbody>\n",
       "</table>\n",
       "<style type=\"text/css\">\n",
       "#T_c2e87_ th {\n",
       "  background-color: #000066;\n",
       "  color: white;\n",
       "  text-align: left;\n",
       "}\n",
       "#T_c2e87_ td {\n",
       "  text-align: left;\n",
       "  border-bottom: 1px solid black;\n",
       "}\n",
       "</style>\n",
       "<table id=\"T_c2e87_\" style='display:inline'>\n",
       "  <thead>\n",
       "    <tr>\n",
       "      <th class=\"col_heading level0 col0\" >file_format</th>\n",
       "      <th class=\"col_heading level0 col1\" >count</th>\n",
       "    </tr>\n",
       "  </thead>\n",
       "  <tbody>\n",
       "    <tr>\n",
       "      <td id=\"T_c2e87_row0_col0\" class=\"data row0 col0\" >DICOM</td>\n",
       "      <td id=\"T_c2e87_row0_col1\" class=\"data row0 col1\" >264429</td>\n",
       "    </tr>\n",
       "    <tr>\n",
       "      <td id=\"T_c2e87_row1_col0\" class=\"data row1 col0\" >BAM</td>\n",
       "      <td id=\"T_c2e87_row1_col1\" class=\"data row1 col1\" >4137</td>\n",
       "    </tr>\n",
       "    <tr>\n",
       "      <td id=\"T_c2e87_row2_col0\" class=\"data row2 col0\" >TXT</td>\n",
       "      <td id=\"T_c2e87_row2_col1\" class=\"data row2 col1\" >4717</td>\n",
       "    </tr>\n",
       "    <tr>\n",
       "      <td id=\"T_c2e87_row3_col0\" class=\"data row3 col0\" >BCR XML</td>\n",
       "      <td id=\"T_c2e87_row3_col1\" class=\"data row3 col1\" >1215</td>\n",
       "    </tr>\n",
       "    <tr>\n",
       "      <td id=\"T_c2e87_row4_col0\" class=\"data row4 col0\" >MAF</td>\n",
       "      <td id=\"T_c2e87_row4_col1\" class=\"data row4 col1\" >5235</td>\n",
       "    </tr>\n",
       "    <tr>\n",
       "      <td id=\"T_c2e87_row5_col0\" class=\"data row5 col0\" >IDAT</td>\n",
       "      <td id=\"T_c2e87_row5_col1\" class=\"data row5 col1\" >1078</td>\n",
       "    </tr>\n",
       "    <tr>\n",
       "      <td id=\"T_c2e87_row6_col0\" class=\"data row6 col0\" >VCF</td>\n",
       "      <td id=\"T_c2e87_row6_col1\" class=\"data row6 col1\" >6652</td>\n",
       "    </tr>\n",
       "    <tr>\n",
       "      <td id=\"T_c2e87_row7_col0\" class=\"data row7 col0\" >SVS</td>\n",
       "      <td id=\"T_c2e87_row7_col1\" class=\"data row7 col1\" >1111</td>\n",
       "    </tr>\n",
       "    <tr>\n",
       "      <td id=\"T_c2e87_row8_col0\" class=\"data row8 col0\" >TSV</td>\n",
       "      <td id=\"T_c2e87_row8_col1\" class=\"data row8 col1\" >3976</td>\n",
       "    </tr>\n",
       "    <tr>\n",
       "      <td id=\"T_c2e87_row9_col0\" class=\"data row9 col0\" >tsv</td>\n",
       "      <td id=\"T_c2e87_row9_col1\" class=\"data row9 col1\" >640</td>\n",
       "    </tr>\n",
       "    <tr>\n",
       "      <td id=\"T_c2e87_row10_col0\" class=\"data row10 col0\" >BCR SSF XML</td>\n",
       "      <td id=\"T_c2e87_row10_col1\" class=\"data row10 col1\" >517</td>\n",
       "    </tr>\n",
       "    <tr>\n",
       "      <td id=\"T_c2e87_row11_col0\" class=\"data row11 col0\" >vendor-specific</td>\n",
       "      <td id=\"T_c2e87_row11_col1\" class=\"data row11 col1\" >640</td>\n",
       "    </tr>\n",
       "    <tr>\n",
       "      <td id=\"T_c2e87_row12_col0\" class=\"data row12 col0\" >BEDPE</td>\n",
       "      <td id=\"T_c2e87_row12_col1\" class=\"data row12 col1\" >1502</td>\n",
       "    </tr>\n",
       "    <tr>\n",
       "      <td id=\"T_c2e87_row13_col0\" class=\"data row13 col0\" >mzML</td>\n",
       "      <td id=\"T_c2e87_row13_col1\" class=\"data row13 col1\" >640</td>\n",
       "    </tr>\n",
       "    <tr>\n",
       "      <td id=\"T_c2e87_row14_col0\" class=\"data row14 col0\" >mzIdentML</td>\n",
       "      <td id=\"T_c2e87_row14_col1\" class=\"data row14 col1\" >640</td>\n",
       "    </tr>\n",
       "    <tr>\n",
       "      <td id=\"T_c2e87_row15_col0\" class=\"data row15 col0\" >BCR Auxiliary XML</td>\n",
       "      <td id=\"T_c2e87_row15_col1\" class=\"data row15 col1\" >474</td>\n",
       "    </tr>\n",
       "    <tr>\n",
       "      <td id=\"T_c2e87_row16_col0\" class=\"data row16 col0\" >BCR Biotab</td>\n",
       "      <td id=\"T_c2e87_row16_col1\" class=\"data row16 col1\" >80</td>\n",
       "    </tr>\n",
       "    <tr>\n",
       "      <td id=\"T_c2e87_row17_col0\" class=\"data row17 col0\" >BCR OMF XML</td>\n",
       "      <td id=\"T_c2e87_row17_col1\" class=\"data row17 col1\" >39</td>\n",
       "    </tr>\n",
       "    <tr>\n",
       "      <td id=\"T_c2e87_row18_col0\" class=\"data row18 col0\" >BCR PPS XML</td>\n",
       "      <td id=\"T_c2e87_row18_col1\" class=\"data row18 col1\" >192</td>\n",
       "    </tr>\n",
       "    <tr>\n",
       "      <td id=\"T_c2e87_row19_col0\" class=\"data row19 col0\" >XLSX</td>\n",
       "      <td id=\"T_c2e87_row19_col1\" class=\"data row19 col1\" >9</td>\n",
       "    </tr>\n",
       "  </tbody>\n",
       "</table>\n",
       "<style type=\"text/css\">\n",
       "#T_82873_ th {\n",
       "  background-color: #000066;\n",
       "  color: white;\n",
       "  text-align: left;\n",
       "}\n",
       "#T_82873_ td {\n",
       "  text-align: left;\n",
       "  border-bottom: 1px solid black;\n",
       "}\n",
       "</style>\n",
       "<table id=\"T_82873_\" style='display:inline'>\n",
       "  <thead>\n",
       "    <tr>\n",
       "      <th class=\"col_heading level0 col0\" >data_type</th>\n",
       "      <th class=\"col_heading level0 col1\" >count</th>\n",
       "    </tr>\n",
       "  </thead>\n",
       "  <tbody>\n",
       "    <tr>\n",
       "      <td id=\"T_82873_row0_col0\" class=\"data row0 col0\" >None</td>\n",
       "      <td id=\"T_82873_row0_col1\" class=\"data row0 col1\" >264429</td>\n",
       "    </tr>\n",
       "    <tr>\n",
       "      <td id=\"T_82873_row1_col0\" class=\"data row1 col0\" >Aligned Reads</td>\n",
       "      <td id=\"T_82873_row1_col1\" class=\"data row1 col1\" >4137</td>\n",
       "    </tr>\n",
       "    <tr>\n",
       "      <td id=\"T_82873_row2_col0\" class=\"data row2 col0\" >Biospecimen Supplement</td>\n",
       "      <td id=\"T_82873_row2_col1\" class=\"data row2 col1\" >1754</td>\n",
       "    </tr>\n",
       "    <tr>\n",
       "      <td id=\"T_82873_row3_col0\" class=\"data row3 col0\" >Annotated Somatic Mutation</td>\n",
       "      <td id=\"T_82873_row3_col1\" class=\"data row3 col1\" >6043</td>\n",
       "    </tr>\n",
       "    <tr>\n",
       "      <td id=\"T_82873_row4_col0\" class=\"data row4 col0\" >Raw Simple Somatic Mutation</td>\n",
       "      <td id=\"T_82873_row4_col1\" class=\"data row4 col1\" >3397</td>\n",
       "    </tr>\n",
       "    <tr>\n",
       "      <td id=\"T_82873_row5_col0\" class=\"data row5 col0\" >Masked Copy Number Segment</td>\n",
       "      <td id=\"T_82873_row5_col1\" class=\"data row5 col1\" >998</td>\n",
       "    </tr>\n",
       "    <tr>\n",
       "      <td id=\"T_82873_row6_col0\" class=\"data row6 col0\" >Splice Junction Quantification</td>\n",
       "      <td id=\"T_82873_row6_col1\" class=\"data row6 col1\" >709</td>\n",
       "    </tr>\n",
       "    <tr>\n",
       "      <td id=\"T_82873_row7_col0\" class=\"data row7 col0\" >Gene Level Copy Number Scores</td>\n",
       "      <td id=\"T_82873_row7_col1\" class=\"data row7 col1\" >809</td>\n",
       "    </tr>\n",
       "    <tr>\n",
       "      <td id=\"T_82873_row8_col0\" class=\"data row8 col0\" >Clinical Supplement</td>\n",
       "      <td id=\"T_82873_row8_col1\" class=\"data row8 col1\" >776</td>\n",
       "    </tr>\n",
       "    <tr>\n",
       "      <td id=\"T_82873_row9_col0\" class=\"data row9 col0\" >Slide Image</td>\n",
       "      <td id=\"T_82873_row9_col1\" class=\"data row9 col1\" >1111</td>\n",
       "    </tr>\n",
       "    <tr>\n",
       "      <td id=\"T_82873_row10_col0\" class=\"data row10 col0\" >Methylation Beta Value</td>\n",
       "      <td id=\"T_82873_row10_col1\" class=\"data row10 col1\" >539</td>\n",
       "    </tr>\n",
       "    <tr>\n",
       "      <td id=\"T_82873_row11_col0\" class=\"data row11 col0\" >Isoform Expression Quantification</td>\n",
       "      <td id=\"T_82873_row11_col1\" class=\"data row11 col1\" >700</td>\n",
       "    </tr>\n",
       "    <tr>\n",
       "      <td id=\"T_82873_row12_col0\" class=\"data row12 col0\" >Masked Annotated Somatic Mutation</td>\n",
       "      <td id=\"T_82873_row12_col1\" class=\"data row12 col1\" >1024</td>\n",
       "    </tr>\n",
       "    <tr>\n",
       "      <td id=\"T_82873_row13_col0\" class=\"data row13 col0\" >Transcript Fusion</td>\n",
       "      <td id=\"T_82873_row13_col1\" class=\"data row13 col1\" >2274</td>\n",
       "    </tr>\n",
       "    <tr>\n",
       "      <td id=\"T_82873_row14_col0\" class=\"data row14 col0\" >Allele-specific Copy Number Segment</td>\n",
       "      <td id=\"T_82873_row14_col1\" class=\"data row14 col1\" >495</td>\n",
       "    </tr>\n",
       "    <tr>\n",
       "      <td id=\"T_82873_row15_col0\" class=\"data row15 col0\" >Proprietary</td>\n",
       "      <td id=\"T_82873_row15_col1\" class=\"data row15 col1\" >640</td>\n",
       "    </tr>\n",
       "    <tr>\n",
       "      <td id=\"T_82873_row16_col0\" class=\"data row16 col0\" >Protein Expression Quantification</td>\n",
       "      <td id=\"T_82873_row16_col1\" class=\"data row16 col1\" >339</td>\n",
       "    </tr>\n",
       "    <tr>\n",
       "      <td id=\"T_82873_row17_col0\" class=\"data row17 col0\" >Gene Expression Quantification</td>\n",
       "      <td id=\"T_82873_row17_col1\" class=\"data row17 col1\" >709</td>\n",
       "    </tr>\n",
       "    <tr>\n",
       "      <td id=\"T_82873_row18_col0\" class=\"data row18 col0\" >Open Standard</td>\n",
       "      <td id=\"T_82873_row18_col1\" class=\"data row18 col1\" >1280</td>\n",
       "    </tr>\n",
       "    <tr>\n",
       "      <td id=\"T_82873_row19_col0\" class=\"data row19 col0\" >Aggregated Somatic Mutation</td>\n",
       "      <td id=\"T_82873_row19_col1\" class=\"data row19 col1\" >732</td>\n",
       "    </tr>\n",
       "    <tr>\n",
       "      <td id=\"T_82873_row20_col0\" class=\"data row20 col0\" >Text</td>\n",
       "      <td id=\"T_82873_row20_col1\" class=\"data row20 col1\" >640</td>\n",
       "    </tr>\n",
       "    <tr>\n",
       "      <td id=\"T_82873_row21_col0\" class=\"data row21 col0\" >miRNA Expression Quantification</td>\n",
       "      <td id=\"T_82873_row21_col1\" class=\"data row21 col1\" >700</td>\n",
       "    </tr>\n",
       "    <tr>\n",
       "      <td id=\"T_82873_row22_col0\" class=\"data row22 col0\" >Masked Intensities</td>\n",
       "      <td id=\"T_82873_row22_col1\" class=\"data row22 col1\" >1078</td>\n",
       "    </tr>\n",
       "    <tr>\n",
       "      <td id=\"T_82873_row23_col0\" class=\"data row23 col0\" >Masked Somatic Mutation</td>\n",
       "      <td id=\"T_82873_row23_col1\" class=\"data row23 col1\" >549</td>\n",
       "    </tr>\n",
       "    <tr>\n",
       "      <td id=\"T_82873_row24_col0\" class=\"data row24 col0\" >Gene Level Copy Number</td>\n",
       "      <td id=\"T_82873_row24_col1\" class=\"data row24 col1\" >637</td>\n",
       "    </tr>\n",
       "    <tr>\n",
       "      <td id=\"T_82873_row25_col0\" class=\"data row25 col0\" >Copy Number Segment</td>\n",
       "      <td id=\"T_82873_row25_col1\" class=\"data row25 col1\" >1140</td>\n",
       "    </tr>\n",
       "    <tr>\n",
       "      <td id=\"T_82873_row26_col0\" class=\"data row26 col0\" >Structural Rearrangement</td>\n",
       "      <td id=\"T_82873_row26_col1\" class=\"data row26 col1\" >284</td>\n",
       "    </tr>\n",
       "  </tbody>\n",
       "</table>\n"
      ]
     },
     "metadata": {},
     "output_type": "display_data"
    },
    {
     "data": {
      "text/plain": []
     },
     "execution_count": 23,
     "metadata": {},
     "output_type": "execute_result"
    }
   ],
   "source": [
    "NoAdenoData.researchsubject.file.count.run()"
   ]
  },
  {
   "cell_type": "markdown",
   "id": "111f47c0",
   "metadata": {},
   "source": [
    "<img src=\"https://github.com/CancerDataAggregator/readthedocs/blob/main/docs/Examples/images/Julia.png?raw=true\" align=\"left\"\n",
    "\twidth=\"50\" height=\"50\" />\n",
    "    \n",
    "Julia decides that a good place to start would be with Slide Images. There's only 1111, so she should be able to quickly scan through them over the next few days and see if they will be useful. So she adds one more filter on her search:"
   ]
  },
  {
   "cell_type": "code",
   "execution_count": 24,
   "id": "d4a170b3",
   "metadata": {
    "scrolled": true
   },
   "outputs": [
    {
     "data": {
      "text/html": [
       "<pre style=\"white-space:pre;overflow-x:auto;line-height:normal;font-family:Menlo,'DejaVu Sans Mono',consolas,'Courier New',monospace\">Getting results from database\n",
       "\n",
       "</pre>\n"
      ],
      "text/plain": [
       "Getting results from database\n",
       "\n"
      ]
     },
     "metadata": {},
     "output_type": "display_data"
    },
    {
     "name": "stdout",
     "output_type": "stream",
     "text": [
      "Total execution time: 3361 ms\n"
     ]
    },
    {
     "data": {
      "text/html": [
       "<pre style=\"white-space:pre;overflow-x:auto;line-height:normal;font-family:Menlo,'DejaVu Sans Mono',consolas,'Courier New',monospace\">    total : <span style=\"color: #008080; text-decoration-color: #008080; font-weight: bold\">1111</span>    \n",
       "</pre>\n"
      ],
      "text/plain": [
       "    total : \u001b[1;36m1111\u001b[0m    \n"
      ]
     },
     "metadata": {},
     "output_type": "display_data"
    },
    {
     "data": {
      "text/html": [
       "<style type=\"text/css\">\n",
       "#T_e7f6f_ th {\n",
       "  background-color: #000066;\n",
       "  color: white;\n",
       "  text-align: left;\n",
       "}\n",
       "#T_e7f6f_ td {\n",
       "  text-align: left;\n",
       "  border-bottom: 1px solid black;\n",
       "}\n",
       "</style>\n",
       "<table id=\"T_e7f6f_\" style='display:inline'>\n",
       "  <thead>\n",
       "    <tr>\n",
       "      <th class=\"col_heading level0 col0\" >system</th>\n",
       "      <th class=\"col_heading level0 col1\" >count</th>\n",
       "    </tr>\n",
       "  </thead>\n",
       "  <tbody>\n",
       "    <tr>\n",
       "      <td id=\"T_e7f6f_row0_col0\" class=\"data row0 col0\" >GDC</td>\n",
       "      <td id=\"T_e7f6f_row0_col1\" class=\"data row0 col1\" >1111</td>\n",
       "    </tr>\n",
       "  </tbody>\n",
       "</table>\n",
       "<style type=\"text/css\">\n",
       "#T_e57c0_ th {\n",
       "  background-color: #000066;\n",
       "  color: white;\n",
       "  text-align: left;\n",
       "}\n",
       "#T_e57c0_ td {\n",
       "  text-align: left;\n",
       "  border-bottom: 1px solid black;\n",
       "}\n",
       "</style>\n",
       "<table id=\"T_e57c0_\" style='display:inline'>\n",
       "  <thead>\n",
       "    <tr>\n",
       "      <th class=\"col_heading level0 col0\" >data_category</th>\n",
       "      <th class=\"col_heading level0 col1\" >count</th>\n",
       "    </tr>\n",
       "  </thead>\n",
       "  <tbody>\n",
       "    <tr>\n",
       "      <td id=\"T_e57c0_row0_col0\" class=\"data row0 col0\" >Biospecimen</td>\n",
       "      <td id=\"T_e57c0_row0_col1\" class=\"data row0 col1\" >1111</td>\n",
       "    </tr>\n",
       "  </tbody>\n",
       "</table>\n",
       "<style type=\"text/css\">\n",
       "#T_153ff_ th {\n",
       "  background-color: #000066;\n",
       "  color: white;\n",
       "  text-align: left;\n",
       "}\n",
       "#T_153ff_ td {\n",
       "  text-align: left;\n",
       "  border-bottom: 1px solid black;\n",
       "}\n",
       "</style>\n",
       "<table id=\"T_153ff_\" style='display:inline'>\n",
       "  <thead>\n",
       "    <tr>\n",
       "      <th class=\"col_heading level0 col0\" >file_format</th>\n",
       "      <th class=\"col_heading level0 col1\" >count</th>\n",
       "    </tr>\n",
       "  </thead>\n",
       "  <tbody>\n",
       "    <tr>\n",
       "      <td id=\"T_153ff_row0_col0\" class=\"data row0 col0\" >SVS</td>\n",
       "      <td id=\"T_153ff_row0_col1\" class=\"data row0 col1\" >1111</td>\n",
       "    </tr>\n",
       "  </tbody>\n",
       "</table>\n",
       "<style type=\"text/css\">\n",
       "#T_e951f_ th {\n",
       "  background-color: #000066;\n",
       "  color: white;\n",
       "  text-align: left;\n",
       "}\n",
       "#T_e951f_ td {\n",
       "  text-align: left;\n",
       "  border-bottom: 1px solid black;\n",
       "}\n",
       "</style>\n",
       "<table id=\"T_e951f_\" style='display:inline'>\n",
       "  <thead>\n",
       "    <tr>\n",
       "      <th class=\"col_heading level0 col0\" >data_type</th>\n",
       "      <th class=\"col_heading level0 col1\" >count</th>\n",
       "    </tr>\n",
       "  </thead>\n",
       "  <tbody>\n",
       "    <tr>\n",
       "      <td id=\"T_e951f_row0_col0\" class=\"data row0 col0\" >Slide Image</td>\n",
       "      <td id=\"T_e951f_row0_col1\" class=\"data row0 col1\" >1111</td>\n",
       "    </tr>\n",
       "  </tbody>\n",
       "</table>\n"
      ]
     },
     "metadata": {},
     "output_type": "display_data"
    },
    {
     "data": {
      "text/plain": []
     },
     "execution_count": 24,
     "metadata": {},
     "output_type": "execute_result"
    }
   ],
   "source": [
    "JustSlides = Q('file.data_type = \"Slide Image\"')\n",
    "NoadenoJustSlides = NoAdenoData.AND(JustSlides)\n",
    "NoadenoJustSlides.researchsubject.file.count.run()"
   ]
  },
  {
   "cell_type": "markdown",
   "id": "0e385faf",
   "metadata": {},
   "source": [
    "<img src=\"https://github.com/CancerDataAggregator/readthedocs/blob/main/docs/Examples/images/Julia.png?raw=true\" align=\"left\"\n",
    "\twidth=\"50\" height=\"50\" />\n",
    "    \n",
    "Finally, Julia uses the pagenation function again to get all the slide files, and merges her metadata file with this file information. This way she will be able to review what phenotypes each slide is associated with:"
   ]
  },
  {
   "cell_type": "code",
   "execution_count": 25,
   "id": "f45f6503",
   "metadata": {
    "scrolled": true
   },
   "outputs": [
    {
     "data": {
      "text/html": [
       "<pre style=\"white-space:pre;overflow-x:auto;line-height:normal;font-family:Menlo,'DejaVu Sans Mono',consolas,'Courier New',monospace\">Getting results from database\n",
       "\n",
       "</pre>\n"
      ],
      "text/plain": [
       "Getting results from database\n",
       "\n"
      ]
     },
     "metadata": {},
     "output_type": "display_data"
    },
    {
     "name": "stdout",
     "output_type": "stream",
     "text": [
      "Total execution time: 3501 ms\n"
     ]
    }
   ],
   "source": [
    "slides = NoadenoJustSlides.researchsubject.file.run()\n",
    "slidesdf = pd.DataFrame()\n",
    "for i in slides.paginator(to_df=True):\n",
    "    slidesdf = pd.concat([slidesdf, i])\n"
   ]
  },
  {
   "cell_type": "code",
   "execution_count": 26,
   "id": "0d1f7a21",
   "metadata": {
    "scrolled": true
   },
   "outputs": [
    {
     "data": {
      "text/html": [
       "<div>\n",
       "<style scoped>\n",
       "    .dataframe tbody tr th:only-of-type {\n",
       "        vertical-align: middle;\n",
       "    }\n",
       "\n",
       "    .dataframe tbody tr th {\n",
       "        vertical-align: top;\n",
       "    }\n",
       "\n",
       "    .dataframe thead th {\n",
       "        text-align: right;\n",
       "    }\n",
       "</style>\n",
       "<table border=\"1\" class=\"dataframe\">\n",
       "  <thead>\n",
       "    <tr style=\"text-align: right;\">\n",
       "      <th></th>\n",
       "      <th>id</th>\n",
       "      <th>identifier</th>\n",
       "      <th>label</th>\n",
       "      <th>data_category</th>\n",
       "      <th>data_type</th>\n",
       "      <th>file_format</th>\n",
       "      <th>associated_project</th>\n",
       "      <th>drs_uri</th>\n",
       "      <th>byte_size</th>\n",
       "      <th>checksum</th>\n",
       "      <th>...</th>\n",
       "      <th>identifier_y</th>\n",
       "      <th>species</th>\n",
       "      <th>sex</th>\n",
       "      <th>race</th>\n",
       "      <th>ethnicity</th>\n",
       "      <th>days_to_birth</th>\n",
       "      <th>subject_associated_project</th>\n",
       "      <th>vital_status</th>\n",
       "      <th>age_at_death</th>\n",
       "      <th>cause_of_death</th>\n",
       "    </tr>\n",
       "  </thead>\n",
       "  <tbody>\n",
       "    <tr>\n",
       "      <th>0</th>\n",
       "      <td>0261cb79-9879-480a-9626-63fd50d6daea</td>\n",
       "      <td>[{'system': 'GDC', 'value': '0261cb79-9879-480...</td>\n",
       "      <td>TCGA-VS-A9UP-01A-01-TS1.68E82753-9B6E-4544-B91...</td>\n",
       "      <td>Biospecimen</td>\n",
       "      <td>Slide Image</td>\n",
       "      <td>SVS</td>\n",
       "      <td>TCGA-CESC</td>\n",
       "      <td>drs://dg.4DFC:0261cb79-9879-480a-9626-63fd50d6...</td>\n",
       "      <td>201483703</td>\n",
       "      <td>8318b25bce4cc03960bdbca1112c520b</td>\n",
       "      <td>...</td>\n",
       "      <td>[{'system': 'GDC', 'value': 'TCGA-VS-A9UP'}, {...</td>\n",
       "      <td>Homo sapiens</td>\n",
       "      <td>female</td>\n",
       "      <td>not reported</td>\n",
       "      <td>not reported</td>\n",
       "      <td>-15849.0</td>\n",
       "      <td>[TCGA-CESC, tcga_cesc]</td>\n",
       "      <td>Alive</td>\n",
       "      <td>NaN</td>\n",
       "      <td>None</td>\n",
       "    </tr>\n",
       "    <tr>\n",
       "      <th>1</th>\n",
       "      <td>0261cb79-9879-480a-9626-63fd50d6daea</td>\n",
       "      <td>[{'system': 'GDC', 'value': '0261cb79-9879-480...</td>\n",
       "      <td>TCGA-VS-A9UP-01A-01-TS1.68E82753-9B6E-4544-B91...</td>\n",
       "      <td>Biospecimen</td>\n",
       "      <td>Slide Image</td>\n",
       "      <td>SVS</td>\n",
       "      <td>TCGA-CESC</td>\n",
       "      <td>drs://dg.4DFC:0261cb79-9879-480a-9626-63fd50d6...</td>\n",
       "      <td>201483703</td>\n",
       "      <td>8318b25bce4cc03960bdbca1112c520b</td>\n",
       "      <td>...</td>\n",
       "      <td>[{'system': 'GDC', 'value': 'TCGA-VS-A9UP'}, {...</td>\n",
       "      <td>Homo sapiens</td>\n",
       "      <td>female</td>\n",
       "      <td>not reported</td>\n",
       "      <td>not reported</td>\n",
       "      <td>-15849.0</td>\n",
       "      <td>[TCGA-CESC, tcga_cesc]</td>\n",
       "      <td>Alive</td>\n",
       "      <td>NaN</td>\n",
       "      <td>None</td>\n",
       "    </tr>\n",
       "  </tbody>\n",
       "</table>\n",
       "<p>2 rows × 31 columns</p>\n",
       "</div>"
      ],
      "text/plain": [
       "                                     id  \\\n",
       "0  0261cb79-9879-480a-9626-63fd50d6daea   \n",
       "1  0261cb79-9879-480a-9626-63fd50d6daea   \n",
       "\n",
       "                                          identifier  \\\n",
       "0  [{'system': 'GDC', 'value': '0261cb79-9879-480...   \n",
       "1  [{'system': 'GDC', 'value': '0261cb79-9879-480...   \n",
       "\n",
       "                                               label data_category  \\\n",
       "0  TCGA-VS-A9UP-01A-01-TS1.68E82753-9B6E-4544-B91...   Biospecimen   \n",
       "1  TCGA-VS-A9UP-01A-01-TS1.68E82753-9B6E-4544-B91...   Biospecimen   \n",
       "\n",
       "     data_type file_format associated_project  \\\n",
       "0  Slide Image         SVS          TCGA-CESC   \n",
       "1  Slide Image         SVS          TCGA-CESC   \n",
       "\n",
       "                                             drs_uri  byte_size  \\\n",
       "0  drs://dg.4DFC:0261cb79-9879-480a-9626-63fd50d6...  201483703   \n",
       "1  drs://dg.4DFC:0261cb79-9879-480a-9626-63fd50d6...  201483703   \n",
       "\n",
       "                           checksum  ...  \\\n",
       "0  8318b25bce4cc03960bdbca1112c520b  ...   \n",
       "1  8318b25bce4cc03960bdbca1112c520b  ...   \n",
       "\n",
       "                                        identifier_y       species     sex  \\\n",
       "0  [{'system': 'GDC', 'value': 'TCGA-VS-A9UP'}, {...  Homo sapiens  female   \n",
       "1  [{'system': 'GDC', 'value': 'TCGA-VS-A9UP'}, {...  Homo sapiens  female   \n",
       "\n",
       "           race     ethnicity days_to_birth subject_associated_project  \\\n",
       "0  not reported  not reported      -15849.0     [TCGA-CESC, tcga_cesc]   \n",
       "1  not reported  not reported      -15849.0     [TCGA-CESC, tcga_cesc]   \n",
       "\n",
       "  vital_status age_at_death cause_of_death  \n",
       "0        Alive          NaN           None  \n",
       "1        Alive          NaN           None  \n",
       "\n",
       "[2 rows x 31 columns]"
      ]
     },
     "execution_count": 26,
     "metadata": {},
     "output_type": "execute_result"
    }
   ],
   "source": [
    "slidemetadata = pd.merge(slidesdf, \n",
    "                         allmetadata, \n",
    "                         on=\"subject_id\")\n",
    "slidemetadata.head(2)"
   ]
  },
  {
   "cell_type": "markdown",
   "id": "3abb0f32",
   "metadata": {},
   "source": [
    "<img src=\"https://github.com/CancerDataAggregator/readthedocs/blob/main/docs/Examples/images/Julia.png?raw=true\" align=\"left\"\n",
    "\twidth=\"50\" height=\"50\" />\n",
    "    \n",
    "She saves this file out as well."
   ]
  },
  {
   "cell_type": "code",
   "execution_count": 27,
   "id": "8ef6e0fb",
   "metadata": {},
   "outputs": [],
   "source": [
    "slidemetadata.to_csv(\"slidemetadata.csv\")"
   ]
  },
  {
   "cell_type": "markdown",
   "id": "369a3068",
   "metadata": {},
   "source": [
    "<img src=\"https://github.com/CancerDataAggregator/readthedocs/blob/main/docs/Examples/images/Julia.png?raw=true\" align=\"left\"\n",
    "\twidth=\"50\" height=\"50\" />\n",
    "    \n",
    "Now Julia has all the information she needs to begin work on her project. She can use the `drs_id` column information to directly download the images she is interested in using a DRS resolver, or she can input the DRS IDs at a cloud workspace such as [Terra](https://terra.bio/) or the [Cancer Genomics Cloud](https://www.cancergenomicscloud.org/) to view the images online. In either case, she has all the metadata she needs to get started, and can save this notebook of her work in case she'd like to come back and modify her search."
   ]
  }
 ],
 "metadata": {
  "kernelspec": {
   "display_name": "Python 3 (ipykernel)",
   "language": "python",
   "name": "python3"
  },
  "language_info": {
   "codemirror_mode": {
    "name": "ipython",
    "version": 3
   },
   "file_extension": ".py",
   "mimetype": "text/x-python",
   "name": "python",
   "nbconvert_exporter": "python",
   "pygments_lexer": "ipython3",
   "version": "3.7.13"
  }
 },
 "nbformat": 4,
 "nbformat_minor": 5
}
