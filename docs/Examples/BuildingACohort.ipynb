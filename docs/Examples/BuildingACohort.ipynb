{
 "cells": [
  {
   "cell_type": "markdown",
   "id": "614a478f",
   "metadata": {},
   "source": [
    "# Cohort Building"
   ]
  },
  {
   "cell_type": "markdown",
   "id": "a8004e87",
   "metadata": {},
   "source": [
    "**Example use case:** \n",
    "\n",
    "<img src=\"https://github.com/CancerDataAggregator/readthedocs/blob/main/docs/Examples/images/Julia.png?raw=true\" alt=\"alt_text\" align=\"left\"\n",
    "\twidth=\"150\" height=\"150\" />\n",
    "Julia is an oncologist that specializes in female reproductive health. As part of her research, she is interested in  using existing data on uterine cancers. If possible, she would like to see multiple datatypes (gross imaging, genomic data, proteomic data, histology) that come from the same patient, so she can look for shared phenotypes to test for their potential as early diagnostics. Julia heard that the Cancer Data Aggregator has made it easy to search across multiple datasets created by NCI, and so has decided to start her search there.\n",
    "\n"
   ]
  },
  {
   "cell_type": "markdown",
   "id": "14e45a9b",
   "metadata": {},
   "source": [
    "## Getting Started\n",
    "\n",
    "The CDA provides a custom python tool for searching CDA data. [`Q`](usage/#q) (short for Query) offers several ways to search and filter data, and several input modes:\n",
    "\n",
    "---\n",
    "- **<a href=\"../../QuickStart/usage/#q\">Q.()</a>** builds a query that can be used by `run()` or `count()`\n",
    "- **<a href=\"../../QuickStart/usage/#qrun\">Q.run()</a>** returns data for the specified search \n",
    "- **<a href=\"../../QuickStart/usage/#qcount\">Q.count()</a>** returns summary information (counts) data that fit the specified search\n",
    "- **<a href=\"../../QuickStart/usage/#columns\">columns()</a>** returns entity field names\n",
    "- **<a href=\"../../QuickStart/usage/#unique_terms\">unique_terms()</a>** returns entity field contents\n",
    "\n",
    "---\n",
    "\n",
    "Before Julia does any work, she needs to import these functions cdapython.\n",
    "She'll also need to import [pandas](https://pandas.pydata.org/) to get nice dataframes.\n",
    "Finally, she tells cdapython to report it's version so she can be sure she's using the one she means to:"
   ]
  },
  {
   "cell_type": "code",
   "execution_count": 1,
   "id": "a5265d4d",
   "metadata": {},
   "outputs": [
    {
     "name": "stdout",
     "output_type": "stream",
     "text": [
      "2022.6.22\n"
     ]
    }
   ],
   "source": [
    "from cdapython import Q, columns, unique_terms, query\n",
    "import cdapython\n",
    "import pandas as pd \n",
    "print(cdapython.__version__)"
   ]
  },
  {
   "cell_type": "markdown",
   "id": "75eef23e",
   "metadata": {},
   "source": [
    "<div style=\"background-color:#b3e5d5;color:black;padding:20px;\">\n",
    "    \n",
    "CDA data comes from three sources:\n",
    "<ul>\n",
    "<li><b>The <a href=\"https://proteomic.datacommons.cancer.gov/pdc/\"> Proteomic Data Commons</a> (PDC)</b></li>\n",
    "<li><b>The <a href=\"https://gdc.cancer.gov/\">Genomic Data Commons</a> (GDC)</b></li>\n",
    "<li><b>The <a href=\"https://datacommons.cancer.gov/repository/imaging-data-commons\">Imaging Data Commons</a> (IDC)</b></li>\n",
    "</ul> \n",
    "    \n",
    "The CDA makes this data searchable in four main endpoints:\n",
    "\n",
    "<ul>\n",
    "<li><b>subject:</b> A patient entity captures the study-independent metadata for research subjects. Human research subjects are usually not traceable to a particular person to protect the subjects privacy.</li>\n",
    "<li><b>researchsubject:</b> A research subject is the entity of interest in a specific research study or project, typically a human being or an animal, but can also be a device, group of humans or animals, or a tissue sample. Human research subjects are usually not traceable to a particular person to protect the subjects privacy. This entity plays the role of the case_id in existing data. An individual who participates in 3 studies will have 3 researchsubject IDs</li>\n",
    "<li><b>specimen:</b> Any material taken as a sample from a biological entity (living or dead), or from a physical object or the environment. Specimens are usually collected as an example of their kind, often for use in some investigation.</li>\n",
    "<li><b>file:</b> A unit of data about subjects, researchsubjects, specimens, or their associated information</li>\n",
    "</ul>\n",
    "and two endpoints that offer deeper information about data in the researchsubject endpoint:\n",
    "<ul>\n",
    "<li><b>diagnosis:</b> A collection of characteristics that describe an abnormal condition of the body as assessed at a point in time. May be used to capture information about neoplastic and non-neoplastic conditions.</li>\n",
    "<li><b>treatment:</b> Represent medication administration or other treatment types.</li>\n",
    "</ul>\n",
    "Any metadata field can be searched from any endpoint, the only difference between search types is what type of data is returned by default. This means that you can think of the CDA as a really, really enormous spreadsheet full of data. To search this enormous spreadsheet, you'd want select columns, and then filter rows.\n",
    "</div>\n"
   ]
  },
  {
   "cell_type": "markdown",
   "id": "391bc9a7",
   "metadata": {},
   "source": [
    "## Finding Search Terms\n",
    "\n",
    "<img src=\"https://github.com/CancerDataAggregator/readthedocs/blob/main/docs/Examples/images/Julia.png?raw=true\" align=\"left\"\n",
    "\twidth=\"50\" height=\"50\" />\n",
    "   \n",
    "   \n",
    "   Accordingly, to see what search fields are available, Julia starts by using the command `columns`:"
   ]
  },
  {
   "cell_type": "code",
   "execution_count": 2,
   "id": "ef0dd8e5",
   "metadata": {
    "scrolled": true
   },
   "outputs": [
    {
     "data": {
      "text/plain": [
       "['id',\n",
       " 'identifier',\n",
       " 'identifier.system',\n",
       " 'identifier.value',\n",
       " 'species',\n",
       " 'sex',\n",
       " 'race',\n",
       " 'ethnicity',\n",
       " 'days_to_birth',\n",
       " 'subject_associated_project',\n",
       " 'vital_status',\n",
       " 'age_at_death',\n",
       " 'cause_of_death',\n",
       " 'Files',\n",
       " 'ResearchSubject',\n",
       " 'ResearchSubject.id',\n",
       " 'ResearchSubject.identifier',\n",
       " 'ResearchSubject.identifier.system',\n",
       " 'ResearchSubject.identifier.value',\n",
       " 'ResearchSubject.member_of_research_project',\n",
       " 'ResearchSubject.primary_diagnosis_condition',\n",
       " 'ResearchSubject.primary_diagnosis_site',\n",
       " 'ResearchSubject.Files',\n",
       " 'ResearchSubject.Diagnosis',\n",
       " 'ResearchSubject.Diagnosis.id',\n",
       " 'ResearchSubject.Diagnosis.identifier',\n",
       " 'ResearchSubject.Diagnosis.identifier.system',\n",
       " 'ResearchSubject.Diagnosis.identifier.value',\n",
       " 'ResearchSubject.Diagnosis.primary_diagnosis',\n",
       " 'ResearchSubject.Diagnosis.age_at_diagnosis',\n",
       " 'ResearchSubject.Diagnosis.morphology',\n",
       " 'ResearchSubject.Diagnosis.stage',\n",
       " 'ResearchSubject.Diagnosis.grade',\n",
       " 'ResearchSubject.Diagnosis.method_of_diagnosis',\n",
       " 'ResearchSubject.Diagnosis.Treatment',\n",
       " 'ResearchSubject.Diagnosis.Treatment.id',\n",
       " 'ResearchSubject.Diagnosis.Treatment.identifier',\n",
       " 'ResearchSubject.Diagnosis.Treatment.identifier.system',\n",
       " 'ResearchSubject.Diagnosis.Treatment.identifier.value',\n",
       " 'ResearchSubject.Diagnosis.Treatment.treatment_type',\n",
       " 'ResearchSubject.Diagnosis.Treatment.treatment_outcome',\n",
       " 'ResearchSubject.Diagnosis.Treatment.days_to_treatment_start',\n",
       " 'ResearchSubject.Diagnosis.Treatment.days_to_treatment_end',\n",
       " 'ResearchSubject.Diagnosis.Treatment.therapeutic_agent',\n",
       " 'ResearchSubject.Diagnosis.Treatment.treatment_anatomic_site',\n",
       " 'ResearchSubject.Diagnosis.Treatment.treatment_effect',\n",
       " 'ResearchSubject.Diagnosis.Treatment.treatment_end_reason',\n",
       " 'ResearchSubject.Diagnosis.Treatment.number_of_cycles',\n",
       " 'ResearchSubject.Specimen',\n",
       " 'ResearchSubject.Specimen.id',\n",
       " 'ResearchSubject.Specimen.identifier',\n",
       " 'ResearchSubject.Specimen.identifier.system',\n",
       " 'ResearchSubject.Specimen.identifier.value',\n",
       " 'ResearchSubject.Specimen.associated_project',\n",
       " 'ResearchSubject.Specimen.age_at_collection',\n",
       " 'ResearchSubject.Specimen.primary_disease_type',\n",
       " 'ResearchSubject.Specimen.anatomical_site',\n",
       " 'ResearchSubject.Specimen.source_material_type',\n",
       " 'ResearchSubject.Specimen.specimen_type',\n",
       " 'ResearchSubject.Specimen.derived_from_specimen',\n",
       " 'ResearchSubject.Specimen.derived_from_subject',\n",
       " 'ResearchSubject.Specimen.Files']"
      ]
     },
     "execution_count": 2,
     "metadata": {},
     "output_type": "execute_result"
    }
   ],
   "source": [
    "columns().to_list()"
   ]
  },
  {
   "cell_type": "markdown",
   "id": "bd05eba2",
   "metadata": {},
   "source": [
    "<img src=\"https://github.com/CancerDataAggregator/readthedocs/blob/main/docs/Examples/images/Julia.png?raw=true\" align=\"left\"\n",
    "\twidth=\"50\" height=\"50\" />\n",
    "   \n",
    "   \n",
    "There are a lot of columns in the CDA data, but Julia is most interested in diagnosis data, so she filters the list to only those:"
   ]
  },
  {
   "cell_type": "code",
   "execution_count": 3,
   "id": "536970c4",
   "metadata": {},
   "outputs": [
    {
     "data": {
      "text/plain": [
       "['ResearchSubject.primary_diagnosis_condition',\n",
       " 'ResearchSubject.primary_diagnosis_site',\n",
       " 'ResearchSubject.Diagnosis',\n",
       " 'ResearchSubject.Diagnosis.id',\n",
       " 'ResearchSubject.Diagnosis.identifier',\n",
       " 'ResearchSubject.Diagnosis.identifier.system',\n",
       " 'ResearchSubject.Diagnosis.identifier.value',\n",
       " 'ResearchSubject.Diagnosis.primary_diagnosis',\n",
       " 'ResearchSubject.Diagnosis.age_at_diagnosis',\n",
       " 'ResearchSubject.Diagnosis.morphology',\n",
       " 'ResearchSubject.Diagnosis.stage',\n",
       " 'ResearchSubject.Diagnosis.grade',\n",
       " 'ResearchSubject.Diagnosis.method_of_diagnosis',\n",
       " 'ResearchSubject.Diagnosis.Treatment',\n",
       " 'ResearchSubject.Diagnosis.Treatment.id',\n",
       " 'ResearchSubject.Diagnosis.Treatment.identifier',\n",
       " 'ResearchSubject.Diagnosis.Treatment.identifier.system',\n",
       " 'ResearchSubject.Diagnosis.Treatment.identifier.value',\n",
       " 'ResearchSubject.Diagnosis.Treatment.treatment_type',\n",
       " 'ResearchSubject.Diagnosis.Treatment.treatment_outcome',\n",
       " 'ResearchSubject.Diagnosis.Treatment.days_to_treatment_start',\n",
       " 'ResearchSubject.Diagnosis.Treatment.days_to_treatment_end',\n",
       " 'ResearchSubject.Diagnosis.Treatment.therapeutic_agent',\n",
       " 'ResearchSubject.Diagnosis.Treatment.treatment_anatomic_site',\n",
       " 'ResearchSubject.Diagnosis.Treatment.treatment_effect',\n",
       " 'ResearchSubject.Diagnosis.Treatment.treatment_end_reason',\n",
       " 'ResearchSubject.Diagnosis.Treatment.number_of_cycles']"
      ]
     },
     "execution_count": 3,
     "metadata": {},
     "output_type": "execute_result"
    }
   ],
   "source": [
    "columns().to_list(filters=\"diagnosis\")"
   ]
  },
  {
   "cell_type": "markdown",
   "id": "a63b4cf0",
   "metadata": {},
   "source": [
    "<div style=\"background-color:#b3e5d5;color:black;padding:20px;\">\n",
    "\n",
    "To search the CDA, a user also needs to know what search terms are available. Each column will contain a huge amount of data, so retreiving all of the rows would be overwhelming. Instead, the CDA has a `unique_terms()` function that will return all of the unique values that populate the requested column. Like `columns`, `unique_terms` defaults to giving us an overview of the results, and can be filtered.\n",
    "    \n",
    "</div>\n",
    "\n",
    "<img src=\"https://github.com/CancerDataAggregator/readthedocs/blob/main/docs/Examples/images/Julia.png?raw=true\" align=\"left\"\n",
    "\twidth=\"50\" height=\"50\" />\n",
    "   \n",
    "Since Julia is interested specificially in uterine cancers, she uses the `unique_terms` function to see what data is available for 'ResearchSubject.Diagnosis.Treatment.treatment_anatomic_site' and 'ResearchSubject.primary_diagnosis_site' to see if 'uterine' appears:"
   ]
  },
  {
   "cell_type": "code",
   "execution_count": 4,
   "id": "4527dde5",
   "metadata": {},
   "outputs": [
    {
     "data": {
      "text/plain": [
       "[None,\n",
       " 'Brain',\n",
       " 'Cervix',\n",
       " 'Head - Face Or Neck, Nos',\n",
       " 'Lymph Node(s) Paraaortic',\n",
       " 'Other',\n",
       " 'Pelvis',\n",
       " 'Spine',\n",
       " 'Unknown']"
      ]
     },
     "execution_count": 4,
     "metadata": {},
     "output_type": "execute_result"
    }
   ],
   "source": [
    "unique_terms(\"ResearchSubject.Diagnosis.Treatment.treatment_anatomic_site\").to_list()"
   ]
  },
  {
   "cell_type": "code",
   "execution_count": 5,
   "id": "740e5955",
   "metadata": {
    "scrolled": true
   },
   "outputs": [
    {
     "data": {
      "text/plain": [
       "[None,\n",
       " 'Abdomen',\n",
       " 'Abdomen, Mediastinum',\n",
       " 'Adrenal Glands',\n",
       " 'Adrenal gland',\n",
       " 'Anus and anal canal',\n",
       " 'Base of tongue',\n",
       " 'Bile Duct',\n",
       " 'Bladder',\n",
       " 'Bones, joints and articular cartilage of limbs',\n",
       " 'Bones, joints and articular cartilage of other and unspecified sites',\n",
       " 'Brain',\n",
       " 'Breast',\n",
       " 'Bronchus and lung',\n",
       " 'Cervix',\n",
       " 'Cervix uteri',\n",
       " 'Chest',\n",
       " 'Chest-Abdomen-Pelvis, Leg, TSpine',\n",
       " 'Colon',\n",
       " 'Connective, subcutaneous and other soft tissues',\n",
       " 'Corpus uteri',\n",
       " 'Ear',\n",
       " 'Esophagus',\n",
       " 'Extremities',\n",
       " 'Eye and adnexa',\n",
       " 'Floor of mouth',\n",
       " 'Gallbladder',\n",
       " 'Gum',\n",
       " 'Head',\n",
       " 'Head and Neck',\n",
       " 'Head-Neck',\n",
       " 'Heart, mediastinum, and pleura',\n",
       " 'Hematopoietic and reticuloendothelial systems',\n",
       " 'Hypopharynx',\n",
       " 'Intraocular',\n",
       " 'Kidney',\n",
       " 'Larynx',\n",
       " 'Lip',\n",
       " 'Liver',\n",
       " 'Liver and intrahepatic bile ducts',\n",
       " 'Lung',\n",
       " 'Lung Phantom',\n",
       " 'Lymph nodes',\n",
       " 'Marrow, Blood',\n",
       " 'Meninges',\n",
       " 'Mesothelium',\n",
       " 'Nasal cavity and middle ear',\n",
       " 'Nasopharynx',\n",
       " 'Not Reported',\n",
       " 'Oropharynx',\n",
       " 'Other and ill-defined digestive organs',\n",
       " 'Other and ill-defined sites',\n",
       " 'Other and ill-defined sites in lip, oral cavity and pharynx',\n",
       " 'Other and ill-defined sites within respiratory system and intrathoracic organs',\n",
       " 'Other and unspecified female genital organs',\n",
       " 'Other and unspecified major salivary glands',\n",
       " 'Other and unspecified male genital organs',\n",
       " 'Other and unspecified parts of biliary tract',\n",
       " 'Other and unspecified parts of mouth',\n",
       " 'Other and unspecified parts of tongue',\n",
       " 'Other and unspecified urinary organs',\n",
       " 'Other endocrine glands and related structures',\n",
       " 'Ovary',\n",
       " 'Palate',\n",
       " 'Pancreas',\n",
       " 'Pancreas ',\n",
       " 'Pelvis, Prostate, Anus',\n",
       " 'Penis',\n",
       " 'Peripheral nerves and autonomic nervous system',\n",
       " 'Phantom',\n",
       " 'Prostate',\n",
       " 'Prostate gland',\n",
       " 'Rectosigmoid junction',\n",
       " 'Rectum',\n",
       " 'Renal pelvis',\n",
       " 'Retroperitoneum and peritoneum',\n",
       " 'Skin',\n",
       " 'Small intestine',\n",
       " 'Spinal cord, cranial nerves, and other parts of central nervous system',\n",
       " 'Stomach',\n",
       " 'Testicles',\n",
       " 'Testis',\n",
       " 'Thymus',\n",
       " 'Thyroid',\n",
       " 'Thyroid gland',\n",
       " 'Tonsil',\n",
       " 'Trachea',\n",
       " 'Unknown',\n",
       " 'Ureter',\n",
       " 'Uterus',\n",
       " 'Uterus, NOS',\n",
       " 'Vagina',\n",
       " 'Various',\n",
       " 'Various (11 locations)',\n",
       " 'Vulva']"
      ]
     },
     "execution_count": 5,
     "metadata": {},
     "output_type": "execute_result"
    }
   ],
   "source": [
    "unique_terms(\"ResearchSubject.primary_diagnosis_site\").to_list()"
   ]
  },
  {
   "cell_type": "markdown",
   "id": "b005036b",
   "metadata": {},
   "source": [
    "<div style=\"background-color:#b3e5d5;color:black;padding:20px;\">\n",
    "    \n",
    "CDA makes multiple datasets searchable from a common interface, but does not harmonize the data. This means that researchers should review all the terms in a column, and not just choose the first one that fits, as there may be other similar terms available as well.\n",
    "    \n",
    "</div>"
   ]
  },
  {
   "cell_type": "markdown",
   "id": "73e6b8dc",
   "metadata": {},
   "source": [
    "<img src=\"https://github.com/CancerDataAggregator/readthedocs/blob/main/docs/Examples/images/Julia.png?raw=true\" align=\"left\"\n",
    "\twidth=\"50\" height=\"50\" />\n",
    "   \n",
    "Julia sees that \"treatment_anatomic_site\" does not have 'Uterine', but does have 'Cervix'. She also notes that both 'Uterus' and 'Uterus, NOS' are listed in the \"primary_diagnosis_site\" results. As she was initially looking for \"uterine\", Julia decides to expand her search a bit to account for variable naming schemes. So, she runs a fuzzy match filter on the \"ResearchSubject.primary_diagnosis_site\" for 'uter' as that should cover all variants:"
   ]
  },
  {
   "cell_type": "code",
   "execution_count": 6,
   "id": "31064125",
   "metadata": {},
   "outputs": [
    {
     "data": {
      "text/plain": [
       "['Cervix uteri', 'Corpus uteri', 'Uterus', 'Uterus, NOS']"
      ]
     },
     "execution_count": 6,
     "metadata": {},
     "output_type": "execute_result"
    }
   ],
   "source": [
    "unique_terms(\"ResearchSubject.primary_diagnosis_site\").to_list(filters=\"uter\")"
   ]
  },
  {
   "cell_type": "markdown",
   "id": "9311a49e",
   "metadata": {},
   "source": [
    "<img src=\"https://github.com/CancerDataAggregator/readthedocs/blob/main/docs/Examples/images/Julia.png?raw=true\" align=\"left\"\n",
    "\twidth=\"50\" height=\"50\" />\n",
    "   \n",
    "Just to be sure, Julia also searches for any other instances of \"cervix\":"
   ]
  },
  {
   "cell_type": "code",
   "execution_count": 7,
   "id": "2038a8cf",
   "metadata": {},
   "outputs": [
    {
     "data": {
      "text/plain": [
       "['Cervix', 'Cervix uteri']"
      ]
     },
     "execution_count": 7,
     "metadata": {},
     "output_type": "execute_result"
    }
   ],
   "source": [
    "unique_terms(\"ResearchSubject.primary_diagnosis_site\").to_list(filters=\"cerv\")"
   ]
  },
  {
   "cell_type": "markdown",
   "id": "29c4de58",
   "metadata": {},
   "source": [
    "## Building a Query\n",
    "\n",
    "<img src=\"https://github.com/CancerDataAggregator/readthedocs/blob/main/docs/Examples/images/Julia.png?raw=true\" align=\"left\"\n",
    "\twidth=\"50\" height=\"50\" />\n",
    "   \n",
    "With all her likely terms found, Julia begins to create a search that will get data for all of her terms. She does this by writing a series of `Q` statements that define what rows should be returned from each column. For the \"treatment_anatomic_site\", only one term is of interest, so she uses the `=` operator to get only exact matches:"
   ]
  },
  {
   "cell_type": "code",
   "execution_count": 8,
   "id": "951fcc8f",
   "metadata": {},
   "outputs": [],
   "source": [
    "Tsite = Q('ResearchSubject.Diagnosis.Treatment.treatment_anatomic_site = \"Cervix\"')"
   ]
  },
  {
   "cell_type": "markdown",
   "id": "12cb5f72",
   "metadata": {},
   "source": [
    "<img src=\"https://github.com/CancerDataAggregator/readthedocs/blob/main/docs/Examples/images/Julia.png?raw=true\" align=\"left\"\n",
    "\twidth=\"50\" height=\"50\" />\n",
    "   \n",
    "However, for \"primary_diagnosis_site\", Julia has several terms she wants to search with. Luckily, `Q` also can run fuzzy searches. It can also search more than one term at a time, so Julia writes one big `Q` statement to grab everything that is either 'uter' or 'cerv':"
   ]
  },
  {
   "cell_type": "code",
   "execution_count": 9,
   "id": "36cfd8a4",
   "metadata": {},
   "outputs": [],
   "source": [
    "Dsite = Q('ResearchSubject.primary_diagnosis_site = \"%uter%\" OR ResearchSubject.primary_diagnosis_site = \"%cerv%\"')"
   ]
  },
  {
   "cell_type": "markdown",
   "id": "349af6f2",
   "metadata": {},
   "source": [
    "<img src=\"https://github.com/CancerDataAggregator/readthedocs/blob/main/docs/Examples/images/Julia.png?raw=true\" align=\"left\"\n",
    "\twidth=\"50\" height=\"50\" />\n",
    "   \n",
    "Finally, Julia adds her two queries together into one large one:"
   ]
  },
  {
   "cell_type": "code",
   "execution_count": 10,
   "id": "9f5f9e4f",
   "metadata": {},
   "outputs": [],
   "source": [
    "ALLDATA = Tsite.OR(Dsite)"
   ]
  },
  {
   "cell_type": "markdown",
   "id": "c1f5cb55",
   "metadata": {},
   "source": [
    "## Looking at Summary Data\n",
    "\n",
    "<img src=\"https://github.com/CancerDataAggregator/readthedocs/blob/main/docs/Examples/images/Julia.png?raw=true\" align=\"left\"\n",
    "\twidth=\"50\" height=\"50\" />\n",
    "   \n",
    "Now that Julia has a query, she can use it to look for data in any of the CDA endpoints. She starts by getting an overall summary of what data is available using `count`:"
   ]
  },
  {
   "cell_type": "code",
   "execution_count": 11,
   "id": "355b1706",
   "metadata": {},
   "outputs": [
    {
     "data": {
      "text/html": [
       "<pre style=\"white-space:pre;overflow-x:auto;line-height:normal;font-family:Menlo,'DejaVu Sans Mono',consolas,'Courier New',monospace\">Getting results from database\n",
       "\n",
       "</pre>\n"
      ],
      "text/plain": [
       "Getting results from database\n",
       "\n"
      ]
     },
     "metadata": {},
     "output_type": "display_data"
    },
    {
     "data": {
      "text/html": [
       "<pre style=\"white-space:pre;overflow-x:auto;line-height:normal;font-family:Menlo,'DejaVu Sans Mono',consolas,'Courier New',monospace\"><span style=\"font-weight: bold\">{</span><span style=\"color: #008000; text-decoration-color: #008000\">\"timestamp\"</span>:<span style=\"color: #008080; text-decoration-color: #008080; font-weight: bold\">1656448614657</span>,<span style=\"color: #008000; text-decoration-color: #008000\">\"status\"</span>:<span style=\"color: #008080; text-decoration-color: #008080; font-weight: bold\">404</span>,<span style=\"color: #008000; text-decoration-color: #008000\">\"error\"</span>:<span style=\"color: #008000; text-decoration-color: #008000\">\"Not </span>\n",
       "<span style=\"color: #008000; text-decoration-color: #008000\">Found\"</span>,<span style=\"color: #008000; text-decoration-color: #008000\">\"message\"</span>:<span style=\"color: #008000; text-decoration-color: #008000\">\"\"</span>,<span style=\"color: #008000; text-decoration-color: #008000\">\"path\"</span>:<span style=\"color: #008000; text-decoration-color: #008000\">\"/api/v1/global-counts/all_Subjects_v3_0_w_RS\"</span><span style=\"font-weight: bold\">}</span>\n",
       "</pre>\n"
      ],
      "text/plain": [
       "\u001b[1m{\u001b[0m\u001b[32m\"timestamp\"\u001b[0m:\u001b[1;36m1656448614657\u001b[0m,\u001b[32m\"status\"\u001b[0m:\u001b[1;36m404\u001b[0m,\u001b[32m\"error\"\u001b[0m:\u001b[32m\"Not \u001b[0m\n",
       "\u001b[32mFound\"\u001b[0m,\u001b[32m\"message\"\u001b[0m:\u001b[32m\"\"\u001b[0m,\u001b[32m\"path\"\u001b[0m:\u001b[32m\"/api/v1/global-counts/all_Subjects_v3_0_w_RS\"\u001b[0m\u001b[1m}\u001b[0m\n"
      ]
     },
     "metadata": {},
     "output_type": "display_data"
    },
    {
     "name": "stdout",
     "output_type": "stream",
     "text": [
      "Total execution time: 98 ms\n"
     ]
    }
   ],
   "source": [
    "ALLDATA.count.run()"
   ]
  },
  {
   "cell_type": "markdown",
   "id": "b7ce25fc",
   "metadata": {},
   "source": [
    "<img src=\"https://github.com/CancerDataAggregator/readthedocs/blob/main/docs/Examples/images/Julia.png?raw=true\" align=\"left\"\n",
    "\twidth=\"50\" height=\"50\" />\n",
    "   \n",
    "It seems there's a lot of data that might work for Julias study! Since she is interested in the beginings of cancer, she decides to start by looking at  the researchsubject information, since that is where most of the diagnosis information is. She again gets a summary using `count`:"
   ]
  },
  {
   "cell_type": "code",
   "execution_count": 12,
   "id": "55b0cdeb",
   "metadata": {},
   "outputs": [
    {
     "data": {
      "text/html": [
       "<pre style=\"white-space:pre;overflow-x:auto;line-height:normal;font-family:Menlo,'DejaVu Sans Mono',consolas,'Courier New',monospace\">Getting results from database\n",
       "\n",
       "</pre>\n"
      ],
      "text/plain": [
       "Getting results from database\n",
       "\n"
      ]
     },
     "metadata": {},
     "output_type": "display_data"
    },
    {
     "data": {
      "text/html": [
       "<pre style=\"white-space:pre;overflow-x:auto;line-height:normal;font-family:Menlo,'DejaVu Sans Mono',consolas,'Courier New',monospace\"><span style=\"font-weight: bold\">{</span><span style=\"color: #008000; text-decoration-color: #008000\">\"timestamp\"</span>:<span style=\"color: #008080; text-decoration-color: #008080; font-weight: bold\">1656448614741</span>,<span style=\"color: #008000; text-decoration-color: #008000\">\"status\"</span>:<span style=\"color: #008080; text-decoration-color: #008080; font-weight: bold\">404</span>,<span style=\"color: #008000; text-decoration-color: #008000\">\"error\"</span>:<span style=\"color: #008000; text-decoration-color: #008000\">\"Not </span>\n",
       "<span style=\"color: #008000; text-decoration-color: #008000\">Found\"</span>,<span style=\"color: #008000; text-decoration-color: #008000\">\"message\"</span>:<span style=\"color: #008000; text-decoration-color: #008000\">\"\"</span>,<span style=\"color: #008000; text-decoration-color: #008000\">\"path\"</span>:<span style=\"color: #008000; text-decoration-color: #008000\">\"/api/v1/researchsubjects/counts/all_Subjects_v3_0_w_RS\"</span><span style=\"font-weight: bold\">}</span>\n",
       "</pre>\n"
      ],
      "text/plain": [
       "\u001b[1m{\u001b[0m\u001b[32m\"timestamp\"\u001b[0m:\u001b[1;36m1656448614741\u001b[0m,\u001b[32m\"status\"\u001b[0m:\u001b[1;36m404\u001b[0m,\u001b[32m\"error\"\u001b[0m:\u001b[32m\"Not \u001b[0m\n",
       "\u001b[32mFound\"\u001b[0m,\u001b[32m\"message\"\u001b[0m:\u001b[32m\"\"\u001b[0m,\u001b[32m\"path\"\u001b[0m:\u001b[32m\"/api/v1/researchsubjects/counts/all_Subjects_v3_0_w_RS\"\u001b[0m\u001b[1m}\u001b[0m\n"
      ]
     },
     "metadata": {},
     "output_type": "display_data"
    },
    {
     "name": "stdout",
     "output_type": "stream",
     "text": [
      "Total execution time: 107 ms\n"
     ]
    }
   ],
   "source": [
    "ALLDATA.researchsubject.count.run()"
   ]
  },
  {
   "cell_type": "markdown",
   "id": "86a323e2",
   "metadata": {},
   "source": [
    "## Refining Queries\n",
    "\n",
    "<img src=\"https://github.com/CancerDataAggregator/readthedocs/blob/main/docs/Examples/images/Julia.png?raw=true\" align=\"left\"\n",
    "\twidth=\"50\" height=\"50\" />\n",
    "   \n",
    "Browsing the primary_diagnosis_condition data, Julia notices that there are a large number of research subjects that are Adenomas and Adenocarcinomas. Since Julia wants to look for common phenotypes in early cancers, she decides it might be easier to exclude the endocrine related data, as they might have different mechanisms. So she adds a new filter to her query:"
   ]
  },
  {
   "cell_type": "code",
   "execution_count": 13,
   "id": "0d526198",
   "metadata": {
    "scrolled": true
   },
   "outputs": [
    {
     "data": {
      "text/html": [
       "<pre style=\"white-space:pre;overflow-x:auto;line-height:normal;font-family:Menlo,'DejaVu Sans Mono',consolas,'Courier New',monospace\">Getting results from database\n",
       "\n",
       "</pre>\n"
      ],
      "text/plain": [
       "Getting results from database\n",
       "\n"
      ]
     },
     "metadata": {},
     "output_type": "display_data"
    },
    {
     "data": {
      "text/html": [
       "<pre style=\"white-space:pre;overflow-x:auto;line-height:normal;font-family:Menlo,'DejaVu Sans Mono',consolas,'Courier New',monospace\"><span style=\"font-weight: bold\">{</span><span style=\"color: #008000; text-decoration-color: #008000\">\"timestamp\"</span>:<span style=\"color: #008080; text-decoration-color: #008080; font-weight: bold\">1656448614849</span>,<span style=\"color: #008000; text-decoration-color: #008000\">\"status\"</span>:<span style=\"color: #008080; text-decoration-color: #008080; font-weight: bold\">404</span>,<span style=\"color: #008000; text-decoration-color: #008000\">\"error\"</span>:<span style=\"color: #008000; text-decoration-color: #008000\">\"Not </span>\n",
       "<span style=\"color: #008000; text-decoration-color: #008000\">Found\"</span>,<span style=\"color: #008000; text-decoration-color: #008000\">\"message\"</span>:<span style=\"color: #008000; text-decoration-color: #008000\">\"\"</span>,<span style=\"color: #008000; text-decoration-color: #008000\">\"path\"</span>:<span style=\"color: #008000; text-decoration-color: #008000\">\"/api/v1/researchsubjects/counts/all_Subjects_v3_0_w_RS\"</span><span style=\"font-weight: bold\">}</span>\n",
       "</pre>\n"
      ],
      "text/plain": [
       "\u001b[1m{\u001b[0m\u001b[32m\"timestamp\"\u001b[0m:\u001b[1;36m1656448614849\u001b[0m,\u001b[32m\"status\"\u001b[0m:\u001b[1;36m404\u001b[0m,\u001b[32m\"error\"\u001b[0m:\u001b[32m\"Not \u001b[0m\n",
       "\u001b[32mFound\"\u001b[0m,\u001b[32m\"message\"\u001b[0m:\u001b[32m\"\"\u001b[0m,\u001b[32m\"path\"\u001b[0m:\u001b[32m\"/api/v1/researchsubjects/counts/all_Subjects_v3_0_w_RS\"\u001b[0m\u001b[1m}\u001b[0m\n"
      ]
     },
     "metadata": {},
     "output_type": "display_data"
    },
    {
     "name": "stdout",
     "output_type": "stream",
     "text": [
      "Total execution time: 71 ms\n"
     ]
    }
   ],
   "source": [
    "Noadeno = Q('ResearchSubject.primary_diagnosis_condition != \"Adenomas and Adenocarcinomas\"')\n",
    "\n",
    "NoAdenoData = ALLDATA.AND(Noadeno)\n",
    "\n",
    "NoAdenoData.researchsubject.count.run()"
   ]
  },
  {
   "cell_type": "markdown",
   "id": "40a0191d",
   "metadata": {},
   "source": [
    "<img src=\"https://github.com/CancerDataAggregator/readthedocs/blob/main/docs/Examples/images/Julia.png?raw=true\" align=\"left\"\n",
    "\twidth=\"50\" height=\"50\" />\n",
    "   \n",
    "She then previews the actual metadata for researchsubject, subject, and file, to make sure that they have all the information she will need for her work. Since she's mostly interested in looking at the kinds of data available from each endpoint:"
   ]
  },
  {
   "cell_type": "code",
   "execution_count": 14,
   "id": "d186b837",
   "metadata": {},
   "outputs": [
    {
     "data": {
      "text/html": [
       "<pre style=\"white-space:pre;overflow-x:auto;line-height:normal;font-family:Menlo,'DejaVu Sans Mono',consolas,'Courier New',monospace\">Getting results from database\n",
       "\n",
       "</pre>\n"
      ],
      "text/plain": [
       "Getting results from database\n",
       "\n"
      ]
     },
     "metadata": {},
     "output_type": "display_data"
    },
    {
     "data": {
      "text/html": [
       "<pre style=\"white-space:pre;overflow-x:auto;line-height:normal;font-family:Menlo,'DejaVu Sans Mono',consolas,'Courier New',monospace\"><span style=\"font-weight: bold\">{</span><span style=\"color: #008000; text-decoration-color: #008000\">\"timestamp\"</span>:<span style=\"color: #008080; text-decoration-color: #008080; font-weight: bold\">1656448614938</span>,<span style=\"color: #008000; text-decoration-color: #008000\">\"status\"</span>:<span style=\"color: #008080; text-decoration-color: #008080; font-weight: bold\">404</span>,<span style=\"color: #008000; text-decoration-color: #008000\">\"error\"</span>:<span style=\"color: #008000; text-decoration-color: #008000\">\"Not </span>\n",
       "<span style=\"color: #008000; text-decoration-color: #008000\">Found\"</span>,<span style=\"color: #008000; text-decoration-color: #008000\">\"message\"</span>:<span style=\"color: #008000; text-decoration-color: #008000\">\"\"</span>,<span style=\"color: #008000; text-decoration-color: #008000\">\"path\"</span>:<span style=\"color: #008000; text-decoration-color: #008000\">\"/api/v1/researchsubjects/all_Subjects_v3_0_w_RS\"</span><span style=\"font-weight: bold\">}</span>\n",
       "</pre>\n"
      ],
      "text/plain": [
       "\u001b[1m{\u001b[0m\u001b[32m\"timestamp\"\u001b[0m:\u001b[1;36m1656448614938\u001b[0m,\u001b[32m\"status\"\u001b[0m:\u001b[1;36m404\u001b[0m,\u001b[32m\"error\"\u001b[0m:\u001b[32m\"Not \u001b[0m\n",
       "\u001b[32mFound\"\u001b[0m,\u001b[32m\"message\"\u001b[0m:\u001b[32m\"\"\u001b[0m,\u001b[32m\"path\"\u001b[0m:\u001b[32m\"/api/v1/researchsubjects/all_Subjects_v3_0_w_RS\"\u001b[0m\u001b[1m}\u001b[0m\n"
      ]
     },
     "metadata": {},
     "output_type": "display_data"
    },
    {
     "name": "stdout",
     "output_type": "stream",
     "text": [
      "Total execution time: 88 ms\n"
     ]
    },
    {
     "ename": "AttributeError",
     "evalue": "'NoneType' object has no attribute 'to_dataframe'",
     "output_type": "error",
     "traceback": [
      "\u001b[0;31m---------------------------------------------------------------------------\u001b[0m",
      "\u001b[0;31mAttributeError\u001b[0m                            Traceback (most recent call last)",
      "\u001b[0;32m/var/folders/rg/vnn75sf557bcqfnmm_gcxs2r0000gq/T/ipykernel_51292/2814486203.py\u001b[0m in \u001b[0;36m<module>\u001b[0;34m\u001b[0m\n\u001b[0;32m----> 1\u001b[0;31m \u001b[0mNoAdenoData\u001b[0m\u001b[0;34m.\u001b[0m\u001b[0mresearchsubject\u001b[0m\u001b[0;34m.\u001b[0m\u001b[0mrun\u001b[0m\u001b[0;34m(\u001b[0m\u001b[0;34m)\u001b[0m\u001b[0;34m.\u001b[0m\u001b[0mto_dataframe\u001b[0m\u001b[0;34m(\u001b[0m\u001b[0;34m)\u001b[0m \u001b[0;31m# view the dataframe\u001b[0m\u001b[0;34m\u001b[0m\u001b[0;34m\u001b[0m\u001b[0m\n\u001b[0m",
      "\u001b[0;31mAttributeError\u001b[0m: 'NoneType' object has no attribute 'to_dataframe'"
     ]
    }
   ],
   "source": [
    "NoAdenoData.researchsubject.run().to_dataframe() # view the dataframe"
   ]
  },
  {
   "cell_type": "markdown",
   "id": "086697b3",
   "metadata": {},
   "source": [
    "---\n",
    "\n",
    "<div style=\"background-color:#add9e5;color:black;padding:20px;\">\n",
    "\n",
    "<h3>ResearchSubject Field Definitions</h3>\n",
    "\n",
    "<i>A research subject is the entity of interest in a specific research study or project, typically a human being or an animal, but can also be a device, group of humans or animals, or a tissue sample. Human research subjects are usually not traceable to a particular person to protect the subjects privacy. This entity plays the role of the case_id in existing data. An individual who participates in 3 studies will have 3 researchsubject IDs</i>\n",
    "    \n",
    "<ul>\n",
    "<li><b>id:</b> The 'logical' identifier of the entity in the system of record, e.g. a UUID. This 'id' is unique within a given system. The identified entity may have a different 'id' in a different system. For CDA, this is case_id.</li>\n",
    "<li><b>identifier:</b> A 'business' identifier for the entity, typically as provided by an external system or authority, that persists across implementing systems (i.e. a 'logical' identifier). Uses a specialized, complex 'Identifier' data type to capture information about the source of the business identifier - or a URI expressed as a string to an existing entity.</li>\n",
    "<li><b>identifier.system:</b> The system or namespace that defines the identifier.</li>\n",
    "<li><b>identifier.value:</b> The value of the identifier, as defined by the system.</li>\n",
    "<li><b>member_of_research_project:</b> A reference to the Study(s) of which this ResearchSubject is a member.</li>\n",
    "<li><b>primary_diagnosis_condition:</b> The text term used to describe the type of malignant disease, as categorized by the World Health Organization's (WHO) <a href=\"https://www.who.int/standards/classifications/other-classifications/international-classification-of-diseases-for-oncology\">International Classification of Diseases for Oncology</a> (ICD-O). This attribute represents the disease that qualified the subject for inclusion on the ResearchProject.</li>\n",
    "<li><b>primary_diagnosis_site:</b> The text term used to describe the primary site of disease, as categorized by the World Health Organization's (WHO) <a href=\"https://www.who.int/standards/classifications/other-classifications/international-classification-of-diseases-for-oncology\">International Classification of Diseases for Oncology</a> (ICD-O). This categorization groups cases into general categories. This attribute represents the primary site of disease that qualified the subject for inclusion on the ResearchProject.</li>\n",
    "<li><b>subject_id:</b> The 'logical' identifier of the entity in the system of record, e.g. a UUID. This 'id' is unique within a given system. The identified entity may have a different 'id' in a different system. Can be joined to the `id` field from subject results</li>\n",
    "</ul>  \n",
    "\n",
    "</div>\n",
    "    \n",
    "---"
   ]
  },
  {
   "cell_type": "code",
   "execution_count": null,
   "id": "8d0f5e2f",
   "metadata": {},
   "outputs": [],
   "source": [
    "NoAdenoData.subject.run().to_dataframe() # view the dataframe"
   ]
  },
  {
   "cell_type": "markdown",
   "id": "dec76132",
   "metadata": {},
   "source": [
    "---\n",
    "\n",
    "<div style=\"background-color:#add9e5;color:black;padding:20px;\">\n",
    "\n",
    "<h3>Subject Field Definitions</h3>\n",
    "\n",
    "<i>A patient entity captures the study-independent metadata for research subjects. Human research subjects are usually not traceable to a particular person to protect the subjects privacy.</i>\n",
    "\n",
    "    \n",
    "<ul>\n",
    "<li><b>id:</b> The 'logical' identifier of the entity in the system of record, e.g. a UUID. This 'id' is unique within a given system. The identified entity may have a different 'id' in a different system.\",STRING</li>\n",
    "<li><b>identifier:</b> A 'business' identifier for the entity, typically as provided by an external system or authority, that persists across implementing systems (i.e. a 'logical' identifier). Uses a specialized, complex 'Identifier' data type to capture information about the source of the business identifier - or a URI expressed as a string to an existing entity.</li>\n",
    "<li><b>identifier.system:</b> The system or namespace that defines the identifier.</li>\n",
    "<li><b>identifier.value:</b> The value of the identifier, as defined by the system.</li>\n",
    "<li><b>species:</b> The taxonomic group (e.g. species) of the patient. For MVP, since taxonomy vocabulary is consistent between GDC and PDC, using text. Ultimately, this will be a term returned by the vocabulary service.</li>\n",
    "<li><b>sex:</b> The biologic character or quality that distinguishes male and female from one another as expressed by analysis of the person's gonadal, morphologic (internal and external), chromosomal, and hormonal characteristics.</li>\n",
    "<li><b>race:</b> An arbitrary classification of a taxonomic group that is a division of a species. It usually arises as a consequence of geographical isolation within a species and is characterized by shared heredity, physical attributes and behavior, and in the case of humans, by common history, nationality, or geographic distribution. The provided values are based on the categories defined by the U.S. Office of Management and Business and used by the U.S. Census Bureau.</li>\n",
    "<li><b>ethnicity:</b> An individual's self-described social and cultural grouping, specifically whether an individual describes themselves as Hispanic or Latino. The provided values are based on the categories defined by the U.S. Office of Management and Business and used by the U.S. Census Bureau.</li>\n",
    "<li><b>days_to_birth:</b> Number of days between the date used for index and the date from a person's date of birth represented as a calculated negative number of days.</li>\n",
    "<li><b>subject_associated_project:</b> The list of Projects associated with the Subject.</li>\n",
    "<li><b>vital_status:</b> Coded value indicating the state or condition of being living or deceased; also includes the case where the vital status is unknown.</li>\n",
    "<li><b>days_to_death:</b> Number of days between the date used for index and the date from a person's date of death represented as a calculated number of days.</li>\n",
    "<li><b>cause_of_death:</b> Coded value indicating the circumstance or condition that results in the death of the subject.</li>\n",
    "</ul>  \n",
    "\n",
    "</div>\n",
    "    \n",
    "---"
   ]
  },
  {
   "cell_type": "code",
   "execution_count": null,
   "id": "04e04136",
   "metadata": {},
   "outputs": [],
   "source": [
    "NoAdenoData.file.run().to_dataframe() # view the dataframe"
   ]
  },
  {
   "cell_type": "markdown",
   "id": "8cf9f2d3",
   "metadata": {},
   "source": [
    "\n",
    "---\n",
    "\n",
    "<div style=\"background-color:#add9e5;color:black;padding:20px;\">\n",
    "\n",
    "<h3>File Field Definitions</h3>\n",
    "\n",
    "<i>A file is an information-bearing electronic object that contains a physical embodiment of some information using a particular character encoding.</i>\n",
    "\n",
    "    \n",
    "<ul>\n",
    "  <li><b>id:</b> The 'logical' identifier of the entity in the system of record, e.g. a UUID. This 'id' is unique within a given system. The identified entity may have a different 'id' in a different system.</li>\n",
    "<li><b>identifier:</b> A 'business' identifier for the entity, typically as provided by an external system or authority, that persists across implementing systems (i.e. a 'logical' identifier). Uses a specialized, complex 'Identifier' data type to capture information about the source of the business identifier - or a URI expressed as a string to an existing entity.</li>\n",
    "<li><b>identifier.system:</b> The system or namespace that defines the identifier.</li>\n",
    "<li><b>identifier.value:</b> The value of the identifier, as defined by the system.</li>\n",
    "  <li><b>label:</b> Short name or abbreviation for dataset. Maps to rdfs:label.</li>\n",
    "  <li><b>data_catagory:</b> Broad categorization of the contents of the data file.</li>\n",
    "  <li><b>data_type:</b> Specific content type of the data file.</li>\n",
    "  <li><b>file_format:</b> Format of the data files.</li>\n",
    "  <li><b>associated_project:</b> A reference to the Project(s) of which this ResearchSubject is a member. The associated_project may be embedded using the ref definition or may be a reference to the id for the Project - or a URI expressed as a string to an existing entity.</li>\n",
    "  <li><b>drs_uri:</b> A string of characters used to identify a resource on the Data Repo Service(DRS). Can be used to retreive this specific file from a server.</li>\n",
    "  <li><b>byte_size:</b> Size of the file in bytes. Maps to dcat:byteSize.</li>\n",
    "  <li><b>checksum:</b> The md5 value for the file. A digit representing the sum of the correct digits in a piece of stored or transmitted digital data, against which later comparisons can be made to detect errors in the data.</li>\n",
    "  <li><b>data_modality:</b> Data modality describes the biological nature of the information gathered as the result of an Activity, independent of the technology or methods used to produce the information. Always one of \"Genomic\", \"Proteomic\", or \"Imaging\".</li>\n",
    "  <li><b>imaging_modality:</b> An imaging modality describes the imaging equipment and/or method used to acquire certain structural or functional information about the body. These include but are not limited to computed tomography (CT) and magnetic resonance imaging (MRI). Taken from the DICOM standard.</li>\n",
    "  <li><b>dbgap_accession_number:</b> The dbgap accession number for the project.</li>\n",
    "</ul>  \n",
    "\n",
    "</div>\n",
    "    \n",
    "---\n"
   ]
  },
  {
   "cell_type": "markdown",
   "id": "ba6aadbe",
   "metadata": {},
   "source": [
    "## Working with Results (pagination)\n",
    "\n",
    "<img src=\"https://github.com/CancerDataAggregator/readthedocs/blob/main/docs/Examples/images/Julia.png?raw=true\" align=\"left\"\n",
    "\twidth=\"50\" height=\"50\" />\n",
    "   \n",
    "Finally, Julia wants to save these results to use for the future. Since the preview dataframes only show the first 100 results of each search, she uses the `paginator` function to get all the data from the subject and researchsubject endpoints into their own dataframes:"
   ]
  },
  {
   "cell_type": "code",
   "execution_count": null,
   "id": "c2cec2bc",
   "metadata": {},
   "outputs": [],
   "source": [
    "researchsubs = NoAdenoData.researchsubject.run()\n",
    "rsdf = pd.DataFrame()\n",
    "for i in researchsubs.paginator(to_df=True):\n",
    "    rsdf = pd.concat([rsdf, i])"
   ]
  },
  {
   "cell_type": "code",
   "execution_count": null,
   "id": "a1258057",
   "metadata": {},
   "outputs": [],
   "source": [
    "subs = NoAdenoData.subject.run()\n",
    "subsdf = pd.DataFrame()\n",
    "for i in subs.paginator(to_df=True):\n",
    "    subsdf = pd.concat([subsdf, i])"
   ]
  },
  {
   "cell_type": "code",
   "execution_count": null,
   "id": "04cd73df",
   "metadata": {},
   "outputs": [],
   "source": [
    "rsdf # view the researchsubject dataframe"
   ]
  },
  {
   "cell_type": "code",
   "execution_count": null,
   "id": "92a6f811",
   "metadata": {},
   "outputs": [],
   "source": [
    "subsdf # view the subject dataframe"
   ]
  },
  {
   "cell_type": "markdown",
   "id": "75bcbe86",
   "metadata": {},
   "source": [
    "## Merging Results across Endpoints\n",
    "\n",
    "<img src=\"https://github.com/CancerDataAggregator/readthedocs/blob/main/docs/Examples/images/Julia.png?raw=true\" align=\"left\"\n",
    "\twidth=\"50\" height=\"50\" />\n",
    "   \n",
    "Then Julia uses the `id` fields in each result to merge them together into one big dataset:"
   ]
  },
  {
   "cell_type": "code",
   "execution_count": null,
   "id": "9b7a3383",
   "metadata": {},
   "outputs": [],
   "source": [
    "allmetadata = pd.merge(rsdf,\n",
    "                subsdf,\n",
    "                left_on=\"subject_id\",\n",
    "                right_on='id')\n",
    "\n",
    "allmetadata"
   ]
  },
  {
   "cell_type": "markdown",
   "id": "024da831",
   "metadata": {},
   "source": [
    "<img src=\"https://github.com/CancerDataAggregator/readthedocs/blob/main/docs/Examples/images/Julia.png?raw=true\" align=\"left\"\n",
    "\twidth=\"50\" height=\"50\" />\n",
    "   \n",
    "And saves it out to a csv so she can browse it with Excel:"
   ]
  },
  {
   "cell_type": "code",
   "execution_count": null,
   "id": "b6628de4",
   "metadata": {},
   "outputs": [],
   "source": [
    "allmetadata.to_csv(\"allmetadata.csv\")"
   ]
  },
  {
   "cell_type": "markdown",
   "id": "246644d3",
   "metadata": {},
   "source": [
    "<img src=\"https://github.com/CancerDataAggregator/readthedocs/blob/main/docs/Examples/images/Julia.png?raw=true\" align=\"left\"\n",
    "\twidth=\"50\" height=\"50\" />\n",
    "   \n",
    "Julia knows from her subject count summary that there are more than 200,000 files associated with her subjects, which is likely far more than she needs. To help her decide what files she wants, Julia uses endpoint chaining to get summary information about the files that are assigned to researchsubjects for her search criteria:\n"
   ]
  },
  {
   "cell_type": "code",
   "execution_count": null,
   "id": "ae1ae079",
   "metadata": {
    "scrolled": true
   },
   "outputs": [],
   "source": [
    "NoAdenoData.researchsubject.file.count.run()"
   ]
  },
  {
   "cell_type": "markdown",
   "id": "111f47c0",
   "metadata": {},
   "source": [
    "<img src=\"https://github.com/CancerDataAggregator/readthedocs/blob/main/docs/Examples/images/Julia.png?raw=true\" align=\"left\"\n",
    "\twidth=\"50\" height=\"50\" />\n",
    "    \n",
    "Julia decides that a good place to start would be with Slide Images. There's only 1111, so she should be able to quickly scan through them over the next few days and see if they will be useful. So she adds one more filter on her search:"
   ]
  },
  {
   "cell_type": "code",
   "execution_count": null,
   "id": "d4a170b3",
   "metadata": {
    "scrolled": true
   },
   "outputs": [],
   "source": [
    "JustSlides = Q('file.data_type = \"Slide Image\"')\n",
    "NoadenoJustSlides = NoAdenoData.AND(JustSlides)\n",
    "NoadenoJustSlides.researchsubject.file.count.run()"
   ]
  },
  {
   "cell_type": "markdown",
   "id": "0e385faf",
   "metadata": {},
   "source": [
    "<img src=\"https://github.com/CancerDataAggregator/readthedocs/blob/main/docs/Examples/images/Julia.png?raw=true\" align=\"left\"\n",
    "\twidth=\"50\" height=\"50\" />\n",
    "    \n",
    "Finally, Julia uses the pagenation function again to get all the slide files, and merges her metadata file with this file information. This way she will be able to review what phenotypes each slide is associated with:"
   ]
  },
  {
   "cell_type": "code",
   "execution_count": null,
   "id": "f45f6503",
   "metadata": {
    "scrolled": false
   },
   "outputs": [],
   "source": [
    "slides = NoadenoJustSlides.researchsubject.file.run()\n",
    "slidesdf = pd.DataFrame()\n",
    "for i in slides.paginator(to_df=True):\n",
    "    slidesdf = pd.concat([slidesdf, i])\n"
   ]
  },
  {
   "cell_type": "code",
   "execution_count": null,
   "id": "0d1f7a21",
   "metadata": {
    "scrolled": true
   },
   "outputs": [],
   "source": [
    "slidemetadata = pd.merge(slidesdf, \n",
    "                         allmetadata, \n",
    "                         on=\"subject_id\")\n",
    "slidemetadata"
   ]
  },
  {
   "cell_type": "markdown",
   "id": "3abb0f32",
   "metadata": {},
   "source": [
    "<img src=\"https://github.com/CancerDataAggregator/readthedocs/blob/main/docs/Examples/images/Julia.png?raw=true\" align=\"left\"\n",
    "\twidth=\"50\" height=\"50\" />\n",
    "    \n",
    "She saves this file out as well."
   ]
  },
  {
   "cell_type": "code",
   "execution_count": null,
   "id": "8ef6e0fb",
   "metadata": {},
   "outputs": [],
   "source": [
    "slidemetadata.to_csv(\"slidemetadata.csv\")"
   ]
  },
  {
   "cell_type": "markdown",
   "id": "369a3068",
   "metadata": {},
   "source": [
    "<img src=\"https://github.com/CancerDataAggregator/readthedocs/blob/main/docs/Examples/images/Julia.png?raw=true\" align=\"left\"\n",
    "\twidth=\"50\" height=\"50\" />\n",
    "    \n",
    "Now Julia has all the information she needs to begin work on her project. She can use the `drs_id` column information to directly download the images she is interested in using a DRS resolver, or she can input the DRS IDs at a cloud workspace such as [Terra](https://terra.bio/) or the [Cancer Genomics Cloud](https://www.cancergenomicscloud.org/) to view the images online. In either case, she has all the metadata she needs to get started, and can save this notebook of her work in case she'd like to come back and modify her search."
   ]
  }
 ],
 "metadata": {
  "kernelspec": {
   "display_name": "Python 3 (ipykernel)",
   "language": "python",
   "name": "python3"
  },
  "language_info": {
   "codemirror_mode": {
    "name": "ipython",
    "version": 3
   },
   "file_extension": ".py",
   "mimetype": "text/x-python",
   "name": "python",
   "nbconvert_exporter": "python",
   "pygments_lexer": "ipython3",
   "version": "3.7.13"
  }
 },
 "nbformat": 4,
 "nbformat_minor": 5
}
