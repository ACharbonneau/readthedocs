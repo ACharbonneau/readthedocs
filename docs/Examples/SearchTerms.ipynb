{
 "cells": [
  {
   "cell_type": "markdown",
   "id": "3c341e94",
   "metadata": {},
   "source": [
    "# Available Search Terms\n",
    "---"
   ]
  },
  {
   "cell_type": "markdown",
   "id": "a8387f59",
   "metadata": {},
   "source": [
    "Before we do any work, we need to import several functions from cdapython:\n",
    "- `Q` and `query` which power the search\n",
    "- `columns` which lets us view entity field names\n",
    "- `unique_terms` which lets view entity field contents\n",
    "\n",
    "We're also asking cdapython to report it's version so we can be sure we're using the one we mean to."
   ]
  },
  {
   "cell_type": "code",
   "execution_count": 1,
   "id": "28a10e23",
   "metadata": {},
   "outputs": [
    {
     "name": "stdout",
     "output_type": "stream",
     "text": [
      "2022.6.22\n"
     ]
    }
   ],
   "source": [
    "from cdapython import Q, columns, unique_terms, query\n",
    "print(Q.get_version())\n"
   ]
  },
  {
   "cell_type": "markdown",
   "id": "0810c61c",
   "metadata": {},
   "source": [
    "\n",
    "\n",
    "CDA data comes from three sources:\n",
    "- The [Proteomic Data Commons](https://proteomic.datacommons.cancer.gov/pdc/) (PDC)\n",
    "- The [Genomic Data Commons](https://gdc.cancer.gov/) (GDC)\n",
    "- The [Imaging Data Commons](https://datacommons.cancer.gov/repository/imaging-data-commons) (IDC)\n",
    "\n",
    "The CDA makes this data searchable in four main endpoints:\n",
    "\n",
    "- `subject`: A specific, unique individual: for e.g. a single human. When consent allows, a given entity will have a single subject ID that can be connected to all their studies and data across all datasets\n",
    "- `researchsubject`: a person/plant/animal/microbe within a given study. An individual who participates in 3 studies will have 3 researchsubject IDs\n",
    "- `specimen`: a tissue sample taken from a given subject, or a portion of the original sample. A given specimen will have only a single subject ID and a single research subject ID\n",
    "- `file`: A unit of data about subjects, researchsubjects, specimens, or their associated information\n",
    "\n",
    "and two endpoints that offer deeper information about data in the researchsubject endpoint:\n",
    "\n",
    "- `diagnosis`: Information about what medical diagnosis a researchsubject has\n",
    "- `treatment`: Information about what medical treatment(s) were performed for a given diagnosis\n",
    "\n",
    "You search any metadata field from any endpoint, the only difference between search types is what type of data you return by default. This means that you can think of the CDA as a really, really enormous spreadsheet full of data. To search this enormous spreadsheet, you'd want select columns, and then filter rows.\n",
    "\n",
    "Accordingly, to see what search fields are available, we use the command `columns`:"
   ]
  },
  {
   "cell_type": "code",
   "execution_count": 2,
   "id": "30f5a2a3",
   "metadata": {
    "scrolled": false
   },
   "outputs": [
    {
     "name": "stderr",
     "output_type": "stream",
     "text": [
      "ERROR:root:\n",
      "            Http Status: 500\n",
      "            Error Message: Access Denied: Table broad-dsde-prod:cda_prod.INFORMATION_SCHEMA.COLUMN_FIELD_PATHS: User does not have permission to query table broad-dsde-prod:cda_prod.INFORMATION_SCHEMA.COLUMN_FIELD_PATHS.\n",
      "            \n"
     ]
    }
   ],
   "source": [
    "columns()"
   ]
  },
  {
   "cell_type": "markdown",
   "id": "818b9589",
   "metadata": {},
   "source": [
    "This output tells us that there are 74 searchable fields, but it doesn't output them directly. Running CDA commands like this first gives you an overall summary of the data you're going to get, and so is nice for doing a gut check. However, if we want to see the data on our screen we can have `columns()` print out it's contents to a list instead:"
   ]
  },
  {
   "cell_type": "code",
   "execution_count": 3,
   "id": "710beb05",
   "metadata": {},
   "outputs": [
    {
     "ename": "AttributeError",
     "evalue": "'NoneType' object has no attribute 'to_list'",
     "output_type": "error",
     "traceback": [
      "\u001b[0;31m---------------------------------------------------------------------------\u001b[0m",
      "\u001b[0;31mAttributeError\u001b[0m                            Traceback (most recent call last)",
      "\u001b[0;32m/var/folders/rg/vnn75sf557bcqfnmm_gcxs2r0000gq/T/ipykernel_10980/347201432.py\u001b[0m in \u001b[0;36m<module>\u001b[0;34m\u001b[0m\n\u001b[0;32m----> 1\u001b[0;31m \u001b[0mcolumns\u001b[0m\u001b[0;34m(\u001b[0m\u001b[0;34m)\u001b[0m\u001b[0;34m.\u001b[0m\u001b[0mto_list\u001b[0m\u001b[0;34m(\u001b[0m\u001b[0;34m)\u001b[0m\u001b[0;34m\u001b[0m\u001b[0;34m\u001b[0m\u001b[0m\n\u001b[0m",
      "\u001b[0;31mAttributeError\u001b[0m: 'NoneType' object has no attribute 'to_list'"
     ]
    }
   ],
   "source": [
    "columns().to_list()"
   ]
  },
  {
   "cell_type": "markdown",
   "id": "e54b644d",
   "metadata": {},
   "source": [
    "By default, `columns()` returns the first 100 items. If that is too many, you can limit your search to only a specified number: "
   ]
  },
  {
   "cell_type": "code",
   "execution_count": null,
   "id": "6d82cdb9",
   "metadata": {},
   "outputs": [],
   "source": [
    "columns(limit=10).to_list()"
   ]
  },
  {
   "cell_type": "markdown",
   "id": "82bead65",
   "metadata": {},
   "source": [
    "Or you can filter the list for terms that match your interests:"
   ]
  },
  {
   "cell_type": "code",
   "execution_count": null,
   "id": "f7f1efe9",
   "metadata": {},
   "outputs": [],
   "source": [
    "columns().to_list(filters=\"diagnosis\")"
   ]
  },
  {
   "cell_type": "markdown",
   "id": "b0a762a1",
   "metadata": {},
   "source": [
    "<div style=\"background-color:#f9cfbf;color:#000000;padding:20px;\">\n",
    "<strong>Check your search criteria!</strong>\n",
    "While available search fields may look like ones you've seen in PDC, GDC or IDC, that does not mean they will contain exactly the same information; several are renamed or restructured in the CDA model. The field name mappings are described in <a href=\"../Documentation/Schema.md\">CDA Schema Field Mapping.</a>\n",
    "</div>\n",
    "\n",
    "\n",
    "We can directly get information about what data populates any of these fields using the `unique_terms()` function. Like `columns`, `unique_terms` defaults to giving us an overview of the results, and we view them the same way:"
   ]
  },
  {
   "cell_type": "code",
   "execution_count": null,
   "id": "de0a868a",
   "metadata": {
    "scrolled": true
   },
   "outputs": [],
   "source": [
    "unique_terms(\"ResearchSubject.primary_diagnosis_site\").to_list()"
   ]
  },
  {
   "cell_type": "markdown",
   "id": "178d2870",
   "metadata": {},
   "source": [
    "We can use the same trick here to search for only diagnosis sites that we're interested in:"
   ]
  },
  {
   "cell_type": "code",
   "execution_count": null,
   "id": "cb653658",
   "metadata": {},
   "outputs": [],
   "source": [
    "unique_terms(\"ResearchSubject.primary_diagnosis_site\").to_list(filters=\"lung\")\n"
   ]
  },
  {
   "cell_type": "markdown",
   "id": "2c3028a8",
   "metadata": {},
   "source": [
    "We can use this same logic to look for partial matches. For instance, if I'm not sure whether the data I'm interested in would be labeled as \"uterine\" or \"uterus\" I might search for just \"uter\""
   ]
  },
  {
   "cell_type": "code",
   "execution_count": null,
   "id": "87217d17",
   "metadata": {
    "scrolled": true
   },
   "outputs": [],
   "source": [
    "unique_terms(\"ResearchSubject.primary_diagnosis_site\").to_list(filters=\"uter\")"
   ]
  },
  {
   "cell_type": "markdown",
   "id": "ac7e1e45",
   "metadata": {},
   "source": [
    "Success! Not only are there multiple ways that \"Uterus\" is specified in the CDA data, I now also know that there are also data for specific uterine tissues. \n",
    "\n",
    "---\n",
    "\n",
    "<div style=\"background-color:#f9cfbf;color:#000000;padding:20px;\">\n",
    "<strong>Check your search terms!</strong>\n",
    "If you run into unexpected results when running a search, be sure that you're searching all the terms you want. CDA data is not yet harmonized across centers, so there are many cases where a single term search will not return all the information you need, however the CDA provides tools that make it easy to search all forms of a term to enable cross dataset search.\n",
    "</div>\n",
    "\n",
    "---\n",
    "\n",
    "\n",
    "Explore the available terms by changing which table, how many results, and which unique terms you request. Once you have found terms you're interested in, head to [Basic Search](../BasicSearch) to build simple queries."
   ]
  }
 ],
 "metadata": {
  "interpreter": {
   "hash": "5c867d1980d5b66d2bfc8a5903dcee074b4b68f3917a4f27f8a310cab24e9f1b"
  },
  "kernelspec": {
   "display_name": "Python 3 (ipykernel)",
   "language": "python",
   "name": "python3"
  },
  "language_info": {
   "codemirror_mode": {
    "name": "ipython",
    "version": 3
   },
   "file_extension": ".py",
   "mimetype": "text/x-python",
   "name": "python",
   "nbconvert_exporter": "python",
   "pygments_lexer": "ipython3",
   "version": "3.7.13"
  },
  "metadata": {
   "interpreter": {
    "hash": "5c867d1980d5b66d2bfc8a5903dcee074b4b68f3917a4f27f8a310cab24e9f1b"
   }
  }
 },
 "nbformat": 4,
 "nbformat_minor": 5
}
