{
 "cells": [
  {
   "cell_type": "markdown",
   "id": "3c341e94",
   "metadata": {},
   "source": [
    "# Available Search Terms\n",
    "---"
   ]
  },
  {
   "cell_type": "markdown",
   "id": "a8387f59",
   "metadata": {},
   "source": [
    "Before we do any work, we need to import several functions from cdapython:\n",
    "- `Q` and `query` which power the search\n",
    "- `columns` which lets us view entity field names\n",
    "- `unique_terms` which lets view entity field contents\n",
    "\n",
    "We're also asking cdapython to report it's version so we can be sure we're using the one we mean to."
   ]
  },
  {
   "cell_type": "code",
   "execution_count": 29,
   "id": "28a10e23",
   "metadata": {},
   "outputs": [
    {
     "data": {
      "text/html": [
       "<pre style=\"white-space:pre;overflow-x:auto;line-height:normal;font-family:Menlo,'DejaVu Sans Mono',consolas,'Courier New',monospace\"><span style=\"color: #008080; text-decoration-color: #008080; font-weight: bold\">2022.7</span>.<span style=\"color: #008080; text-decoration-color: #008080; font-weight: bold\">13</span>\n",
       "</pre>\n"
      ],
      "text/plain": [
       "\u001b[1;36m2022.7\u001b[0m.\u001b[1;36m13\u001b[0m\n"
      ]
     },
     "metadata": {},
     "output_type": "display_data"
    }
   ],
   "source": [
    "from cdapython import Q, columns, unique_terms, query\n",
    "print(Q.get_version())"
   ]
  },
  {
   "cell_type": "markdown",
   "id": "0810c61c",
   "metadata": {},
   "source": [
    "\n",
    "\n",
    "<div class=\"cdanote\" style=\"background-color:#b3e5d5;color:black;padding:20px;\">\n",
    "    \n",
    "You can think of the CDA as a really, really enormous spreadsheet full of data. To search this enormous spreadsheet, you'd want select columns, and then filter rows.\n",
    "</div>\n",
    "\n",
    "Accordingly, to see what search fields are available, we use the command `columns`:"
   ]
  },
  {
   "cell_type": "code",
   "execution_count": 2,
   "id": "30f5a2a3",
   "metadata": {
    "scrolled": false
   },
   "outputs": [
    {
     "data": {
      "text/plain": [
       "\n",
       "            \n",
       "            Offset: 0\n",
       "            Count: 65\n",
       "            Total Row Count: 65\n",
       "            More pages: False\n",
       "            "
      ]
     },
     "execution_count": 2,
     "metadata": {},
     "output_type": "execute_result"
    }
   ],
   "source": [
    "columns()"
   ]
  },
  {
   "cell_type": "markdown",
   "id": "818b9589",
   "metadata": {},
   "source": [
    "This output tells us that there are 65 searchable fields, but it doesn't output them directly. Running CDA commands like this first gives you an overall summary of the data you're going to get, and so is nice for doing a gut check. However, if we want to see the data on our screen we can have `columns()` print out it's contents to a list instead:"
   ]
  },
  {
   "cell_type": "code",
   "execution_count": 3,
   "id": "710beb05",
   "metadata": {
    "scrolled": true
   },
   "outputs": [
    {
     "data": {
      "text/plain": [
       "['File.id',\n",
       " 'File.identifier.system',\n",
       " 'File.identifier.value',\n",
       " 'File.label',\n",
       " 'File.data_category',\n",
       " 'File.data_type',\n",
       " 'File.file_format',\n",
       " 'File.associated_project',\n",
       " 'File.drs_uri',\n",
       " 'File.byte_size',\n",
       " 'File.checksum',\n",
       " 'File.data_modality',\n",
       " 'File.imaging_modality',\n",
       " 'File.dbgap_accession_number',\n",
       " 'File.imaging_series',\n",
       " 'id',\n",
       " 'identifier.system',\n",
       " 'identifier.value',\n",
       " 'species',\n",
       " 'sex',\n",
       " 'race',\n",
       " 'ethnicity',\n",
       " 'days_to_birth',\n",
       " 'subject_associated_project',\n",
       " 'vital_status',\n",
       " 'days_to_death',\n",
       " 'cause_of_death',\n",
       " 'ResearchSubject.id',\n",
       " 'ResearchSubject.identifier.system',\n",
       " 'ResearchSubject.identifier.value',\n",
       " 'ResearchSubject.member_of_research_project',\n",
       " 'ResearchSubject.primary_diagnosis_condition',\n",
       " 'ResearchSubject.primary_diagnosis_site',\n",
       " 'ResearchSubject.Diagnosis.id',\n",
       " 'ResearchSubject.Diagnosis.identifier.system',\n",
       " 'ResearchSubject.Diagnosis.identifier.value',\n",
       " 'ResearchSubject.Diagnosis.primary_diagnosis',\n",
       " 'ResearchSubject.Diagnosis.age_at_diagnosis',\n",
       " 'ResearchSubject.Diagnosis.morphology',\n",
       " 'ResearchSubject.Diagnosis.stage',\n",
       " 'ResearchSubject.Diagnosis.grade',\n",
       " 'ResearchSubject.Diagnosis.method_of_diagnosis',\n",
       " 'ResearchSubject.Diagnosis.Treatment.id',\n",
       " 'ResearchSubject.Diagnosis.Treatment.identifier.system',\n",
       " 'ResearchSubject.Diagnosis.Treatment.identifier.value',\n",
       " 'ResearchSubject.Diagnosis.Treatment.treatment_type',\n",
       " 'ResearchSubject.Diagnosis.Treatment.treatment_outcome',\n",
       " 'ResearchSubject.Diagnosis.Treatment.days_to_treatment_start',\n",
       " 'ResearchSubject.Diagnosis.Treatment.days_to_treatment_end',\n",
       " 'ResearchSubject.Diagnosis.Treatment.therapeutic_agent',\n",
       " 'ResearchSubject.Diagnosis.Treatment.treatment_anatomic_site',\n",
       " 'ResearchSubject.Diagnosis.Treatment.treatment_effect',\n",
       " 'ResearchSubject.Diagnosis.Treatment.treatment_end_reason',\n",
       " 'ResearchSubject.Diagnosis.Treatment.number_of_cycles',\n",
       " 'ResearchSubject.Specimen.id',\n",
       " 'ResearchSubject.Specimen.identifier.system',\n",
       " 'ResearchSubject.Specimen.identifier.value',\n",
       " 'ResearchSubject.Specimen.associated_project',\n",
       " 'ResearchSubject.Specimen.days_to_collection',\n",
       " 'ResearchSubject.Specimen.primary_disease_type',\n",
       " 'ResearchSubject.Specimen.anatomical_site',\n",
       " 'ResearchSubject.Specimen.source_material_type',\n",
       " 'ResearchSubject.Specimen.specimen_type',\n",
       " 'ResearchSubject.Specimen.derived_from_specimen',\n",
       " 'ResearchSubject.Specimen.derived_from_subject']"
      ]
     },
     "execution_count": 3,
     "metadata": {},
     "output_type": "execute_result"
    }
   ],
   "source": [
    "columns().to_list()"
   ]
  },
  {
   "cell_type": "markdown",
   "id": "e54b644d",
   "metadata": {},
   "source": [
    "By default, `columns()` returns the first 100 items. If that is too many, you can limit your search to only a specified number: "
   ]
  },
  {
   "cell_type": "code",
   "execution_count": 4,
   "id": "6d82cdb9",
   "metadata": {},
   "outputs": [
    {
     "data": {
      "text/plain": [
       "['File.id',\n",
       " 'File.identifier.system',\n",
       " 'File.identifier.value',\n",
       " 'File.label',\n",
       " 'File.data_category',\n",
       " 'File.data_type',\n",
       " 'File.file_format',\n",
       " 'File.associated_project',\n",
       " 'File.drs_uri',\n",
       " 'File.byte_size']"
      ]
     },
     "execution_count": 4,
     "metadata": {},
     "output_type": "execute_result"
    }
   ],
   "source": [
    "columns(limit=10).to_list()"
   ]
  },
  {
   "cell_type": "markdown",
   "id": "82bead65",
   "metadata": {},
   "source": [
    "Or you can filter the list for terms that match your interests:"
   ]
  },
  {
   "cell_type": "code",
   "execution_count": 5,
   "id": "f7f1efe9",
   "metadata": {},
   "outputs": [
    {
     "data": {
      "text/plain": [
       "['ResearchSubject.primary_diagnosis_condition',\n",
       " 'ResearchSubject.primary_diagnosis_site',\n",
       " 'ResearchSubject.Diagnosis.id',\n",
       " 'ResearchSubject.Diagnosis.identifier.system',\n",
       " 'ResearchSubject.Diagnosis.identifier.value',\n",
       " 'ResearchSubject.Diagnosis.primary_diagnosis',\n",
       " 'ResearchSubject.Diagnosis.age_at_diagnosis',\n",
       " 'ResearchSubject.Diagnosis.morphology',\n",
       " 'ResearchSubject.Diagnosis.stage',\n",
       " 'ResearchSubject.Diagnosis.grade',\n",
       " 'ResearchSubject.Diagnosis.method_of_diagnosis',\n",
       " 'ResearchSubject.Diagnosis.Treatment.id',\n",
       " 'ResearchSubject.Diagnosis.Treatment.identifier.system',\n",
       " 'ResearchSubject.Diagnosis.Treatment.identifier.value',\n",
       " 'ResearchSubject.Diagnosis.Treatment.treatment_type',\n",
       " 'ResearchSubject.Diagnosis.Treatment.treatment_outcome',\n",
       " 'ResearchSubject.Diagnosis.Treatment.days_to_treatment_start',\n",
       " 'ResearchSubject.Diagnosis.Treatment.days_to_treatment_end',\n",
       " 'ResearchSubject.Diagnosis.Treatment.therapeutic_agent',\n",
       " 'ResearchSubject.Diagnosis.Treatment.treatment_anatomic_site',\n",
       " 'ResearchSubject.Diagnosis.Treatment.treatment_effect',\n",
       " 'ResearchSubject.Diagnosis.Treatment.treatment_end_reason',\n",
       " 'ResearchSubject.Diagnosis.Treatment.number_of_cycles']"
      ]
     },
     "execution_count": 5,
     "metadata": {},
     "output_type": "execute_result"
    }
   ],
   "source": [
    "columns().to_list(filters=\"diagnosis\")"
   ]
  },
  {
   "cell_type": "markdown",
   "id": "b0a762a1",
   "metadata": {},
   "source": [
    "<div class=\"cdawarn\" style=\"background-color:#f9cfbf;color:black;padding:20px;\">\n",
    "<strong>Check your search criteria!</strong>\n",
    "While available search fields may look like ones you've seen in PDC, GDC or IDC, that does not mean they will contain exactly the same information; several are renamed or restructured in the CDA model. The field name mappings are described in <a href=\"../../Schema/overview_mapping\">CDA Schema Field Mapping.</a>\n",
    "</div>\n",
    "\n",
    "\n",
    "We can directly get information about what data populates any of these fields using the `unique_terms()` function. Like `columns`, `unique_terms` defaults to giving us an overview of the results, and we view them the same way:"
   ]
  },
  {
   "cell_type": "code",
   "execution_count": 6,
   "id": "de0a868a",
   "metadata": {
    "scrolled": true
   },
   "outputs": [
    {
     "data": {
      "text/plain": [
       "['Abdomen',\n",
       " 'Abdomen, Mediastinum',\n",
       " 'Abdomen, Pelvis',\n",
       " 'Adrenal Glands',\n",
       " 'Adrenal gland',\n",
       " 'Anus and anal canal',\n",
       " 'Base of tongue',\n",
       " 'Bile Duct',\n",
       " 'Bladder',\n",
       " 'Bones, joints and articular cartilage of limbs',\n",
       " 'Bones, joints and articular cartilage of other and unspecified sites',\n",
       " 'Brain',\n",
       " 'Breast',\n",
       " 'Bronchus and lung',\n",
       " 'Cervix',\n",
       " 'Cervix uteri',\n",
       " 'Chest',\n",
       " 'Chest-Abdomen-Pelvis, Leg, TSpine',\n",
       " 'Colon',\n",
       " 'Connective, subcutaneous and other soft tissues',\n",
       " 'Corpus uteri',\n",
       " 'Ear',\n",
       " 'Esophagus',\n",
       " 'Extremities',\n",
       " 'Eye and adnexa',\n",
       " 'Floor of mouth',\n",
       " 'Gallbladder',\n",
       " 'Gum',\n",
       " 'Head',\n",
       " 'Head and Neck',\n",
       " 'Head-Neck',\n",
       " 'Heart, mediastinum, and pleura',\n",
       " 'Hematopoietic and reticuloendothelial systems',\n",
       " 'Hypopharynx',\n",
       " 'Intraocular',\n",
       " 'Kidney',\n",
       " 'Larynx',\n",
       " 'Lip',\n",
       " 'Liver',\n",
       " 'Liver and intrahepatic bile ducts',\n",
       " 'Lung',\n",
       " 'Lung Phantom',\n",
       " 'Lymph nodes',\n",
       " 'Marrow, Blood',\n",
       " 'Meninges',\n",
       " 'Mesothelium',\n",
       " 'Nasal cavity and middle ear',\n",
       " 'Nasopharynx',\n",
       " 'Not Reported',\n",
       " 'Oropharynx',\n",
       " 'Other and ill-defined digestive organs',\n",
       " 'Other and ill-defined sites',\n",
       " 'Other and ill-defined sites in lip, oral cavity and pharynx',\n",
       " 'Other and ill-defined sites within respiratory system and intrathoracic organs',\n",
       " 'Other and unspecified female genital organs',\n",
       " 'Other and unspecified major salivary glands',\n",
       " 'Other and unspecified male genital organs',\n",
       " 'Other and unspecified parts of biliary tract',\n",
       " 'Other and unspecified parts of mouth',\n",
       " 'Other and unspecified parts of tongue',\n",
       " 'Other and unspecified urinary organs',\n",
       " 'Other endocrine glands and related structures',\n",
       " 'Ovary',\n",
       " 'Palate',\n",
       " 'Pancreas',\n",
       " 'Pancreas ',\n",
       " 'Pelvis, Prostate, Anus',\n",
       " 'Penis',\n",
       " 'Peripheral nerves and autonomic nervous system',\n",
       " 'Phantom',\n",
       " 'Prostate',\n",
       " 'Prostate gland',\n",
       " 'Rectosigmoid junction',\n",
       " 'Rectum',\n",
       " 'Renal pelvis',\n",
       " 'Retroperitoneum and peritoneum',\n",
       " 'Skin',\n",
       " 'Small intestine',\n",
       " 'Spinal cord, cranial nerves, and other parts of central nervous system',\n",
       " 'Stomach',\n",
       " 'Testicles',\n",
       " 'Testis',\n",
       " 'Thymus',\n",
       " 'Thyroid',\n",
       " 'Thyroid gland',\n",
       " 'Tonsil',\n",
       " 'Trachea',\n",
       " 'Unknown',\n",
       " 'Ureter',\n",
       " 'Uterus',\n",
       " 'Uterus, NOS',\n",
       " 'Vagina',\n",
       " 'Various',\n",
       " 'Various (11 locations)',\n",
       " 'Vulva']"
      ]
     },
     "execution_count": 6,
     "metadata": {},
     "output_type": "execute_result"
    }
   ],
   "source": [
    "unique_terms(\"ResearchSubject.primary_diagnosis_site\").to_list()"
   ]
  },
  {
   "cell_type": "markdown",
   "id": "c2520918",
   "metadata": {},
   "source": [
    "When you are browsing for possible search terms, it can often be useful to see how much data they have. A quick way to see the overall volume of data for any given term is to use the `show_counts` option. This needs to be viewed as a dataframe since it is two dimensional data:"
   ]
  },
  {
   "cell_type": "code",
   "execution_count": 28,
   "id": "22985fce",
   "metadata": {},
   "outputs": [
    {
     "data": {
      "text/html": [
       "<div>\n",
       "<style scoped>\n",
       "    .dataframe tbody tr th:only-of-type {\n",
       "        vertical-align: middle;\n",
       "    }\n",
       "\n",
       "    .dataframe tbody tr th {\n",
       "        vertical-align: top;\n",
       "    }\n",
       "\n",
       "    .dataframe thead th {\n",
       "        text-align: right;\n",
       "    }\n",
       "</style>\n",
       "<table border=\"1\" class=\"dataframe\">\n",
       "  <thead>\n",
       "    <tr style=\"text-align: right;\">\n",
       "      <th></th>\n",
       "      <th>primary_diagnosis_site</th>\n",
       "      <th>Count</th>\n",
       "    </tr>\n",
       "  </thead>\n",
       "  <tbody>\n",
       "    <tr>\n",
       "      <th>0</th>\n",
       "      <td>Abdomen</td>\n",
       "      <td>92</td>\n",
       "    </tr>\n",
       "    <tr>\n",
       "      <th>1</th>\n",
       "      <td>Abdomen, Mediastinum</td>\n",
       "      <td>176</td>\n",
       "    </tr>\n",
       "    <tr>\n",
       "      <th>2</th>\n",
       "      <td>Abdomen, Pelvis</td>\n",
       "      <td>230</td>\n",
       "    </tr>\n",
       "    <tr>\n",
       "      <th>3</th>\n",
       "      <td>Adrenal Glands</td>\n",
       "      <td>271</td>\n",
       "    </tr>\n",
       "    <tr>\n",
       "      <th>4</th>\n",
       "      <td>Adrenal gland</td>\n",
       "      <td>851</td>\n",
       "    </tr>\n",
       "    <tr>\n",
       "      <th>...</th>\n",
       "      <td>...</td>\n",
       "      <td>...</td>\n",
       "    </tr>\n",
       "    <tr>\n",
       "      <th>90</th>\n",
       "      <td>Uterus, NOS</td>\n",
       "      <td>2000</td>\n",
       "    </tr>\n",
       "    <tr>\n",
       "      <th>91</th>\n",
       "      <td>Vagina</td>\n",
       "      <td>72</td>\n",
       "    </tr>\n",
       "    <tr>\n",
       "      <th>92</th>\n",
       "      <td>Various</td>\n",
       "      <td>449</td>\n",
       "    </tr>\n",
       "    <tr>\n",
       "      <th>93</th>\n",
       "      <td>Various (11 locations)</td>\n",
       "      <td>89</td>\n",
       "    </tr>\n",
       "    <tr>\n",
       "      <th>94</th>\n",
       "      <td>Vulva</td>\n",
       "      <td>10</td>\n",
       "    </tr>\n",
       "  </tbody>\n",
       "</table>\n",
       "<p>95 rows × 2 columns</p>\n",
       "</div>"
      ],
      "text/plain": [
       "    primary_diagnosis_site  Count\n",
       "0                  Abdomen     92\n",
       "1     Abdomen, Mediastinum    176\n",
       "2          Abdomen, Pelvis    230\n",
       "3           Adrenal Glands    271\n",
       "4            Adrenal gland    851\n",
       "..                     ...    ...\n",
       "90             Uterus, NOS   2000\n",
       "91                  Vagina     72\n",
       "92                 Various    449\n",
       "93  Various (11 locations)     89\n",
       "94                   Vulva     10\n",
       "\n",
       "[95 rows x 2 columns]"
      ]
     },
     "execution_count": 28,
     "metadata": {},
     "output_type": "execute_result"
    }
   ],
   "source": [
    "unique_terms(\"ResearchSubject.primary_diagnosis_site\", show_counts = True).to_dataframe()\n"
   ]
  },
  {
   "cell_type": "markdown",
   "id": "178d2870",
   "metadata": {},
   "source": [
    "We can also use the same `filters` option here to search for only diagnosis sites that we're interested in:"
   ]
  },
  {
   "cell_type": "code",
   "execution_count": 7,
   "id": "cb653658",
   "metadata": {},
   "outputs": [
    {
     "data": {
      "text/plain": [
       "['Bronchus and lung', 'Lung', 'Lung Phantom']"
      ]
     },
     "execution_count": 7,
     "metadata": {},
     "output_type": "execute_result"
    }
   ],
   "source": [
    "unique_terms(\"ResearchSubject.primary_diagnosis_site\").to_list(filters=\"lung\")\n"
   ]
  },
  {
   "cell_type": "markdown",
   "id": "2c3028a8",
   "metadata": {},
   "source": [
    "`filters` looks for both full and partial matches, which is useful for searching unharmonized data. For instance, if I'm not sure whether the data I'm interested in would be labeled as \"uterine\" or \"uterus\" I might search for just \"uter\""
   ]
  },
  {
   "cell_type": "code",
   "execution_count": null,
   "id": "87217d17",
   "metadata": {
    "scrolled": true
   },
   "outputs": [],
   "source": [
    "unique_terms(\"ResearchSubject.primary_diagnosis_site\").to_list(filters=\"uter\")"
   ]
  },
  {
   "cell_type": "markdown",
   "id": "ee1fa56d",
   "metadata": {},
   "source": [
    "Success! Not only are there multiple ways that \"Uterus\" is specified in the CDA data, I now also know that there are also data for specific uterine tissues. \n",
    "\n",
    "---\n",
    "\n",
    "<div class=\"cdawarn\" style=\"background-color:#f9cfbf;color:black;padding:20px;\">\n",
    "<strong>Check your search terms!</strong>\n",
    "If you run into unexpected results when running a search, be sure that you're searching all the terms you want. CDA data is not yet harmonized across centers, so there are many cases where a single term search will not return all the information you need, however the CDA provides tools that make it easy to search all forms of a term to enable cross dataset search.\n",
    "</div>\n",
    "\n",
    "---\n",
    "\n",
    "However, if your filter is very short, or a very common word, this partial match behavior might give too many results. To force the search to only find exact matches, add the `exact = True` option:"
   ]
  },
  {
   "cell_type": "code",
   "execution_count": 22,
   "id": "ccc6c192",
   "metadata": {},
   "outputs": [
    {
     "data": {
      "text/plain": [
       "['Lung']"
      ]
     },
     "execution_count": 22,
     "metadata": {},
     "output_type": "execute_result"
    }
   ],
   "source": [
    "unique_terms(\"ResearchSubject.primary_diagnosis_site\").to_list(filters=\"lung\", exact = True)"
   ]
  },
  {
   "cell_type": "code",
   "execution_count": 23,
   "id": "860c1fa1",
   "metadata": {},
   "outputs": [
    {
     "data": {
      "text/plain": [
       "[]"
      ]
     },
     "execution_count": 23,
     "metadata": {},
     "output_type": "execute_result"
    }
   ],
   "source": [
    "unique_terms(\"ResearchSubject.primary_diagnosis_site\").to_list(filters=\"uter\", exact = True)"
   ]
  },
  {
   "cell_type": "markdown",
   "id": "ac7e1e45",
   "metadata": {},
   "source": [
    "Explore the available terms by changing filters, how many results, and which unique terms you request. Once you have found terms you're interested in, head to <a href=\"../BasicSearch\">Basic Search</a> to build simple queries."
   ]
  }
 ],
 "metadata": {
  "interpreter": {
   "hash": "5c867d1980d5b66d2bfc8a5903dcee074b4b68f3917a4f27f8a310cab24e9f1b"
  },
  "kernelspec": {
   "display_name": "Python 3 (ipykernel)",
   "language": "python",
   "name": "python3"
  },
  "language_info": {
   "codemirror_mode": {
    "name": "ipython",
    "version": 3
   },
   "file_extension": ".py",
   "mimetype": "text/x-python",
   "name": "python",
   "nbconvert_exporter": "python",
   "pygments_lexer": "ipython3",
   "version": "3.10.4"
  },
  "metadata": {
   "interpreter": {
    "hash": "5c867d1980d5b66d2bfc8a5903dcee074b4b68f3917a4f27f8a310cab24e9f1b"
   }
  }
 },
 "nbformat": 4,
 "nbformat_minor": 5
}
