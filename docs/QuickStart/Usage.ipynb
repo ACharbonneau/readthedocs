{
 "cells": [
  {
   "cell_type": "markdown",
   "id": "3c341e94",
   "metadata": {},
   "source": [
    "# Command Quick Reference\n",
    "---"
   ]
  },
  {
   "cell_type": "markdown",
   "id": "a8387f59",
   "metadata": {},
   "source": [
    "## Loading cdapython package\n"
   ]
  },
  {
   "cell_type": "code",
   "execution_count": 1,
   "id": "d28fac08",
   "metadata": {},
   "outputs": [],
   "source": [
    "from cdapython import Q, columns, unique_terms, query"
   ]
  },
  {
   "cell_type": "markdown",
   "id": "c1e70d8e",
   "metadata": {},
   "source": [
    "## cdapython version"
   ]
  },
  {
   "cell_type": "code",
   "execution_count": 13,
   "id": "28a10e23",
   "metadata": {},
   "outputs": [
    {
     "name": "stdout",
     "output_type": "stream",
     "text": [
      "2022.6.28\n"
     ]
    }
   ],
   "source": [
    "import cdapython\n",
    "print(Q.get_version())"
   ]
  },
  {
   "cell_type": "markdown",
   "id": "0810c61c",
   "metadata": {},
   "source": [
    "## columns()\n",
    "\n",
    "Show all available columns in the table. By default, ```columns()``` returns ```Subject``` entity fields.\n",
    "\n",
    "\n",
    "**Usage:**\n",
    "`columns(<optional args>)`"
   ]
  },
  {
   "cell_type": "code",
   "execution_count": 3,
   "id": "30f5a2a3",
   "metadata": {
    "scrolled": false
   },
   "outputs": [
    {
     "name": "stdout",
     "output_type": "stream",
     "text": [
      "Help on function columns in module cdapython.utils.utility:\n",
      "\n",
      "columns(version: 'Optional[str]' = None, host: 'Optional[str]' = None, offset: 'int' = 0, limit: 'int' = 100, table: 'Optional[str]' = None, verify: 'Optional[bool]' = None, async_req: 'Optional[bool]' = None, pre_stream: 'bool' = True, files: 'Optional[bool]' = False, async_call: 'bool' = False, show_sql: 'bool' = False) -> \"Optional['StringResult']\"\n",
      "    [summary]\n",
      "    \n",
      "    Args:\n",
      "        version (Optional[str], optional): [description]. Defaults to table_version.\n",
      "        host (Optional[str], optional): [description]. Defaults to None.\n",
      "        limit (int, optional): [description]. Defaults to 100.\n",
      "        table (Optional[str], optional): [description]. Defaults to None.\n",
      "        verify (Optional[bool], optional): [description]. Defaults to None.\n",
      "        async_req (Optional[bool], optional): [description]. Defaults to None.\n",
      "        pre_stream (bool, optional): [description]. Defaults to True.\n",
      "    \n",
      "    Returns:\n",
      "        Optional[object]: [description]\n",
      "\n"
     ]
    }
   ],
   "source": [
    "help(columns)"
   ]
  },
  {
   "cell_type": "markdown",
   "id": "6e22c697",
   "metadata": {},
   "source": [
    "## unique_terms()\n",
    "\n",
    "For a given column show all unique terms.\n",
    "\n",
    "**Usage:** `unique_terms(<col_name>, <optional args>)`"
   ]
  },
  {
   "cell_type": "code",
   "execution_count": 4,
   "id": "d804f764",
   "metadata": {
    "scrolled": true
   },
   "outputs": [
    {
     "name": "stdout",
     "output_type": "stream",
     "text": [
      "Help on function unique_terms in module cdapython.utils.utility:\n",
      "\n",
      "unique_terms(col_name: 'str', system: 'str' = '', offset: 'int' = 0, limit: 'int' = 100, host: 'Optional[str]' = None, table: 'Optional[str]' = None, verify: 'Optional[bool]' = None, async_req: 'Optional[bool]' = None, version: 'Optional[str]' = 'all_Subjects_v3_0_final', files: 'Optional[bool]' = False, show_sql: 'bool' = False) -> \"Optional['StringResult']\"\n",
      "    [summary]\n",
      "    \n",
      "    Args:\n",
      "        col_name (str): [description]\n",
      "        system (str, optional): [description]. Defaults to \"\".\n",
      "        limit (int, optional): [description]. Defaults to 100.\n",
      "        host (Optional[str], optional): [description]. Defaults to None.\n",
      "        table (Optional[str], optional): [description]. Defaults to None.\n",
      "        verify (Optional[bool], optional): [description]. Defaults to None.\n",
      "        async_req (Optional[bool], optional): [description]. Defaults to None.\n",
      "        pre_stream (bool, optional): [description]. Defaults to True.\n",
      "    \n",
      "    Returns:\n",
      "        Optional[List[Any]]: [description]\n",
      "\n"
     ]
    }
   ],
   "source": [
    "help(unique_terms)"
   ]
  },
  {
   "cell_type": "markdown",
   "id": "b13db3f1",
   "metadata": {},
   "source": [
    "## Q()\n",
    "\n",
    "Executes this query on the public CDA server.\n",
    "\n",
    "**Usage:** `<result> = Q(<column> <operator> <value>)`\n",
    "\n",
    "**Where:**\n",
    "- `<result>` is any user created variable\n",
    "- `<column>` is a value from `columns()`\n",
    "- `<operator>` is a valid comparison operator\n",
    "- `<value>` is a numeric/boolean/unique value from `unique_terms()`\n",
    "\n",
    "**Returns:** cda-python Q data type\n",
    "    \n",
    "    "
   ]
  },
  {
   "cell_type": "markdown",
   "id": "537984c5",
   "metadata": {},
   "source": [
    "### Q().run()\n",
    "\n",
    "Retrieves results of a `Q()` query.\n",
    "\n",
    "**Usage:** `<result>.run(<optional args>)`\n",
    "\n",
    "**Where:**\n",
    "- `<result>` is a user created variable containing an executed `Q()` query"
   ]
  },
  {
   "cell_type": "code",
   "execution_count": 5,
   "id": "47e76294",
   "metadata": {
    "scrolled": false
   },
   "outputs": [
    {
     "name": "stdout",
     "output_type": "stream",
     "text": [
      "Help on function run in module cdapython.Q:\n",
      "\n",
      "run(self: ~TQ, offset: int = 0, limit: int = 100, version: Union[str, NoneType] = None, host: Union[str, NoneType] = None, dry_run: bool = False, table: Union[str, NoneType] = None, async_call: bool = False, verify: Union[bool, NoneType] = None, verbose: Union[bool, NoneType] = True, filter: Union[str, NoneType] = None, flatten: Union[bool, NoneType] = False, format: str = 'json', show_sql: Union[bool, NoneType] = False) -> Union[cdapython.results.result.Result, cda_client.model.query_created_data.QueryCreatedData, multiprocessing.pool.ApplyResult]\n",
      "    _summary_\n",
      "    \n",
      "    Args:\n",
      "        offset (int, optional): _description_. Defaults to 0.\n",
      "        limit (int, optional): _description_. Defaults to 100.\n",
      "        version (Optional[str], optional): _description_. Defaults to None.\n",
      "        host (Optional[str], optional): _description_. Defaults to None.\n",
      "        dry_run (bool, optional): _description_. Defaults to False.\n",
      "        table (Optional[str], optional): _description_. Defaults to None.\n",
      "        async_call (bool, optional): _description_. Defaults to False.\n",
      "        verify (Optional[bool], optional): _description_. Defaults to None.\n",
      "        verbose (Optional[bool], optional): _description_. Defaults to True.\n",
      "        filter (Optional[str], optional): _description_. Defaults to None.\n",
      "        flatten (Optional[bool], optional): _description_. Defaults to False.\n",
      "        format (Optional[str], optional): _description_. Defaults to \"json\".\n",
      "    \n",
      "    Returns:\n",
      "        Optional[Result]: _description_\n",
      "\n"
     ]
    }
   ],
   "source": [
    "help(Q.run)"
   ]
  },
  {
   "cell_type": "markdown",
   "id": "f4218838",
   "metadata": {},
   "source": [
    "### Q().count()\n",
    "\n",
    "Retrieves summary counts of a `Q()` query.\n",
    "\n",
    "**Usage:** `<result>.count()`\n",
    "\n",
    "**Where:**\n",
    "- `<result>` is a user created variable containing an executed `Q()` query"
   ]
  },
  {
   "cell_type": "markdown",
   "id": "40c5946d",
   "metadata": {},
   "source": [
    "### Valid `Q()` comparsion operators \n",
    "\n",
    "`Q` uses the following operators:,\n",
    "\n",
    "- `=` : Equals\n",
    "- `!=` : Not Equal\n",
    "- `OR`\n",
    "- `AND`\n",
    "- `IN` and `NOT IN`\\\n",
    "- `%`: pattern matching a wildcard\n",
    "- `IS` and `IS NOT`\n",
    "- `>`, `>`, `>=`, `<=`: Greater and Less than\n",
    "\n",
    "Check out the [Operators guide](../../Examples/Operators/#Equals:-=) for more info"
   ]
  },
  {
   "cell_type": "markdown",
   "id": "cd1cea07",
   "metadata": {},
   "source": [
    "# Pagination\n",
    "\n",
    "By default, `Q` only returns the first 100 rows of data for each search. This keeps search fast while still allowing you to preview the data. Once you have a query that returns the data you want, you'll use the `paginator` function to return all the data as a dataframe or list.\n",
    "\n",
    "## Usage:\n",
    "\n",
    "### To write to a dataframe\n",
    "``` python\n",
    "\n",
    "import pandas as pd\n",
    "myquery = Q(<your search parameters>) \n",
    "    \n",
    "mydataframe = pd.DataFrame() #create an emptydataframe\n",
    "for i in myquery.paginator(to_df=True): #loops through entire result, appending each page to your dataframe\n",
    "    mydataframe = pd.concat([mydataframe, i])\n",
    "```\n",
    "\n",
    "### To write to a list\n",
    "\n",
    "``` python\n",
    "import pandas as pd\n",
    "myquery = Q(<your search parameters>) \n",
    "\n",
    "mylist = []\n",
    "for i in myquery.subject.run().paginator(to_list=True):\n",
    "    mylist.extend(i)\n",
    "```"
   ]
  },
  {
   "cell_type": "markdown",
   "id": "a3eb7706",
   "metadata": {},
   "source": [
    "# Filter\n",
    "\n",
    "Returns only the requested columns in a result. Can be used to return fewer columns from an endpoint, or to add columns that would not normally be returned to an endpoint result. In either case all desired columns must be listed.\n",
    "\n",
    "Return single column:\n",
    "\n",
    "`Usage: myquery.run(filter=\"<column>\")`\n",
    "\n",
    "Return multiple columns:\n",
    "\n",
    "`Usage: myquery.run(filter=\"<column> <column> <column>\")`\n",
    "\n",
    "To add large numbers of columns to a result, it may be easier to get data from two endpoints and merge them, see an example in the [Cohort Building workflow](../../Examples/BuildingACohort/#merging-results-across-endpoints)"
   ]
  }
 ],
 "metadata": {
  "interpreter": {
   "hash": "5c867d1980d5b66d2bfc8a5903dcee074b4b68f3917a4f27f8a310cab24e9f1b"
  },
  "kernelspec": {
   "display_name": "Python 3 (ipykernel)",
   "language": "python",
   "name": "python3"
  },
  "language_info": {
   "codemirror_mode": {
    "name": "ipython",
    "version": 3
   },
   "file_extension": ".py",
   "mimetype": "text/x-python",
   "name": "python",
   "nbconvert_exporter": "python",
   "pygments_lexer": "ipython3",
   "version": "3.7.13"
  },
  "metadata": {
   "interpreter": {
    "hash": "5c867d1980d5b66d2bfc8a5903dcee074b4b68f3917a4f27f8a310cab24e9f1b"
   }
  }
 },
 "nbformat": 4,
 "nbformat_minor": 5
}
